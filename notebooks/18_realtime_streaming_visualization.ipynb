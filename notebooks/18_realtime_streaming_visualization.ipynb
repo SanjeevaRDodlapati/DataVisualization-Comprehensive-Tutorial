{
 "cells": [
  {
   "cell_type": "markdown",
   "id": "cdb881d0",
   "metadata": {},
   "source": [
    "# ⚡ Module 18: Real-time Data Visualization & Streaming Analytics\n",
    "\n",
    "## 🎯 Learning Objectives\n",
    "By the end of this module, you will master:\n",
    "- **📊 Real-time Dashboard Creation** using Plotly Dash and Streamlit\n",
    "- **🔄 Streaming Data Processing** with live data feeds and websockets\n",
    "- **📈 Time-series Streaming** for financial, IoT, and monitoring applications\n",
    "- **⚡ Performance Optimization** for high-frequency data updates\n",
    "- **🌐 Web-based Live Dashboards** with auto-refresh and real-time alerts\n",
    "- **📱 Mobile-responsive** real-time visualization design\n",
    "\n",
    "## ⚡ What You'll Build\n",
    "- Live financial trading dashboard with real-time price feeds\n",
    "- IoT sensor monitoring system with alerts\n",
    "- Social media sentiment streaming analyzer\n",
    "- Real-time analytics dashboard for e-commerce metrics\n",
    "- Performance monitoring system with live alerts\n",
    "\n",
    "## 🚀 Applications\n",
    "- **Financial Trading**: Live market data and algorithmic trading dashboards\n",
    "- **IoT Monitoring**: Sensor networks, smart city, industrial automation\n",
    "- **Social Media**: Real-time sentiment analysis and trend detection\n",
    "- **E-commerce**: Live sales metrics, inventory tracking, customer analytics\n",
    "- **System Monitoring**: Server performance, network traffic, error tracking\n",
    "\n",
    "---"
   ]
  },
  {
   "cell_type": "code",
   "execution_count": 1,
   "id": "de35ca6d",
   "metadata": {},
   "outputs": [
    {
     "name": "stdout",
     "output_type": "stream",
     "text": [
      "⚡ REAL-TIME DATA VISUALIZATION & STREAMING ANALYTICS\n",
      "=================================================================\n",
      "✅ All libraries imported successfully!\n",
      "🎯 Ready for real-time dashboard creation and streaming data processing\n",
      "🔄 Covering: Live dashboards, streaming data, performance optimization\n",
      "\n",
      "📁 Output directory created: /Users/sanjeevadodlapati/Downloads/Repos/DataVisualization-Comprehensive-Tutorial/outputs/streaming_dashboards\n",
      "🚀 Ready to build real-time visualization systems!\n"
     ]
    }
   ],
   "source": [
    "# ⚡ Real-time Data Visualization & Streaming Analytics\n",
    "# Module 18: Advanced streaming dashboards and live data processing\n",
    "\n",
    "# Core data manipulation and analysis\n",
    "import pandas as pd\n",
    "import numpy as np\n",
    "from datetime import datetime, timedelta\n",
    "import time\n",
    "import warnings\n",
    "warnings.filterwarnings('ignore')\n",
    "\n",
    "# Real-time and streaming libraries\n",
    "import asyncio\n",
    "import websocket\n",
    "import json\n",
    "import requests\n",
    "from threading import Thread\n",
    "import queue\n",
    "\n",
    "# Visualization libraries\n",
    "import matplotlib.pyplot as plt\n",
    "import matplotlib.animation as animation\n",
    "import seaborn as sns\n",
    "import plotly.express as px\n",
    "import plotly.graph_objects as go\n",
    "from plotly.subplots import make_subplots\n",
    "import plotly.figure_factory as ff\n",
    "\n",
    "# Dashboard and web frameworks\n",
    "import streamlit as st\n",
    "import dash\n",
    "from dash import dcc, html\n",
    "from dash.dependencies import Input, Output\n",
    "\n",
    "# Data streaming simulation\n",
    "import random\n",
    "from collections import deque\n",
    "\n",
    "# Interactive widgets\n",
    "import ipywidgets as widgets\n",
    "from IPython.display import display, HTML, clear_output\n",
    "\n",
    "# Configure plotting environments\n",
    "plt.style.use('default')\n",
    "sns.set_palette(\"husl\")\n",
    "import plotly.io as pio\n",
    "pio.templates.default = \"plotly_white\"\n",
    "\n",
    "print(\"⚡ REAL-TIME DATA VISUALIZATION & STREAMING ANALYTICS\")\n",
    "print(\"=\" * 65)\n",
    "print(\"✅ All libraries imported successfully!\")\n",
    "print(\"🎯 Ready for real-time dashboard creation and streaming data processing\")\n",
    "print(\"🔄 Covering: Live dashboards, streaming data, performance optimization\")\n",
    "\n",
    "# Create output directory for streaming visualizations\n",
    "import os\n",
    "streaming_dir = \"/Users/sanjeevadodlapati/Downloads/Repos/DataVisualization-Comprehensive-Tutorial/outputs/streaming_dashboards\"\n",
    "os.makedirs(streaming_dir, exist_ok=True)\n",
    "print(f\"\\n📁 Output directory created: {streaming_dir}\")\n",
    "print(\"🚀 Ready to build real-time visualization systems!\")"
   ]
  },
  {
   "cell_type": "code",
   "execution_count": 2,
   "id": "5347fef5",
   "metadata": {},
   "outputs": [
    {
     "name": "stdout",
     "output_type": "stream",
     "text": [
      "📊 Creating Streaming Data Sources\n",
      "=============================================\n",
      "📊 STREAMING DATA GENERATORS CREATED:\n",
      "=============================================\n",
      "💰 Financial Markets: Stock prices, volume, volatility\n",
      "🌡️  IoT Sensors: Temperature, humidity, pressure readings\n",
      "🛒 E-commerce: Users, orders, revenue, conversion metrics\n",
      "📱 Social Media: Mentions, engagement, sentiment analysis\n",
      "💻 System Monitoring: CPU, memory, response times, errors\n",
      "\n",
      "🔄 SAMPLE DATA GENERATION:\n",
      "===================================\n",
      "💰 Financial Sample: {'timestamp': datetime.datetime(2025, 8, 27, 2, 57, 8, 315496), 'symbol': 'AAPL', 'price': 149.23, 'volume': 19371, 'high': 149.37, 'low': 149.04, 'change': -0.77, 'change_percent': -0.51}\n",
      "🌡️  IoT Sample: {'timestamp': datetime.datetime(2025, 8, 27, 2, 57, 8, 315614), 'sensor_id': 'TEMP_001', 'temperature': np.float64(21.9), 'humidity': 31.6, 'pressure': 1010.6, 'battery_level': 99.9, 'signal_strength': 74.8}\n",
      "🛒 E-commerce Sample: {'timestamp': datetime.datetime(2025, 8, 27, 2, 57, 8, 315703), 'active_users': 246, 'page_views': 1021, 'orders': 27, 'revenue': 19.34, 'cart_abandonment': 0.65, 'conversion_rate': 0.0317}\n",
      "\n",
      "📈 Collecting Initial Streaming Data...\n",
      "✅ Initial data collection complete!\n",
      "📊 Buffer status:\n",
      "   💰 Financial: 20 records\n",
      "   🌡️  IoT: 20 records\n",
      "   🛒 E-commerce: 20 records\n",
      "   📱 Social: 20 records\n",
      "   💻 System: 20 records\n",
      "\n",
      "🚀 Ready for real-time visualization!\n"
     ]
    }
   ],
   "source": [
    "# 📊 Streaming Data Source Simulation\n",
    "# Create realistic streaming data generators for various applications\n",
    "\n",
    "print(\"📊 Creating Streaming Data Sources\")\n",
    "print(\"=\" * 45)\n",
    "\n",
    "class StreamingDataGenerator:\n",
    "    \"\"\"\n",
    "    Generate realistic streaming data for various applications\n",
    "    \"\"\"\n",
    "    \n",
    "    def __init__(self):\n",
    "        self.start_time = datetime.now()\n",
    "        \n",
    "    def generate_financial_data(self, symbol=\"AAPL\", base_price=150.0):\n",
    "        \"\"\"Generate realistic stock price data with volatility\"\"\"\n",
    "        current_time = datetime.now()\n",
    "        \n",
    "        # Random walk with trend and volatility\n",
    "        price_change = np.random.normal(0, 0.5)  # Small random changes\n",
    "        new_price = max(base_price + price_change, 10.0)  # Prevent negative prices\n",
    "        \n",
    "        volume = np.random.randint(1000, 50000)\n",
    "        \n",
    "        return {\n",
    "            'timestamp': current_time,\n",
    "            'symbol': symbol,\n",
    "            'price': round(new_price, 2),\n",
    "            'volume': volume,\n",
    "            'high': round(new_price + abs(np.random.normal(0, 0.2)), 2),\n",
    "            'low': round(new_price - abs(np.random.normal(0, 0.2)), 2),\n",
    "            'change': round(price_change, 2),\n",
    "            'change_percent': round((price_change / base_price) * 100, 2)\n",
    "        }\n",
    "    \n",
    "    def generate_iot_sensor_data(self, sensor_id=\"TEMP_001\"):\n",
    "        \"\"\"Generate IoT sensor readings with realistic patterns\"\"\"\n",
    "        current_time = datetime.now()\n",
    "        \n",
    "        # Simulate temperature sensor with daily pattern\n",
    "        hour = current_time.hour\n",
    "        base_temp = 20 + 5 * np.sin(2 * np.pi * hour / 24)  # Daily temperature cycle\n",
    "        noise = np.random.normal(0, 0.5)\n",
    "        temperature = round(base_temp + noise, 1)\n",
    "        \n",
    "        # Simulate other sensor readings\n",
    "        humidity = max(min(50 + np.random.normal(0, 10), 100), 0)\n",
    "        pressure = round(1013.25 + np.random.normal(0, 5), 2)\n",
    "        \n",
    "        return {\n",
    "            'timestamp': current_time,\n",
    "            'sensor_id': sensor_id,\n",
    "            'temperature': temperature,\n",
    "            'humidity': round(humidity, 1),\n",
    "            'pressure': pressure,\n",
    "            'battery_level': max(round(100 - np.random.exponential(0.1), 1), 0),\n",
    "            'signal_strength': round(np.random.uniform(50, 100), 1)\n",
    "        }\n",
    "    \n",
    "    def generate_ecommerce_metrics(self):\n",
    "        \"\"\"Generate real-time e-commerce metrics\"\"\"\n",
    "        current_time = datetime.now()\n",
    "        \n",
    "        # Simulate business hours patterns\n",
    "        hour = current_time.hour\n",
    "        business_multiplier = 1.5 if 9 <= hour <= 17 else 0.5\n",
    "        \n",
    "        return {\n",
    "            'timestamp': current_time,\n",
    "            'active_users': int(np.random.poisson(500 * business_multiplier)),\n",
    "            'page_views': int(np.random.poisson(2000 * business_multiplier)),\n",
    "            'orders': int(np.random.poisson(50 * business_multiplier)),\n",
    "            'revenue': round(np.random.exponential(100) * business_multiplier, 2),\n",
    "            'cart_abandonment': round(np.random.uniform(0.6, 0.8), 3),\n",
    "            'conversion_rate': round(np.random.uniform(0.02, 0.05), 4)\n",
    "        }\n",
    "    \n",
    "    def generate_social_media_metrics(self):\n",
    "        \"\"\"Generate social media engagement metrics\"\"\"\n",
    "        current_time = datetime.now()\n",
    "        \n",
    "        return {\n",
    "            'timestamp': current_time,\n",
    "            'mentions': np.random.poisson(25),\n",
    "            'likes': np.random.poisson(150),\n",
    "            'shares': np.random.poisson(30),\n",
    "            'comments': np.random.poisson(45),\n",
    "            'sentiment_score': round(np.random.uniform(-1, 1), 3),\n",
    "            'reach': np.random.poisson(5000),\n",
    "            'engagement_rate': round(np.random.uniform(0.01, 0.08), 4)\n",
    "        }\n",
    "    \n",
    "    def generate_system_monitoring_data(self, server_id=\"WEB-01\"):\n",
    "        \"\"\"Generate system performance monitoring data\"\"\"\n",
    "        current_time = datetime.now()\n",
    "        \n",
    "        # Simulate system load with occasional spikes\n",
    "        spike_probability = 0.05\n",
    "        if np.random.random() < spike_probability:\n",
    "            cpu_usage = np.random.uniform(80, 95)\n",
    "            memory_usage = np.random.uniform(85, 98)\n",
    "            response_time = np.random.uniform(1000, 3000)\n",
    "        else:\n",
    "            cpu_usage = np.random.uniform(20, 60)\n",
    "            memory_usage = np.random.uniform(40, 75)\n",
    "            response_time = np.random.uniform(50, 300)\n",
    "        \n",
    "        return {\n",
    "            'timestamp': current_time,\n",
    "            'server_id': server_id,\n",
    "            'cpu_usage': round(cpu_usage, 1),\n",
    "            'memory_usage': round(memory_usage, 1),\n",
    "            'disk_usage': round(np.random.uniform(30, 85), 1),\n",
    "            'network_io': round(np.random.uniform(10, 500), 1),\n",
    "            'response_time': round(response_time, 1),\n",
    "            'error_count': np.random.poisson(2),\n",
    "            'active_connections': np.random.poisson(100)\n",
    "        }\n",
    "\n",
    "# Initialize streaming data generator\n",
    "stream_generator = StreamingDataGenerator()\n",
    "\n",
    "# Create data buffers for real-time storage\n",
    "class DataBuffer:\n",
    "    \"\"\"Thread-safe circular buffer for streaming data\"\"\"\n",
    "    \n",
    "    def __init__(self, max_size=1000):\n",
    "        self.buffer = deque(maxlen=max_size)\n",
    "        self.max_size = max_size\n",
    "    \n",
    "    def add(self, data):\n",
    "        self.buffer.append(data)\n",
    "    \n",
    "    def get_recent(self, n=100):\n",
    "        return list(self.buffer)[-n:]\n",
    "    \n",
    "    def get_all(self):\n",
    "        return list(self.buffer)\n",
    "    \n",
    "    def to_dataframe(self):\n",
    "        if self.buffer:\n",
    "            return pd.DataFrame(list(self.buffer))\n",
    "        return pd.DataFrame()\n",
    "\n",
    "# Initialize data buffers for different streams\n",
    "financial_buffer = DataBuffer(max_size=500)\n",
    "iot_buffer = DataBuffer(max_size=1000)\n",
    "ecommerce_buffer = DataBuffer(max_size=300)\n",
    "social_buffer = DataBuffer(max_size=200)\n",
    "system_buffer = DataBuffer(max_size=800)\n",
    "\n",
    "print(\"📊 STREAMING DATA GENERATORS CREATED:\")\n",
    "print(\"=\" * 45)\n",
    "print(\"💰 Financial Markets: Stock prices, volume, volatility\")\n",
    "print(\"🌡️  IoT Sensors: Temperature, humidity, pressure readings\")\n",
    "print(\"🛒 E-commerce: Users, orders, revenue, conversion metrics\")\n",
    "print(\"📱 Social Media: Mentions, engagement, sentiment analysis\")\n",
    "print(\"💻 System Monitoring: CPU, memory, response times, errors\")\n",
    "\n",
    "# Demonstrate data generation\n",
    "print(f\"\\n🔄 SAMPLE DATA GENERATION:\")\n",
    "print(\"=\" * 35)\n",
    "\n",
    "# Generate sample data\n",
    "financial_sample = stream_generator.generate_financial_data()\n",
    "iot_sample = stream_generator.generate_iot_sensor_data()\n",
    "ecommerce_sample = stream_generator.generate_ecommerce_metrics()\n",
    "\n",
    "print(f\"💰 Financial Sample: {financial_sample}\")\n",
    "print(f\"🌡️  IoT Sample: {iot_sample}\")\n",
    "print(f\"🛒 E-commerce Sample: {ecommerce_sample}\")\n",
    "\n",
    "# Start collecting some initial data\n",
    "print(f\"\\n📈 Collecting Initial Streaming Data...\")\n",
    "for i in range(20):\n",
    "    financial_buffer.add(stream_generator.generate_financial_data())\n",
    "    iot_buffer.add(stream_generator.generate_iot_sensor_data())\n",
    "    ecommerce_buffer.add(stream_generator.generate_ecommerce_metrics())\n",
    "    social_buffer.add(stream_generator.generate_social_media_metrics())\n",
    "    system_buffer.add(stream_generator.generate_system_monitoring_data())\n",
    "\n",
    "print(f\"✅ Initial data collection complete!\")\n",
    "print(f\"📊 Buffer status:\")\n",
    "print(f\"   💰 Financial: {len(financial_buffer.get_all())} records\")\n",
    "print(f\"   🌡️  IoT: {len(iot_buffer.get_all())} records\")\n",
    "print(f\"   🛒 E-commerce: {len(ecommerce_buffer.get_all())} records\")\n",
    "print(f\"   📱 Social: {len(social_buffer.get_all())} records\")\n",
    "print(f\"   💻 System: {len(system_buffer.get_all())} records\")\n",
    "\n",
    "print(f\"\\n🚀 Ready for real-time visualization!\")"
   ]
  },
  {
   "cell_type": "code",
   "execution_count": 4,
   "id": "81c63617",
   "metadata": {},
   "outputs": [
    {
     "name": "stdout",
     "output_type": "stream",
     "text": [
      "💰 Creating Real-time Financial Trading Dashboard\n",
      "=======================================================\n",
      "📈 Simulating Live Market Data Feed...\n",
      "   ✅ Generated 500 market data points across 5 symbols\n"
     ]
    },
    {
     "data": {
      "application/vnd.plotly.v1+json": {
       "config": {
        "plotlyServerURL": "https://plot.ly"
       },
       "data": [
        {
         "hovertemplate": "AAPL<br>Time: %{x}<br>Price: $%{y:.2f}<extra></extra>",
         "line": {
          "color": "rgb(228,26,28)",
          "width": 2
         },
         "mode": "lines",
         "name": "AAPL Price",
         "type": "scatter",
         "x": [
          "2025-08-27T03:02:47.459179000",
          "2025-08-27T03:02:47.460319000",
          "2025-08-27T03:02:47.461591000",
          "2025-08-27T03:02:47.463058000",
          "2025-08-27T03:02:47.464451000",
          "2025-08-27T03:02:47.465640000",
          "2025-08-27T03:02:47.466787000",
          "2025-08-27T03:02:47.467915000",
          "2025-08-27T03:02:47.469268000",
          "2025-08-27T03:02:47.470416000",
          "2025-08-27T03:02:47.471635000",
          "2025-08-27T03:02:47.472997000",
          "2025-08-27T03:02:47.474130000",
          "2025-08-27T03:02:47.475501000",
          "2025-08-27T03:02:47.476745000",
          "2025-08-27T03:02:47.478129000",
          "2025-08-27T03:02:47.479497000",
          "2025-08-27T03:02:47.480914000",
          "2025-08-27T03:02:47.482321000",
          "2025-08-27T03:02:47.483696000",
          "2025-08-27T03:02:47.484858000",
          "2025-08-27T03:02:47.486230000",
          "2025-08-27T03:02:47.487671000",
          "2025-08-27T03:02:47.488882000",
          "2025-08-27T03:02:47.490269000",
          "2025-08-27T03:02:47.491631000",
          "2025-08-27T03:02:47.492897000",
          "2025-08-27T03:02:47.494228000",
          "2025-08-27T03:02:47.495399000",
          "2025-08-27T03:02:47.496873000",
          "2025-08-27T03:02:47.498090000",
          "2025-08-27T03:02:47.499209000",
          "2025-08-27T03:02:47.500382000",
          "2025-08-27T03:02:47.501903000",
          "2025-08-27T03:02:47.503385000",
          "2025-08-27T03:02:47.504749000",
          "2025-08-27T03:02:47.506319000",
          "2025-08-27T03:02:47.507869000",
          "2025-08-27T03:02:47.509423000",
          "2025-08-27T03:02:47.510917000",
          "2025-08-27T03:02:47.512203000",
          "2025-08-27T03:02:47.513594000",
          "2025-08-27T03:02:47.515096000",
          "2025-08-27T03:02:47.516310000",
          "2025-08-27T03:02:47.517686000",
          "2025-08-27T03:02:47.519221000",
          "2025-08-27T03:02:47.520586000",
          "2025-08-27T03:02:47.521956000",
          "2025-08-27T03:02:47.523389000",
          "2025-08-27T03:02:47.524618000",
          "2025-08-27T03:02:47.526016000",
          "2025-08-27T03:02:47.527386000",
          "2025-08-27T03:02:47.528571000",
          "2025-08-27T03:02:47.529712000",
          "2025-08-27T03:02:47.530879000",
          "2025-08-27T03:02:47.532228000",
          "2025-08-27T03:02:47.533596000",
          "2025-08-27T03:02:47.534818000",
          "2025-08-27T03:02:47.536201000",
          "2025-08-27T03:02:47.537445000",
          "2025-08-27T03:02:47.538723000",
          "2025-08-27T03:02:47.540097000",
          "2025-08-27T03:02:47.541494000",
          "2025-08-27T03:02:47.542949000",
          "2025-08-27T03:02:47.544385000",
          "2025-08-27T03:02:47.545825000",
          "2025-08-27T03:02:47.546994000",
          "2025-08-27T03:02:47.548368000",
          "2025-08-27T03:02:47.549745000",
          "2025-08-27T03:02:47.551130000",
          "2025-08-27T03:02:47.552431000",
          "2025-08-27T03:02:47.553528000",
          "2025-08-27T03:02:47.554968000",
          "2025-08-27T03:02:47.556492000",
          "2025-08-27T03:02:47.557976000",
          "2025-08-27T03:02:47.559470000",
          "2025-08-27T03:02:47.560970000",
          "2025-08-27T03:02:47.562228000",
          "2025-08-27T03:02:47.563480000",
          "2025-08-27T03:02:47.564999000",
          "2025-08-27T03:02:47.566475000",
          "2025-08-27T03:02:47.567825000",
          "2025-08-27T03:02:47.569319000",
          "2025-08-27T03:02:47.570816000",
          "2025-08-27T03:02:47.572412000",
          "2025-08-27T03:02:47.573930000",
          "2025-08-27T03:02:47.575480000",
          "2025-08-27T03:02:47.576858000",
          "2025-08-27T03:02:47.578409000",
          "2025-08-27T03:02:47.579981000",
          "2025-08-27T03:02:47.581396000",
          "2025-08-27T03:02:47.582792000",
          "2025-08-27T03:02:47.584178000",
          "2025-08-27T03:02:47.585351000",
          "2025-08-27T03:02:47.586759000",
          "2025-08-27T03:02:47.588159000",
          "2025-08-27T03:02:47.589708000",
          "2025-08-27T03:02:47.591282000",
          "2025-08-27T03:02:47.592879000",
          "2025-08-27T03:02:47.594370000"
         ],
         "xaxis": "x",
         "y": {
          "bdata": "PQrXo3DFYkDNzMzMzMxiQI/C9Shc52JA4XoUrkfhYkCamZmZmdliQOxRuB6F22JArkfhehTWYkBSuB6F69FiQFK4HoXrwWJApHA9CtfTYkBSuB6F67FiQAAAAAAAyGJAcT0K16PAYkBxPQrXo+BiQAAAAAAA8GJAMzMzMzPrYkCkcD0K19NiQB+F61G41mJArkfhehTOYkBcj8L1KNRiQClcj8L1yGJAZmZmZmbeYkCamZmZmcFiQJqZmZmZuWJA7FG4HoW7YkBSuB6F69liQAAAAAAAwGJAMzMzMzPLYkDhehSuR+FiQClcj8L14GJAuB6F61HgYkAUrkfherxiQM3MzMzMxGJAj8L1KFyvYkAAAAAAAKhiQHsUrkfhqmJAAAAAAAC4YkAfhetRuMZiQB+F61G4vmJA4XoUrkfRYkBI4XoUru9iQOF6FK5H6WJA9ihcj8LFYkApXI/C9chiQIXrUbgexWJAMzMzMzPjYkDXo3A9Ct9iQDMzMzMz42JAexSuR+HKYkDsUbgehbtiQMP1KFyPumJAMzMzMzOzYkA9CtejcK1iQBSuR+F6pGJAXI/C9Si8YkBxPQrXo7BiQI/C9Shcn2JAcT0K16OAYkB7FK5H4YpiQClcj8L1kGJAFK5H4XqEYkBI4XoUrm9iQOF6FK5HcWJASOF6FK53YkCPwvUoXG9iQDMzMzMza2JAexSuR+FyYkDsUbgehWtiQM3MzMzMdGJAj8L1KFxfYkBcj8L1KFxiQGZmZmZmdmJAAAAAAACIYkDXo3A9Co9iQAAAAAAAkGJAzczMzMyUYkDhehSuR5FiQIXrUbgefWJAw/UoXI+KYkAzMzMzM4tiQBSuR+F6hGJAMzMzMzODYkD2KFyPwo1iQMP1KFyPmmJASOF6FK6nYkCkcD0K15tiQNejcD0Kh2JAcT0K16OAYkC4HoXrUXhiQKRwPQrXY2JAzczMzMxkYkAK16NwPVpiQD0K16NwZWJAj8L1KFxfYkDNzMzMzFRiQLgehetRWGJACtejcD1iYkC4HoXrUXBiQFK4HoXrgWJAFK5H4XpsYkA=",
          "dtype": "f8"
         },
         "yaxis": "y"
        },
        {
         "hovertemplate": "AAPL<br>Time: %{x}<br>Volume: %{y:,}<extra></extra>",
         "marker": {
          "color": "rgb(228,26,28)"
         },
         "name": "AAPL Volume",
         "opacity": 0.3,
         "type": "bar",
         "x": [
          "2025-08-27T03:02:47.459179000",
          "2025-08-27T03:02:47.460319000",
          "2025-08-27T03:02:47.461591000",
          "2025-08-27T03:02:47.463058000",
          "2025-08-27T03:02:47.464451000",
          "2025-08-27T03:02:47.465640000",
          "2025-08-27T03:02:47.466787000",
          "2025-08-27T03:02:47.467915000",
          "2025-08-27T03:02:47.469268000",
          "2025-08-27T03:02:47.470416000",
          "2025-08-27T03:02:47.471635000",
          "2025-08-27T03:02:47.472997000",
          "2025-08-27T03:02:47.474130000",
          "2025-08-27T03:02:47.475501000",
          "2025-08-27T03:02:47.476745000",
          "2025-08-27T03:02:47.478129000",
          "2025-08-27T03:02:47.479497000",
          "2025-08-27T03:02:47.480914000",
          "2025-08-27T03:02:47.482321000",
          "2025-08-27T03:02:47.483696000",
          "2025-08-27T03:02:47.484858000",
          "2025-08-27T03:02:47.486230000",
          "2025-08-27T03:02:47.487671000",
          "2025-08-27T03:02:47.488882000",
          "2025-08-27T03:02:47.490269000",
          "2025-08-27T03:02:47.491631000",
          "2025-08-27T03:02:47.492897000",
          "2025-08-27T03:02:47.494228000",
          "2025-08-27T03:02:47.495399000",
          "2025-08-27T03:02:47.496873000",
          "2025-08-27T03:02:47.498090000",
          "2025-08-27T03:02:47.499209000",
          "2025-08-27T03:02:47.500382000",
          "2025-08-27T03:02:47.501903000",
          "2025-08-27T03:02:47.503385000",
          "2025-08-27T03:02:47.504749000",
          "2025-08-27T03:02:47.506319000",
          "2025-08-27T03:02:47.507869000",
          "2025-08-27T03:02:47.509423000",
          "2025-08-27T03:02:47.510917000",
          "2025-08-27T03:02:47.512203000",
          "2025-08-27T03:02:47.513594000",
          "2025-08-27T03:02:47.515096000",
          "2025-08-27T03:02:47.516310000",
          "2025-08-27T03:02:47.517686000",
          "2025-08-27T03:02:47.519221000",
          "2025-08-27T03:02:47.520586000",
          "2025-08-27T03:02:47.521956000",
          "2025-08-27T03:02:47.523389000",
          "2025-08-27T03:02:47.524618000",
          "2025-08-27T03:02:47.526016000",
          "2025-08-27T03:02:47.527386000",
          "2025-08-27T03:02:47.528571000",
          "2025-08-27T03:02:47.529712000",
          "2025-08-27T03:02:47.530879000",
          "2025-08-27T03:02:47.532228000",
          "2025-08-27T03:02:47.533596000",
          "2025-08-27T03:02:47.534818000",
          "2025-08-27T03:02:47.536201000",
          "2025-08-27T03:02:47.537445000",
          "2025-08-27T03:02:47.538723000",
          "2025-08-27T03:02:47.540097000",
          "2025-08-27T03:02:47.541494000",
          "2025-08-27T03:02:47.542949000",
          "2025-08-27T03:02:47.544385000",
          "2025-08-27T03:02:47.545825000",
          "2025-08-27T03:02:47.546994000",
          "2025-08-27T03:02:47.548368000",
          "2025-08-27T03:02:47.549745000",
          "2025-08-27T03:02:47.551130000",
          "2025-08-27T03:02:47.552431000",
          "2025-08-27T03:02:47.553528000",
          "2025-08-27T03:02:47.554968000",
          "2025-08-27T03:02:47.556492000",
          "2025-08-27T03:02:47.557976000",
          "2025-08-27T03:02:47.559470000",
          "2025-08-27T03:02:47.560970000",
          "2025-08-27T03:02:47.562228000",
          "2025-08-27T03:02:47.563480000",
          "2025-08-27T03:02:47.564999000",
          "2025-08-27T03:02:47.566475000",
          "2025-08-27T03:02:47.567825000",
          "2025-08-27T03:02:47.569319000",
          "2025-08-27T03:02:47.570816000",
          "2025-08-27T03:02:47.572412000",
          "2025-08-27T03:02:47.573930000",
          "2025-08-27T03:02:47.575480000",
          "2025-08-27T03:02:47.576858000",
          "2025-08-27T03:02:47.578409000",
          "2025-08-27T03:02:47.579981000",
          "2025-08-27T03:02:47.581396000",
          "2025-08-27T03:02:47.582792000",
          "2025-08-27T03:02:47.584178000",
          "2025-08-27T03:02:47.585351000",
          "2025-08-27T03:02:47.586759000",
          "2025-08-27T03:02:47.588159000",
          "2025-08-27T03:02:47.589708000",
          "2025-08-27T03:02:47.591282000",
          "2025-08-27T03:02:47.592879000",
          "2025-08-27T03:02:47.594370000"
         ],
         "xaxis": "x",
         "y": {
          "bdata": "w7MAABEGAACgWAAABiUAAJYkAABqZgAAs6EAAPOwAADlJgAA7rIAADsKAAD/HgAALp8AAEEMAAC+iQAASioAAEVnAABVlwAA91MAANtoAADWrwAAY6wAAG2RAAABaQAAt4EAABcIAADGWAAAhWkAAGFnAABnBQAAN2wAAMK2AAAWjAAA9mIAAO+aAAC0CwAAQosAAOU3AAAdGAAANBEAACY7AADLsgAAHJ0AAM62AAAwSQAAbzsAAI08AABWhQAA94MAAK8YAAB9RAAARUsAAN2CAACCpgAAPFUAALa4AADLPwAAaEQAAJgkAACYGQAAjq4AAH0HAAC2YAAA1gYAADRBAADwhwAAxmoAAHaoAABluAAAcacAAP6EAADvNQAAbSIAAM9sAABcfgAAR3YAALJYAACfvgAAZAwAABI+AAB0XAAABHUAAIgaAADePAAADbsAADV6AABoCwAA6sAAALW+AACfuQAAtq0AAMyxAAB1BgAAu60AAEGpAAC8WAAA8hkAACJLAABaQQAAlj8AAA==",
          "dtype": "i4"
         },
         "yaxis": "y2"
        },
        {
         "hovertemplate": "GOOGL<br>Time: %{x}<br>Price: $%{y:.2f}<extra></extra>",
         "line": {
          "color": "rgb(55,126,184)",
          "width": 2
         },
         "mode": "lines",
         "name": "GOOGL Price",
         "type": "scatter",
         "x": [
          "2025-08-27T03:02:47.459227000",
          "2025-08-27T03:02:47.460362000",
          "2025-08-27T03:02:47.461918000",
          "2025-08-27T03:02:47.463119000",
          "2025-08-27T03:02:47.464508000",
          "2025-08-27T03:02:47.465704000",
          "2025-08-27T03:02:47.466847000",
          "2025-08-27T03:02:47.467969000",
          "2025-08-27T03:02:47.469284000",
          "2025-08-27T03:02:47.470455000",
          "2025-08-27T03:02:47.471664000",
          "2025-08-27T03:02:47.473031000",
          "2025-08-27T03:02:47.474165000",
          "2025-08-27T03:02:47.475535000",
          "2025-08-27T03:02:47.476780000",
          "2025-08-27T03:02:47.478192000",
          "2025-08-27T03:02:47.479563000",
          "2025-08-27T03:02:47.480980000",
          "2025-08-27T03:02:47.482361000",
          "2025-08-27T03:02:47.483731000",
          "2025-08-27T03:02:47.484893000",
          "2025-08-27T03:02:47.486277000",
          "2025-08-27T03:02:47.487752000",
          "2025-08-27T03:02:47.488915000",
          "2025-08-27T03:02:47.490300000",
          "2025-08-27T03:02:47.491668000",
          "2025-08-27T03:02:47.492925000",
          "2025-08-27T03:02:47.494256000",
          "2025-08-27T03:02:47.495709000",
          "2025-08-27T03:02:47.496922000",
          "2025-08-27T03:02:47.498140000",
          "2025-08-27T03:02:47.499240000",
          "2025-08-27T03:02:47.500457000",
          "2025-08-27T03:02:47.501943000",
          "2025-08-27T03:02:47.503440000",
          "2025-08-27T03:02:47.504858000",
          "2025-08-27T03:02:47.506411000",
          "2025-08-27T03:02:47.507960000",
          "2025-08-27T03:02:47.509516000",
          "2025-08-27T03:02:47.510970000",
          "2025-08-27T03:02:47.512255000",
          "2025-08-27T03:02:47.513645000",
          "2025-08-27T03:02:47.515132000",
          "2025-08-27T03:02:47.516347000",
          "2025-08-27T03:02:47.517716000",
          "2025-08-27T03:02:47.519250000",
          "2025-08-27T03:02:47.520620000",
          "2025-08-27T03:02:47.521985000",
          "2025-08-27T03:02:47.523464000",
          "2025-08-27T03:02:47.524663000",
          "2025-08-27T03:02:47.526048000",
          "2025-08-27T03:02:47.527422000",
          "2025-08-27T03:02:47.528632000",
          "2025-08-27T03:02:47.529744000",
          "2025-08-27T03:02:47.530908000",
          "2025-08-27T03:02:47.532263000",
          "2025-08-27T03:02:47.533626000",
          "2025-08-27T03:02:47.534847000",
          "2025-08-27T03:02:47.536352000",
          "2025-08-27T03:02:47.537489000",
          "2025-08-27T03:02:47.538756000",
          "2025-08-27T03:02:47.540141000",
          "2025-08-27T03:02:47.541527000",
          "2025-08-27T03:02:47.543001000",
          "2025-08-27T03:02:47.544441000",
          "2025-08-27T03:02:47.545877000",
          "2025-08-27T03:02:47.547041000",
          "2025-08-27T03:02:47.548403000",
          "2025-08-27T03:02:47.549780000",
          "2025-08-27T03:02:47.551158000",
          "2025-08-27T03:02:47.552460000",
          "2025-08-27T03:02:47.553561000",
          "2025-08-27T03:02:47.555044000",
          "2025-08-27T03:02:47.556532000",
          "2025-08-27T03:02:47.558030000",
          "2025-08-27T03:02:47.559592000",
          "2025-08-27T03:02:47.561033000",
          "2025-08-27T03:02:47.562278000",
          "2025-08-27T03:02:47.563540000",
          "2025-08-27T03:02:47.565033000",
          "2025-08-27T03:02:47.566526000",
          "2025-08-27T03:02:47.567880000",
          "2025-08-27T03:02:47.569374000",
          "2025-08-27T03:02:47.570909000",
          "2025-08-27T03:02:47.572467000",
          "2025-08-27T03:02:47.574021000",
          "2025-08-27T03:02:47.575572000",
          "2025-08-27T03:02:47.576949000",
          "2025-08-27T03:02:47.578587000",
          "2025-08-27T03:02:47.580038000",
          "2025-08-27T03:02:47.581438000",
          "2025-08-27T03:02:47.582823000",
          "2025-08-27T03:02:47.584207000",
          "2025-08-27T03:02:47.585413000",
          "2025-08-27T03:02:47.586788000",
          "2025-08-27T03:02:47.588249000",
          "2025-08-27T03:02:47.589802000",
          "2025-08-27T03:02:47.591375000",
          "2025-08-27T03:02:47.592985000",
          "2025-08-27T03:02:47.594425000"
         ],
         "xaxis": "x",
         "y": {
          "bdata": "AAAAAIDgpUBI4XoUrt+lQArXo3A936VAj8L1KNzcpUCuR+F6FNylQPYoXI9C2aVAuB6F61HbpUB7FK5HYdylQK5H4XqU3KVA7FG4HgXfpUApXI/C9d6lQK5H4XoU36VAmpmZmRnepUAfhetRuN2lQHsUrkfh3qVAzczMzMzfpUBxPQrXo+ClQFK4HoVr4aVAcT0K16PgpUAfhetRuN+lQClcj8J13qVAH4XrUTjfpUDD9Shcj92lQHE9Ctej3qVA4XoUrkfdpUCF61G4ntylQClcj8J13aVA9ihcj0LepUDhehSux9+lQLgehevR4KVAw/UoXI/gpUDsUbgehd6lQM3MzMxM4KVApHA9CtffpUAzMzMzs9+lQClcj8L14KVApHA9CtfhpUA9CtejcOKlQOF6FK7H4aVAcT0K1yPjpUCkcD0K1+KlQIXrUbie4qVAPQrXo3DipUC4HoXr0eKlQArXo3C94qVArkfhehTipUBI4XoUruGlQJqZmZkZ4aVAZmZmZmbhpUBSuB6Fa+GlQLgehetR4aVAKVyPwvXhpUDD9Shcj+OlQAAAAAAA5qVAAAAAAADnpUBI4XoUruilQClcj8J16KVAAAAAAIDppUD2KFyPwumlQIXrUbie6KVAuB6F69HnpUDNzMzMTOilQJqZmZkZ6aVAZmZmZmbppUBI4XoULuqlQK5H4XqU6qVAj8L1KFzspUC4HoXrUeylQOF6FK5H66VAuB6F61HppUAfhetROOilQDMzMzOz6KVApHA9CtfopUCkcD0K1+elQGZmZmZm6KVAFK5H4fropUC4HoXr0eulQEjhehQu7aVA16NwPYrspUAK16NwveylQNejcD0K7aVAAAAAAIDspUDhehSux+ylQB+F61G466VAhetRuJ7spUA9CtejcOulQI/C9Sjc7aVAhetRuB7tpUApXI/Cde6lQMP1KFyP76VAhetRuB7vpUA9Ctej8O6lQFK4HoXr7qVAcT0K16PtpUDsUbgeheylQEjhehQu66VArkfhepTspUAzMzMzs+2lQOF6FK7H7aVAMzMzM7PvpUA=",
          "dtype": "f8"
         },
         "yaxis": "y"
        },
        {
         "hovertemplate": "GOOGL<br>Time: %{x}<br>Volume: %{y:,}<extra></extra>",
         "marker": {
          "color": "rgb(55,126,184)"
         },
         "name": "GOOGL Volume",
         "opacity": 0.3,
         "type": "bar",
         "x": [
          "2025-08-27T03:02:47.459227000",
          "2025-08-27T03:02:47.460362000",
          "2025-08-27T03:02:47.461918000",
          "2025-08-27T03:02:47.463119000",
          "2025-08-27T03:02:47.464508000",
          "2025-08-27T03:02:47.465704000",
          "2025-08-27T03:02:47.466847000",
          "2025-08-27T03:02:47.467969000",
          "2025-08-27T03:02:47.469284000",
          "2025-08-27T03:02:47.470455000",
          "2025-08-27T03:02:47.471664000",
          "2025-08-27T03:02:47.473031000",
          "2025-08-27T03:02:47.474165000",
          "2025-08-27T03:02:47.475535000",
          "2025-08-27T03:02:47.476780000",
          "2025-08-27T03:02:47.478192000",
          "2025-08-27T03:02:47.479563000",
          "2025-08-27T03:02:47.480980000",
          "2025-08-27T03:02:47.482361000",
          "2025-08-27T03:02:47.483731000",
          "2025-08-27T03:02:47.484893000",
          "2025-08-27T03:02:47.486277000",
          "2025-08-27T03:02:47.487752000",
          "2025-08-27T03:02:47.488915000",
          "2025-08-27T03:02:47.490300000",
          "2025-08-27T03:02:47.491668000",
          "2025-08-27T03:02:47.492925000",
          "2025-08-27T03:02:47.494256000",
          "2025-08-27T03:02:47.495709000",
          "2025-08-27T03:02:47.496922000",
          "2025-08-27T03:02:47.498140000",
          "2025-08-27T03:02:47.499240000",
          "2025-08-27T03:02:47.500457000",
          "2025-08-27T03:02:47.501943000",
          "2025-08-27T03:02:47.503440000",
          "2025-08-27T03:02:47.504858000",
          "2025-08-27T03:02:47.506411000",
          "2025-08-27T03:02:47.507960000",
          "2025-08-27T03:02:47.509516000",
          "2025-08-27T03:02:47.510970000",
          "2025-08-27T03:02:47.512255000",
          "2025-08-27T03:02:47.513645000",
          "2025-08-27T03:02:47.515132000",
          "2025-08-27T03:02:47.516347000",
          "2025-08-27T03:02:47.517716000",
          "2025-08-27T03:02:47.519250000",
          "2025-08-27T03:02:47.520620000",
          "2025-08-27T03:02:47.521985000",
          "2025-08-27T03:02:47.523464000",
          "2025-08-27T03:02:47.524663000",
          "2025-08-27T03:02:47.526048000",
          "2025-08-27T03:02:47.527422000",
          "2025-08-27T03:02:47.528632000",
          "2025-08-27T03:02:47.529744000",
          "2025-08-27T03:02:47.530908000",
          "2025-08-27T03:02:47.532263000",
          "2025-08-27T03:02:47.533626000",
          "2025-08-27T03:02:47.534847000",
          "2025-08-27T03:02:47.536352000",
          "2025-08-27T03:02:47.537489000",
          "2025-08-27T03:02:47.538756000",
          "2025-08-27T03:02:47.540141000",
          "2025-08-27T03:02:47.541527000",
          "2025-08-27T03:02:47.543001000",
          "2025-08-27T03:02:47.544441000",
          "2025-08-27T03:02:47.545877000",
          "2025-08-27T03:02:47.547041000",
          "2025-08-27T03:02:47.548403000",
          "2025-08-27T03:02:47.549780000",
          "2025-08-27T03:02:47.551158000",
          "2025-08-27T03:02:47.552460000",
          "2025-08-27T03:02:47.553561000",
          "2025-08-27T03:02:47.555044000",
          "2025-08-27T03:02:47.556532000",
          "2025-08-27T03:02:47.558030000",
          "2025-08-27T03:02:47.559592000",
          "2025-08-27T03:02:47.561033000",
          "2025-08-27T03:02:47.562278000",
          "2025-08-27T03:02:47.563540000",
          "2025-08-27T03:02:47.565033000",
          "2025-08-27T03:02:47.566526000",
          "2025-08-27T03:02:47.567880000",
          "2025-08-27T03:02:47.569374000",
          "2025-08-27T03:02:47.570909000",
          "2025-08-27T03:02:47.572467000",
          "2025-08-27T03:02:47.574021000",
          "2025-08-27T03:02:47.575572000",
          "2025-08-27T03:02:47.576949000",
          "2025-08-27T03:02:47.578587000",
          "2025-08-27T03:02:47.580038000",
          "2025-08-27T03:02:47.581438000",
          "2025-08-27T03:02:47.582823000",
          "2025-08-27T03:02:47.584207000",
          "2025-08-27T03:02:47.585413000",
          "2025-08-27T03:02:47.586788000",
          "2025-08-27T03:02:47.588249000",
          "2025-08-27T03:02:47.589802000",
          "2025-08-27T03:02:47.591375000",
          "2025-08-27T03:02:47.592985000",
          "2025-08-27T03:02:47.594425000"
         ],
         "xaxis": "x",
         "y": {
          "bdata": "fxAAAERJAAAyVgAAyFEAAA0hAABMPAAAoUAAADAFAAD1QQAAUpQAABekAADopAAA+CQAABQaAADjHwAAzD4AADmHAABTUQAA7hgAABAxAADHCAAAg2sAAJtBAAAwagAAKh0AALYNAABCKgAAaUoAAM1sAACFPgAAWFwAAColAABTcQAAGi4AAJifAACYngAAFWQAAGKbAADsXgAA67UAAFhOAABxngAA+0AAAMC6AAAkGgAA2DIAAGqTAADvUAAAYkcAAH00AABdYQAAGyMAAL4vAACFngAAl0MAAJkpAADOuwAAAisAAOU/AABPhgAAeZgAAHl8AABZagAAbi4AALWyAAAxPwAAXZIAAEmbAAABoQAA+a8AAJlPAABFtwAA1VIAAIVgAACrmAAAqFcAABOwAACGdwAACpEAAEs2AACIqwAA5XMAAAxAAABhiQAA4JEAAJVjAAAEkAAAz2YAACaxAAAXNwAAgi0AACEuAAAGQwAA/SkAAFoNAACPlAAAe6AAAAAwAABhcQAAKqkAAA==",
          "dtype": "i4"
         },
         "yaxis": "y2"
        },
        {
         "hovertemplate": "MSFT<br>Time: %{x}<br>Price: $%{y:.2f}<extra></extra>",
         "line": {
          "color": "rgb(77,175,74)",
          "width": 2
         },
         "mode": "lines",
         "name": "MSFT Price",
         "type": "scatter",
         "x": [
          "2025-08-27T03:02:47.459240000",
          "2025-08-27T03:02:47.460375000",
          "2025-08-27T03:02:47.461994000",
          "2025-08-27T03:02:47.463132000",
          "2025-08-27T03:02:47.464520000",
          "2025-08-27T03:02:47.465717000",
          "2025-08-27T03:02:47.466860000",
          "2025-08-27T03:02:47.467980000",
          "2025-08-27T03:02:47.469293000",
          "2025-08-27T03:02:47.470468000",
          "2025-08-27T03:02:47.471676000",
          "2025-08-27T03:02:47.473043000",
          "2025-08-27T03:02:47.474177000",
          "2025-08-27T03:02:47.475548000",
          "2025-08-27T03:02:47.476791000",
          "2025-08-27T03:02:47.478206000",
          "2025-08-27T03:02:47.479577000",
          "2025-08-27T03:02:47.480993000",
          "2025-08-27T03:02:47.482373000",
          "2025-08-27T03:02:47.483744000",
          "2025-08-27T03:02:47.484906000",
          "2025-08-27T03:02:47.486290000",
          "2025-08-27T03:02:47.487762000",
          "2025-08-27T03:02:47.488929000",
          "2025-08-27T03:02:47.490312000",
          "2025-08-27T03:02:47.491680000",
          "2025-08-27T03:02:47.492937000",
          "2025-08-27T03:02:47.494269000",
          "2025-08-27T03:02:47.495732000",
          "2025-08-27T03:02:47.496935000",
          "2025-08-27T03:02:47.498153000",
          "2025-08-27T03:02:47.499264000",
          "2025-08-27T03:02:47.500471000",
          "2025-08-27T03:02:47.501960000",
          "2025-08-27T03:02:47.503464000",
          "2025-08-27T03:02:47.504884000",
          "2025-08-27T03:02:47.506451000",
          "2025-08-27T03:02:47.508006000",
          "2025-08-27T03:02:47.509556000",
          "2025-08-27T03:02:47.510994000",
          "2025-08-27T03:02:47.512270000",
          "2025-08-27T03:02:47.513660000",
          "2025-08-27T03:02:47.515144000",
          "2025-08-27T03:02:47.516360000",
          "2025-08-27T03:02:47.517728000",
          "2025-08-27T03:02:47.519262000",
          "2025-08-27T03:02:47.520632000",
          "2025-08-27T03:02:47.521997000",
          "2025-08-27T03:02:47.523477000",
          "2025-08-27T03:02:47.524681000",
          "2025-08-27T03:02:47.526061000",
          "2025-08-27T03:02:47.527436000",
          "2025-08-27T03:02:47.528644000",
          "2025-08-27T03:02:47.529756000",
          "2025-08-27T03:02:47.530920000",
          "2025-08-27T03:02:47.532275000",
          "2025-08-27T03:02:47.533638000",
          "2025-08-27T03:02:47.534859000",
          "2025-08-27T03:02:47.536365000",
          "2025-08-27T03:02:47.537501000",
          "2025-08-27T03:02:47.538768000",
          "2025-08-27T03:02:47.540177000",
          "2025-08-27T03:02:47.541540000",
          "2025-08-27T03:02:47.543024000",
          "2025-08-27T03:02:47.544464000",
          "2025-08-27T03:02:47.545895000",
          "2025-08-27T03:02:47.547058000",
          "2025-08-27T03:02:47.548417000",
          "2025-08-27T03:02:47.549795000",
          "2025-08-27T03:02:47.551170000",
          "2025-08-27T03:02:47.552472000",
          "2025-08-27T03:02:47.553574000",
          "2025-08-27T03:02:47.555058000",
          "2025-08-27T03:02:47.556550000",
          "2025-08-27T03:02:47.558053000",
          "2025-08-27T03:02:47.559618000",
          "2025-08-27T03:02:47.561058000",
          "2025-08-27T03:02:47.562296000",
          "2025-08-27T03:02:47.563563000",
          "2025-08-27T03:02:47.565047000",
          "2025-08-27T03:02:47.566564000",
          "2025-08-27T03:02:47.567904000",
          "2025-08-27T03:02:47.569397000",
          "2025-08-27T03:02:47.570955000",
          "2025-08-27T03:02:47.572489000",
          "2025-08-27T03:02:47.574063000",
          "2025-08-27T03:02:47.575613000",
          "2025-08-27T03:02:47.576997000",
          "2025-08-27T03:02:47.578625000",
          "2025-08-27T03:02:47.580055000",
          "2025-08-27T03:02:47.581456000",
          "2025-08-27T03:02:47.582841000",
          "2025-08-27T03:02:47.584220000",
          "2025-08-27T03:02:47.585430000",
          "2025-08-27T03:02:47.586800000",
          "2025-08-27T03:02:47.588272000",
          "2025-08-27T03:02:47.589842000",
          "2025-08-27T03:02:47.591417000",
          "2025-08-27T03:02:47.593009000",
          "2025-08-27T03:02:47.594448000"
         ],
         "xaxis": "x",
         "y": {
          "bdata": "ZmZmZmbidUDsUbgehed1QGZmZmZm3nVAMzMzMzPfdUDsUbgehdd1QHsUrkfh1nVAFK5H4XrYdUDhehSuR811QFK4HoXr2XVAuB6F61HkdUD2KFyPwul1QIXrUbge8XVApHA9CtfzdUA9CtejcPl1QFyPwvUo8HVAAAAAAADodUAAAAAAAOR1QIXrUbge3XVAj8L1KFzbdUBxPQrXo9h1QClcj8L18HVAAAAAAAD4dUB7FK5H4QJ2QK5H4XoUDnZAAAAAAAAEdkBcj8L1KAx2QFK4HoXrDXZAj8L1KFwHdkAUrkfhegh2QNejcD0KB3ZAuB6F61H8dUDNzMzMzAx2QD0K16NwCXZA16NwPQoHdkBcj8L1KBB2QArXo3A9EnZAXI/C9SgYdkAfhetRuBJ2QPYoXI/CEXZACtejcD0adkBI4XoUrht2QM3MzMzMKHZAw/UoXI8idkB7FK5H4R52QClcj8L1GHZASOF6FK4XdkBmZmZmZgp2QB+F61G4CnZAH4XrUbgCdkCamZmZmQl2QLgehetREHZAAAAAAAAUdkBmZmZmZgp2QMP1KFyPAnZAKVyPwvX4dUAUrkfheuh1QBSuR+F65HVAH4XrUbjedUAK16NwPep1QLgehetR6HVAzczMzMzkdUCuR+F6FN51QI/C9Shc23VApHA9CtffdUDNzMzMzOB1QHE9Ctej2HVAuB6F61HkdUBI4XoUrtd1QDMzMzMz23VApHA9CtfTdUBcj8L1KOx1QIXrUbge3XVAw/UoXI/adUBcj8L1KOB1QPYoXI/C4XVA4XoUrkftdUCF61G4Hvl1QM3MzMzMAHZArkfhehQCdkAfhetRuPp1QClcj8L19HVAPQrXo3D5dUCF61G4HgV2QFyPwvUoBHZAmpmZmZkVdkCkcD0K1wt2QOxRuB6FF3ZAXI/C9SgYdkAfhetRuAZ2QFK4HoXrAXZAw/UoXI8CdkCamZmZmRF2QClcj8L1CHZAzczMzMwIdkD2KFyPwg12QOF6FK5HFXZArkfhehQWdkB7FK5H4RJ2QFyPwvUoEHZAH4XrUbgCdkA=",
          "dtype": "f8"
         },
         "yaxis": "y"
        },
        {
         "hovertemplate": "MSFT<br>Time: %{x}<br>Volume: %{y:,}<extra></extra>",
         "marker": {
          "color": "rgb(77,175,74)"
         },
         "name": "MSFT Volume",
         "opacity": 0.3,
         "type": "bar",
         "x": [
          "2025-08-27T03:02:47.459240000",
          "2025-08-27T03:02:47.460375000",
          "2025-08-27T03:02:47.461994000",
          "2025-08-27T03:02:47.463132000",
          "2025-08-27T03:02:47.464520000",
          "2025-08-27T03:02:47.465717000",
          "2025-08-27T03:02:47.466860000",
          "2025-08-27T03:02:47.467980000",
          "2025-08-27T03:02:47.469293000",
          "2025-08-27T03:02:47.470468000",
          "2025-08-27T03:02:47.471676000",
          "2025-08-27T03:02:47.473043000",
          "2025-08-27T03:02:47.474177000",
          "2025-08-27T03:02:47.475548000",
          "2025-08-27T03:02:47.476791000",
          "2025-08-27T03:02:47.478206000",
          "2025-08-27T03:02:47.479577000",
          "2025-08-27T03:02:47.480993000",
          "2025-08-27T03:02:47.482373000",
          "2025-08-27T03:02:47.483744000",
          "2025-08-27T03:02:47.484906000",
          "2025-08-27T03:02:47.486290000",
          "2025-08-27T03:02:47.487762000",
          "2025-08-27T03:02:47.488929000",
          "2025-08-27T03:02:47.490312000",
          "2025-08-27T03:02:47.491680000",
          "2025-08-27T03:02:47.492937000",
          "2025-08-27T03:02:47.494269000",
          "2025-08-27T03:02:47.495732000",
          "2025-08-27T03:02:47.496935000",
          "2025-08-27T03:02:47.498153000",
          "2025-08-27T03:02:47.499264000",
          "2025-08-27T03:02:47.500471000",
          "2025-08-27T03:02:47.501960000",
          "2025-08-27T03:02:47.503464000",
          "2025-08-27T03:02:47.504884000",
          "2025-08-27T03:02:47.506451000",
          "2025-08-27T03:02:47.508006000",
          "2025-08-27T03:02:47.509556000",
          "2025-08-27T03:02:47.510994000",
          "2025-08-27T03:02:47.512270000",
          "2025-08-27T03:02:47.513660000",
          "2025-08-27T03:02:47.515144000",
          "2025-08-27T03:02:47.516360000",
          "2025-08-27T03:02:47.517728000",
          "2025-08-27T03:02:47.519262000",
          "2025-08-27T03:02:47.520632000",
          "2025-08-27T03:02:47.521997000",
          "2025-08-27T03:02:47.523477000",
          "2025-08-27T03:02:47.524681000",
          "2025-08-27T03:02:47.526061000",
          "2025-08-27T03:02:47.527436000",
          "2025-08-27T03:02:47.528644000",
          "2025-08-27T03:02:47.529756000",
          "2025-08-27T03:02:47.530920000",
          "2025-08-27T03:02:47.532275000",
          "2025-08-27T03:02:47.533638000",
          "2025-08-27T03:02:47.534859000",
          "2025-08-27T03:02:47.536365000",
          "2025-08-27T03:02:47.537501000",
          "2025-08-27T03:02:47.538768000",
          "2025-08-27T03:02:47.540177000",
          "2025-08-27T03:02:47.541540000",
          "2025-08-27T03:02:47.543024000",
          "2025-08-27T03:02:47.544464000",
          "2025-08-27T03:02:47.545895000",
          "2025-08-27T03:02:47.547058000",
          "2025-08-27T03:02:47.548417000",
          "2025-08-27T03:02:47.549795000",
          "2025-08-27T03:02:47.551170000",
          "2025-08-27T03:02:47.552472000",
          "2025-08-27T03:02:47.553574000",
          "2025-08-27T03:02:47.555058000",
          "2025-08-27T03:02:47.556550000",
          "2025-08-27T03:02:47.558053000",
          "2025-08-27T03:02:47.559618000",
          "2025-08-27T03:02:47.561058000",
          "2025-08-27T03:02:47.562296000",
          "2025-08-27T03:02:47.563563000",
          "2025-08-27T03:02:47.565047000",
          "2025-08-27T03:02:47.566564000",
          "2025-08-27T03:02:47.567904000",
          "2025-08-27T03:02:47.569397000",
          "2025-08-27T03:02:47.570955000",
          "2025-08-27T03:02:47.572489000",
          "2025-08-27T03:02:47.574063000",
          "2025-08-27T03:02:47.575613000",
          "2025-08-27T03:02:47.576997000",
          "2025-08-27T03:02:47.578625000",
          "2025-08-27T03:02:47.580055000",
          "2025-08-27T03:02:47.581456000",
          "2025-08-27T03:02:47.582841000",
          "2025-08-27T03:02:47.584220000",
          "2025-08-27T03:02:47.585430000",
          "2025-08-27T03:02:47.586800000",
          "2025-08-27T03:02:47.588272000",
          "2025-08-27T03:02:47.589842000",
          "2025-08-27T03:02:47.591417000",
          "2025-08-27T03:02:47.593009000",
          "2025-08-27T03:02:47.594448000"
         ],
         "xaxis": "x",
         "y": {
          "bdata": "SVgAAAZqAAD1ZgAA/EoAAN2LAABMHgAAABoAAMlpAABJVwAAlQUAANY/AACLOwAAl0QAALeHAABxggAAhzYAAD05AACeSgAA8GQAAOKiAAD6KAAAfScAAJRkAAC7MwAA8BwAAKyFAAAQuAAAoD0AACk1AADOwAAAEp0AADU8AABQrAAAZCEAACREAAAutgAA+E8AACuKAADdZAAAy0AAAEutAABFLgAArsAAACxzAABjawAAIWYAAGpeAABSZwAA54wAAFIWAAB0SAAASx4AAGpiAABhVwAAHzEAAHpVAAA6XAAAKTwAAPtPAADHZgAAKTcAACSfAAAsFgAASgsAAGsSAAC9ugAAzJUAAGppAABKDAAAeoYAAJayAAAGJgAA+H4AAKi6AADZpwAAehUAALJ+AADnugAA7yUAAKA/AADULgAAazEAAI64AAC6YgAA8ngAABcVAADOvQAAZoEAADqVAADgUgAAqBkAAPC5AACHWgAAAn8AAJhJAAATgQAALygAANRLAABGBgAAqDsAAA==",
          "dtype": "i4"
         },
         "yaxis": "y2"
        },
        {
         "hovertemplate": "AMZN<br>Time: %{x}<br>Price: $%{y:.2f}<extra></extra>",
         "line": {
          "color": "rgb(152,78,163)",
          "width": 2
         },
         "mode": "lines",
         "name": "AMZN Price",
         "type": "scatter",
         "x": [
          "2025-08-27T03:02:47.459250000",
          "2025-08-27T03:02:47.460385000",
          "2025-08-27T03:02:47.462013000",
          "2025-08-27T03:02:47.463142000",
          "2025-08-27T03:02:47.464530000",
          "2025-08-27T03:02:47.465727000",
          "2025-08-27T03:02:47.466872000",
          "2025-08-27T03:02:47.467990000",
          "2025-08-27T03:02:47.469303000",
          "2025-08-27T03:02:47.470478000",
          "2025-08-27T03:02:47.471686000",
          "2025-08-27T03:02:47.473053000",
          "2025-08-27T03:02:47.474187000",
          "2025-08-27T03:02:47.475557000",
          "2025-08-27T03:02:47.476801000",
          "2025-08-27T03:02:47.478217000",
          "2025-08-27T03:02:47.479587000",
          "2025-08-27T03:02:47.481004000",
          "2025-08-27T03:02:47.482385000",
          "2025-08-27T03:02:47.483753000",
          "2025-08-27T03:02:47.484917000",
          "2025-08-27T03:02:47.486300000",
          "2025-08-27T03:02:47.487771000",
          "2025-08-27T03:02:47.488940000",
          "2025-08-27T03:02:47.490322000",
          "2025-08-27T03:02:47.491690000",
          "2025-08-27T03:02:47.492947000",
          "2025-08-27T03:02:47.494279000",
          "2025-08-27T03:02:47.495743000",
          "2025-08-27T03:02:47.496945000",
          "2025-08-27T03:02:47.498163000",
          "2025-08-27T03:02:47.499294000",
          "2025-08-27T03:02:47.500483000",
          "2025-08-27T03:02:47.501975000",
          "2025-08-27T03:02:47.503487000",
          "2025-08-27T03:02:47.504904000",
          "2025-08-27T03:02:47.506471000",
          "2025-08-27T03:02:47.508026000",
          "2025-08-27T03:02:47.509575000",
          "2025-08-27T03:02:47.511013000",
          "2025-08-27T03:02:47.512281000",
          "2025-08-27T03:02:47.513672000",
          "2025-08-27T03:02:47.515154000",
          "2025-08-27T03:02:47.516370000",
          "2025-08-27T03:02:47.517738000",
          "2025-08-27T03:02:47.519272000",
          "2025-08-27T03:02:47.520645000",
          "2025-08-27T03:02:47.522007000",
          "2025-08-27T03:02:47.523489000",
          "2025-08-27T03:02:47.524695000",
          "2025-08-27T03:02:47.526073000",
          "2025-08-27T03:02:47.527448000",
          "2025-08-27T03:02:47.528655000",
          "2025-08-27T03:02:47.529766000",
          "2025-08-27T03:02:47.530931000",
          "2025-08-27T03:02:47.532285000",
          "2025-08-27T03:02:47.533648000",
          "2025-08-27T03:02:47.534869000",
          "2025-08-27T03:02:47.536375000",
          "2025-08-27T03:02:47.537511000",
          "2025-08-27T03:02:47.538778000",
          "2025-08-27T03:02:47.540187000",
          "2025-08-27T03:02:47.541553000",
          "2025-08-27T03:02:47.543043000",
          "2025-08-27T03:02:47.544488000",
          "2025-08-27T03:02:47.545909000",
          "2025-08-27T03:02:47.547073000",
          "2025-08-27T03:02:47.548429000",
          "2025-08-27T03:02:47.549807000",
          "2025-08-27T03:02:47.551180000",
          "2025-08-27T03:02:47.552485000",
          "2025-08-27T03:02:47.553584000",
          "2025-08-27T03:02:47.555069000",
          "2025-08-27T03:02:47.556565000",
          "2025-08-27T03:02:47.558073000",
          "2025-08-27T03:02:47.559638000",
          "2025-08-27T03:02:47.561077000",
          "2025-08-27T03:02:47.562310000",
          "2025-08-27T03:02:47.563578000",
          "2025-08-27T03:02:47.565059000",
          "2025-08-27T03:02:47.566605000",
          "2025-08-27T03:02:47.567923000",
          "2025-08-27T03:02:47.569417000",
          "2025-08-27T03:02:47.570974000",
          "2025-08-27T03:02:47.572513000",
          "2025-08-27T03:02:47.574082000",
          "2025-08-27T03:02:47.575632000",
          "2025-08-27T03:02:47.577016000",
          "2025-08-27T03:02:47.578647000",
          "2025-08-27T03:02:47.580069000",
          "2025-08-27T03:02:47.581471000",
          "2025-08-27T03:02:47.582854000",
          "2025-08-27T03:02:47.584230000",
          "2025-08-27T03:02:47.585441000",
          "2025-08-27T03:02:47.586810000",
          "2025-08-27T03:02:47.588292000",
          "2025-08-27T03:02:47.589862000",
          "2025-08-27T03:02:47.591437000",
          "2025-08-27T03:02:47.593028000",
          "2025-08-27T03:02:47.594471000"
         ],
         "xaxis": "x",
         "y": {
          "bdata": "FK5H4frHqUAfhetRuMmpQNejcD2KyqlAzczMzMzKqUCkcD0K18upQClcj8L1y6lAcT0K1yPNqUDsUbgehc2pQFK4HoXrzqlAH4XrUTjQqUAK16NwPc+pQLgehetRz6lAAAAAAADQqUBmZmZm5sypQOF6FK5HzqlAFK5H4frNqUDD9ShcD82pQK5H4XoUzalAexSuR+HOqUApXI/C9c6pQFyPwvUo0KlASOF6FK7PqUDhehSux8+pQOF6FK7Hz6lACtejcL3NqUBmZmZm5s6pQNejcD2KzqlAFK5H4XrOqUC4HoXrUc+pQBSuR+H6z6lAMzMzMzPQqUDhehSuR9CpQOxRuB6Fz6lAzczMzMzOqUD2KFyPws6pQClcj8L1zalAKVyPwvXNqUD2KFyPQs2pQFyPwvUozalASOF6FK7LqUAUrkfh+supQDMzMzOzzKlAUrgehevNqUCPwvUo3M2pQBSuR+F6zqlAhetRuB7PqUDD9Shcj8+pQJqZmZmZ0KlAexSuR2HRqUDsUbgehdCpQD0K16Pwz6lA4XoUrsfRqUDhehSux9GpQHsUrkdh0qlArkfhepTRqUD2KFyPwtCpQM3MzMxM0alAzczMzEzQqUCamZmZGdCpQHE9Ctejz6lApHA9CtfNqUDD9Shcj86pQNejcD0Kz6lAexSuR+HOqUCF61G4ns2pQIXrUbiezalAmpmZmZnNqUDsUbgeBcypQHE9Ctejy6lApHA9ClfMqUBcj8L1KMypQKRwPQpXy6lAZmZmZubKqUAUrkfh+sypQGZmZmZmy6lAXI/C9ajMqUDXo3A9is2pQK5H4XqUzalA9ihcj8LNqUD2KFyPQs6pQFyPwvUozqlAexSuR2HOqUBmZmZm5tCpQK5H4XqUz6lArkfhehTQqUCuR+F6FNCpQEjhehQu0KlAXI/C9SjSqUCF61G4ntKpQHsUrkdh0alACtejcL3SqUBcj8L1qNOpQArXo3A906lASOF6FK7SqUCF61G4ntGpQFK4HoXr0KlAPQrXo/DRqUBcj8L1KNOpQClcj8L10qlACtejcL3SqUA=",
          "dtype": "f8"
         },
         "yaxis": "y"
        },
        {
         "hovertemplate": "AMZN<br>Time: %{x}<br>Volume: %{y:,}<extra></extra>",
         "marker": {
          "color": "rgb(152,78,163)"
         },
         "name": "AMZN Volume",
         "opacity": 0.3,
         "type": "bar",
         "x": [
          "2025-08-27T03:02:47.459250000",
          "2025-08-27T03:02:47.460385000",
          "2025-08-27T03:02:47.462013000",
          "2025-08-27T03:02:47.463142000",
          "2025-08-27T03:02:47.464530000",
          "2025-08-27T03:02:47.465727000",
          "2025-08-27T03:02:47.466872000",
          "2025-08-27T03:02:47.467990000",
          "2025-08-27T03:02:47.469303000",
          "2025-08-27T03:02:47.470478000",
          "2025-08-27T03:02:47.471686000",
          "2025-08-27T03:02:47.473053000",
          "2025-08-27T03:02:47.474187000",
          "2025-08-27T03:02:47.475557000",
          "2025-08-27T03:02:47.476801000",
          "2025-08-27T03:02:47.478217000",
          "2025-08-27T03:02:47.479587000",
          "2025-08-27T03:02:47.481004000",
          "2025-08-27T03:02:47.482385000",
          "2025-08-27T03:02:47.483753000",
          "2025-08-27T03:02:47.484917000",
          "2025-08-27T03:02:47.486300000",
          "2025-08-27T03:02:47.487771000",
          "2025-08-27T03:02:47.488940000",
          "2025-08-27T03:02:47.490322000",
          "2025-08-27T03:02:47.491690000",
          "2025-08-27T03:02:47.492947000",
          "2025-08-27T03:02:47.494279000",
          "2025-08-27T03:02:47.495743000",
          "2025-08-27T03:02:47.496945000",
          "2025-08-27T03:02:47.498163000",
          "2025-08-27T03:02:47.499294000",
          "2025-08-27T03:02:47.500483000",
          "2025-08-27T03:02:47.501975000",
          "2025-08-27T03:02:47.503487000",
          "2025-08-27T03:02:47.504904000",
          "2025-08-27T03:02:47.506471000",
          "2025-08-27T03:02:47.508026000",
          "2025-08-27T03:02:47.509575000",
          "2025-08-27T03:02:47.511013000",
          "2025-08-27T03:02:47.512281000",
          "2025-08-27T03:02:47.513672000",
          "2025-08-27T03:02:47.515154000",
          "2025-08-27T03:02:47.516370000",
          "2025-08-27T03:02:47.517738000",
          "2025-08-27T03:02:47.519272000",
          "2025-08-27T03:02:47.520645000",
          "2025-08-27T03:02:47.522007000",
          "2025-08-27T03:02:47.523489000",
          "2025-08-27T03:02:47.524695000",
          "2025-08-27T03:02:47.526073000",
          "2025-08-27T03:02:47.527448000",
          "2025-08-27T03:02:47.528655000",
          "2025-08-27T03:02:47.529766000",
          "2025-08-27T03:02:47.530931000",
          "2025-08-27T03:02:47.532285000",
          "2025-08-27T03:02:47.533648000",
          "2025-08-27T03:02:47.534869000",
          "2025-08-27T03:02:47.536375000",
          "2025-08-27T03:02:47.537511000",
          "2025-08-27T03:02:47.538778000",
          "2025-08-27T03:02:47.540187000",
          "2025-08-27T03:02:47.541553000",
          "2025-08-27T03:02:47.543043000",
          "2025-08-27T03:02:47.544488000",
          "2025-08-27T03:02:47.545909000",
          "2025-08-27T03:02:47.547073000",
          "2025-08-27T03:02:47.548429000",
          "2025-08-27T03:02:47.549807000",
          "2025-08-27T03:02:47.551180000",
          "2025-08-27T03:02:47.552485000",
          "2025-08-27T03:02:47.553584000",
          "2025-08-27T03:02:47.555069000",
          "2025-08-27T03:02:47.556565000",
          "2025-08-27T03:02:47.558073000",
          "2025-08-27T03:02:47.559638000",
          "2025-08-27T03:02:47.561077000",
          "2025-08-27T03:02:47.562310000",
          "2025-08-27T03:02:47.563578000",
          "2025-08-27T03:02:47.565059000",
          "2025-08-27T03:02:47.566605000",
          "2025-08-27T03:02:47.567923000",
          "2025-08-27T03:02:47.569417000",
          "2025-08-27T03:02:47.570974000",
          "2025-08-27T03:02:47.572513000",
          "2025-08-27T03:02:47.574082000",
          "2025-08-27T03:02:47.575632000",
          "2025-08-27T03:02:47.577016000",
          "2025-08-27T03:02:47.578647000",
          "2025-08-27T03:02:47.580069000",
          "2025-08-27T03:02:47.581471000",
          "2025-08-27T03:02:47.582854000",
          "2025-08-27T03:02:47.584230000",
          "2025-08-27T03:02:47.585441000",
          "2025-08-27T03:02:47.586810000",
          "2025-08-27T03:02:47.588292000",
          "2025-08-27T03:02:47.589862000",
          "2025-08-27T03:02:47.591437000",
          "2025-08-27T03:02:47.593028000",
          "2025-08-27T03:02:47.594471000"
         ],
         "xaxis": "x",
         "y": {
          "bdata": "1jgAAPosAADXZwAAR7kAAJOjAAAUEgAAYloAAEC4AAB+rQAAzxEAAO1sAACvmAAAwowAAFlAAACYMwAAay8AAG1EAAB/FQAAKyMAAARbAADgWQAA7SMAAPokAAB0uQAAKMAAAICuAACBcwAAFWwAABAyAABnKQAAl2YAAIlvAABscgAA7JMAAEBLAADcSgAAvxMAACSBAAACIwAAGlUAAIN9AABrtwAAmHEAAAGhAADtaQAAkm8AAK17AABraAAAmzEAAFWLAACSQQAAUrEAANmyAACLKgAAgJ8AAGKoAACnEQAAFBQAAL4RAADaDQAAuW8AAGI0AAAsnAAAGDIAACRlAAC0NwAAi1IAADkiAAD3sAAArHgAAJiHAACdnwAAkgcAAPPAAAAWPQAAl3EAAHe+AACzBAAAHr0AACabAADclwAAFpEAACeDAADligAA4oAAANdpAADUNwAAYp4AADQIAACtHAAALXcAAKZYAAAOngAAdTUAAE4LAABeIgAAO54AACN8AAD4GwAAGBQAAA==",
          "dtype": "i4"
         },
         "yaxis": "y2"
        },
        {
         "hovertemplate": "TSLA<br>Time: %{x}<br>Price: $%{y:.2f}<extra></extra>",
         "line": {
          "color": "rgb(255,127,0)",
          "width": 2
         },
         "mode": "lines",
         "name": "TSLA Price",
         "type": "scatter",
         "x": [
          "2025-08-27T03:02:47.459260000",
          "2025-08-27T03:02:47.460395000",
          "2025-08-27T03:02:47.462024000",
          "2025-08-27T03:02:47.463152000",
          "2025-08-27T03:02:47.464540000",
          "2025-08-27T03:02:47.465737000",
          "2025-08-27T03:02:47.466882000",
          "2025-08-27T03:02:47.468000000",
          "2025-08-27T03:02:47.469312000",
          "2025-08-27T03:02:47.470488000",
          "2025-08-27T03:02:47.471695000",
          "2025-08-27T03:02:47.473063000",
          "2025-08-27T03:02:47.474197000",
          "2025-08-27T03:02:47.475567000",
          "2025-08-27T03:02:47.476811000",
          "2025-08-27T03:02:47.478227000",
          "2025-08-27T03:02:47.479597000",
          "2025-08-27T03:02:47.481014000",
          "2025-08-27T03:02:47.482395000",
          "2025-08-27T03:02:47.483763000",
          "2025-08-27T03:02:47.484926000",
          "2025-08-27T03:02:47.486313000",
          "2025-08-27T03:02:47.487780000",
          "2025-08-27T03:02:47.488952000",
          "2025-08-27T03:02:47.490331000",
          "2025-08-27T03:02:47.491703000",
          "2025-08-27T03:02:47.492957000",
          "2025-08-27T03:02:47.494289000",
          "2025-08-27T03:02:47.495753000",
          "2025-08-27T03:02:47.496958000",
          "2025-08-27T03:02:47.498173000",
          "2025-08-27T03:02:47.499307000",
          "2025-08-27T03:02:47.500493000",
          "2025-08-27T03:02:47.501988000",
          "2025-08-27T03:02:47.503507000",
          "2025-08-27T03:02:47.504923000",
          "2025-08-27T03:02:47.506490000",
          "2025-08-27T03:02:47.508044000",
          "2025-08-27T03:02:47.509593000",
          "2025-08-27T03:02:47.511031000",
          "2025-08-27T03:02:47.512292000",
          "2025-08-27T03:02:47.513682000",
          "2025-08-27T03:02:47.515163000",
          "2025-08-27T03:02:47.516380000",
          "2025-08-27T03:02:47.517747000",
          "2025-08-27T03:02:47.519281000",
          "2025-08-27T03:02:47.520656000",
          "2025-08-27T03:02:47.522017000",
          "2025-08-27T03:02:47.523500000",
          "2025-08-27T03:02:47.524708000",
          "2025-08-27T03:02:47.526084000",
          "2025-08-27T03:02:47.527458000",
          "2025-08-27T03:02:47.528665000",
          "2025-08-27T03:02:47.529777000",
          "2025-08-27T03:02:47.530941000",
          "2025-08-27T03:02:47.532295000",
          "2025-08-27T03:02:47.533657000",
          "2025-08-27T03:02:47.534879000",
          "2025-08-27T03:02:47.536385000",
          "2025-08-27T03:02:47.537520000",
          "2025-08-27T03:02:47.538787000",
          "2025-08-27T03:02:47.540199000",
          "2025-08-27T03:02:47.541566000",
          "2025-08-27T03:02:47.543062000",
          "2025-08-27T03:02:47.544506000",
          "2025-08-27T03:02:47.545924000",
          "2025-08-27T03:02:47.547088000",
          "2025-08-27T03:02:47.548440000",
          "2025-08-27T03:02:47.549830000",
          "2025-08-27T03:02:47.551189000",
          "2025-08-27T03:02:47.552495000",
          "2025-08-27T03:02:47.553593000",
          "2025-08-27T03:02:47.555080000",
          "2025-08-27T03:02:47.556579000",
          "2025-08-27T03:02:47.558091000",
          "2025-08-27T03:02:47.559656000",
          "2025-08-27T03:02:47.561096000",
          "2025-08-27T03:02:47.562325000",
          "2025-08-27T03:02:47.563592000",
          "2025-08-27T03:02:47.565070000",
          "2025-08-27T03:02:47.566624000",
          "2025-08-27T03:02:47.567941000",
          "2025-08-27T03:02:47.569435000",
          "2025-08-27T03:02:47.570993000",
          "2025-08-27T03:02:47.572532000",
          "2025-08-27T03:02:47.574101000",
          "2025-08-27T03:02:47.575651000",
          "2025-08-27T03:02:47.577034000",
          "2025-08-27T03:02:47.578667000",
          "2025-08-27T03:02:47.580083000",
          "2025-08-27T03:02:47.581484000",
          "2025-08-27T03:02:47.582865000",
          "2025-08-27T03:02:47.584239000",
          "2025-08-27T03:02:47.585451000",
          "2025-08-27T03:02:47.586820000",
          "2025-08-27T03:02:47.588310000",
          "2025-08-27T03:02:47.589880000",
          "2025-08-27T03:02:47.591456000",
          "2025-08-27T03:02:47.593047000",
          "2025-08-27T03:02:47.594489000"
         ],
         "xaxis": "x",
         "y": {
          "bdata": "w/UoXI/6iECF61G4HvuIQFK4HoXr+4hASOF6FK77iEC4HoXrUf6IQBSuR+F6+IhAH4XrUbj+iEBcj8L1KP6IQJqZmZmZA4lAKVyPwvX6iEAfhetRuPSIQHsUrkfh8IhA16NwPQrxiEA9CtejcO2IQGZmZmZm8IhA7FG4HoXviEBmZmZmZvCIQK5H4XoU6ohAmpmZmZnriEDXo3A9Cu+IQHsUrkfh7IhAFK5H4XroiECF61G4HumIQHsUrkfh5ohAmpmZmZnliEAUrkfheuaIQOxRuB6F6YhAAAAAAADqiEDNzMzMzOyIQKRwPQrX64hAzczMzMzoiEDNzMzMzOaIQD0K16Nw7YhAZmZmZmbmiECamZmZmeGIQClcj8L14ohApHA9CtfdiEBSuB6F69WIQOF6FK5H14hAw/UoXI/UiEAfhetRuNqIQOF6FK5H34hAzczMzMzciEAUrkfhetSIQClcj8L12IhAhetRuB7XiEAK16NwPdSIQB+F61G42ohAPQrXo3DhiEAzMzMzM9+IQKRwPQrX34hArkfhehTciEBcj8L1KOKIQB+F61G41ohApHA9CtfZiEAzMzMzM92IQJqZmZmZ24hAFK5H4XriiEDXo3A9CuOIQMP1KFyP4IhAcT0K16PciECPwvUoXNuIQFyPwvUo0ohAKVyPwvXQiEAUrkfhes6IQK5H4XoU1IhAw/UoXI/QiEDsUbgehdGIQGZmZmZmzohAw/UoXI/AiED2KFyPwr+IQB+F61G4wohASOF6FK67iEDsUbgehb+IQHE9CtejvohACtejcD3CiEBxPQrXo76IQGZmZmZmwIhAKVyPwvW8iEAfhetRuLyIQBSuR+F6tohA9ihcj8K1iEAfhetRuLSIQOF6FK5HsYhAw/UoXI+2iEDsUbgehbeIQGZmZmZmuohAZmZmZma4iEDsUbgehbmIQLgehetRvohAMzMzMzO9iEB7FK5H4cKIQDMzMzMzw4hAcT0K16PAiECuR+F6FMSIQHsUrkfhvIhAMzMzMzO7iEAUrkfher6IQFyPwvUowohAw/UoXI++iEA=",
          "dtype": "f8"
         },
         "yaxis": "y"
        },
        {
         "hovertemplate": "TSLA<br>Time: %{x}<br>Volume: %{y:,}<extra></extra>",
         "marker": {
          "color": "rgb(255,127,0)"
         },
         "name": "TSLA Volume",
         "opacity": 0.3,
         "type": "bar",
         "x": [
          "2025-08-27T03:02:47.459260000",
          "2025-08-27T03:02:47.460395000",
          "2025-08-27T03:02:47.462024000",
          "2025-08-27T03:02:47.463152000",
          "2025-08-27T03:02:47.464540000",
          "2025-08-27T03:02:47.465737000",
          "2025-08-27T03:02:47.466882000",
          "2025-08-27T03:02:47.468000000",
          "2025-08-27T03:02:47.469312000",
          "2025-08-27T03:02:47.470488000",
          "2025-08-27T03:02:47.471695000",
          "2025-08-27T03:02:47.473063000",
          "2025-08-27T03:02:47.474197000",
          "2025-08-27T03:02:47.475567000",
          "2025-08-27T03:02:47.476811000",
          "2025-08-27T03:02:47.478227000",
          "2025-08-27T03:02:47.479597000",
          "2025-08-27T03:02:47.481014000",
          "2025-08-27T03:02:47.482395000",
          "2025-08-27T03:02:47.483763000",
          "2025-08-27T03:02:47.484926000",
          "2025-08-27T03:02:47.486313000",
          "2025-08-27T03:02:47.487780000",
          "2025-08-27T03:02:47.488952000",
          "2025-08-27T03:02:47.490331000",
          "2025-08-27T03:02:47.491703000",
          "2025-08-27T03:02:47.492957000",
          "2025-08-27T03:02:47.494289000",
          "2025-08-27T03:02:47.495753000",
          "2025-08-27T03:02:47.496958000",
          "2025-08-27T03:02:47.498173000",
          "2025-08-27T03:02:47.499307000",
          "2025-08-27T03:02:47.500493000",
          "2025-08-27T03:02:47.501988000",
          "2025-08-27T03:02:47.503507000",
          "2025-08-27T03:02:47.504923000",
          "2025-08-27T03:02:47.506490000",
          "2025-08-27T03:02:47.508044000",
          "2025-08-27T03:02:47.509593000",
          "2025-08-27T03:02:47.511031000",
          "2025-08-27T03:02:47.512292000",
          "2025-08-27T03:02:47.513682000",
          "2025-08-27T03:02:47.515163000",
          "2025-08-27T03:02:47.516380000",
          "2025-08-27T03:02:47.517747000",
          "2025-08-27T03:02:47.519281000",
          "2025-08-27T03:02:47.520656000",
          "2025-08-27T03:02:47.522017000",
          "2025-08-27T03:02:47.523500000",
          "2025-08-27T03:02:47.524708000",
          "2025-08-27T03:02:47.526084000",
          "2025-08-27T03:02:47.527458000",
          "2025-08-27T03:02:47.528665000",
          "2025-08-27T03:02:47.529777000",
          "2025-08-27T03:02:47.530941000",
          "2025-08-27T03:02:47.532295000",
          "2025-08-27T03:02:47.533657000",
          "2025-08-27T03:02:47.534879000",
          "2025-08-27T03:02:47.536385000",
          "2025-08-27T03:02:47.537520000",
          "2025-08-27T03:02:47.538787000",
          "2025-08-27T03:02:47.540199000",
          "2025-08-27T03:02:47.541566000",
          "2025-08-27T03:02:47.543062000",
          "2025-08-27T03:02:47.544506000",
          "2025-08-27T03:02:47.545924000",
          "2025-08-27T03:02:47.547088000",
          "2025-08-27T03:02:47.548440000",
          "2025-08-27T03:02:47.549830000",
          "2025-08-27T03:02:47.551189000",
          "2025-08-27T03:02:47.552495000",
          "2025-08-27T03:02:47.553593000",
          "2025-08-27T03:02:47.555080000",
          "2025-08-27T03:02:47.556579000",
          "2025-08-27T03:02:47.558091000",
          "2025-08-27T03:02:47.559656000",
          "2025-08-27T03:02:47.561096000",
          "2025-08-27T03:02:47.562325000",
          "2025-08-27T03:02:47.563592000",
          "2025-08-27T03:02:47.565070000",
          "2025-08-27T03:02:47.566624000",
          "2025-08-27T03:02:47.567941000",
          "2025-08-27T03:02:47.569435000",
          "2025-08-27T03:02:47.570993000",
          "2025-08-27T03:02:47.572532000",
          "2025-08-27T03:02:47.574101000",
          "2025-08-27T03:02:47.575651000",
          "2025-08-27T03:02:47.577034000",
          "2025-08-27T03:02:47.578667000",
          "2025-08-27T03:02:47.580083000",
          "2025-08-27T03:02:47.581484000",
          "2025-08-27T03:02:47.582865000",
          "2025-08-27T03:02:47.584239000",
          "2025-08-27T03:02:47.585451000",
          "2025-08-27T03:02:47.586820000",
          "2025-08-27T03:02:47.588310000",
          "2025-08-27T03:02:47.589880000",
          "2025-08-27T03:02:47.591456000",
          "2025-08-27T03:02:47.593047000",
          "2025-08-27T03:02:47.594489000"
         ],
         "xaxis": "x",
         "y": {
          "bdata": "zygAAHcKAABIBQAAkncAABWMAADFXgAAK1wAAB53AABEZQAAzXYAAE6zAAB6OQAAKAcAAPIIAABWpwAATh0AAIi+AACBWwAA3LYAAG24AAAzWwAAtaIAAMGsAAAAJQAAC40AAM+9AACbewAAVjQAAOhmAADTnQAAqr0AAE6JAADBYwAARREAAAUgAACRwgAAdHYAAMwoAABKZgAAJhMAAGZhAACPlAAA0cEAABppAAAATgAAqRkAAGmyAADLWQAASmAAAMinAAAmcAAAIWIAAIJ3AAA5rAAAPlcAAMxGAAClkwAAzVQAAGt/AAAgsgAAsqoAADGKAAB3MQAAI4oAAKsaAACYKwAAwTEAAPySAADQaAAAVwYAAKGfAABLYwAAFjMAACeDAADmLgAAzBwAABGxAABFOQAAqGAAALGXAACbewAA17gAAFx0AACxagAAuAUAAKZyAAB1gQAAkhUAAEGcAABHSQAAsbcAAH4KAABztAAAon8AAE7CAAC5rQAADGQAAKRjAADGdQAAxzEAAA==",
          "dtype": "i4"
         },
         "yaxis": "y2"
        },
        {
         "hovertemplate": "Symbol: %{x}<br>Avg Volume: %{y:,.0f}<extra></extra>",
         "marker": {
          "color": {
           "bdata": "CtejcN0T2UDD9ShcD5DYQHE9CtfjzNdA4XoUrjdh10D2KFyP0p3aQA==",
           "dtype": "f8"
          },
          "colorbar": {
           "title": {
            "text": "Avg Volume"
           },
           "x": 0.48
          },
          "colorscale": [
           [
            0,
            "#440154"
           ],
           [
            0.1111111111111111,
            "#482878"
           ],
           [
            0.2222222222222222,
            "#3e4989"
           ],
           [
            0.3333333333333333,
            "#31688e"
           ],
           [
            0.4444444444444444,
            "#26828e"
           ],
           [
            0.5555555555555556,
            "#1f9e89"
           ],
           [
            0.6666666666666666,
            "#35b779"
           ],
           [
            0.7777777777777778,
            "#6ece58"
           ],
           [
            0.8888888888888888,
            "#b5de2b"
           ],
           [
            1,
            "#fde725"
           ]
          ],
          "showscale": true
         },
         "text": [
          "25,679",
          "25,152",
          "24,372",
          "23,941",
          "27,255"
         ],
         "textposition": "outside",
         "type": "bar",
         "x": [
          "AAPL",
          "AMZN",
          "GOOGL",
          "MSFT",
          "TSLA"
         ],
         "xaxis": "x2",
         "y": {
          "bdata": "CtejcN0T2UDD9ShcD5DYQHE9CtfjzNdA4XoUrjdh10D2KFyP0p3aQA==",
          "dtype": "f8"
         },
         "yaxis": "y3"
        },
        {
         "hovertemplate": "AAPL<br>Price Range: %{x}<br>Count: %{y}<extra></extra>",
         "marker": {
          "color": "rgb(228,26,28)"
         },
         "name": "AAPL Distribution",
         "nbinsx": 20,
         "opacity": 0.7,
         "type": "histogram",
         "x": {
          "bdata": "PQrXo3DFYkDNzMzMzMxiQI/C9Shc52JA4XoUrkfhYkCamZmZmdliQOxRuB6F22JArkfhehTWYkBSuB6F69FiQFK4HoXrwWJApHA9CtfTYkBSuB6F67FiQAAAAAAAyGJAcT0K16PAYkBxPQrXo+BiQAAAAAAA8GJAMzMzMzPrYkCkcD0K19NiQB+F61G41mJArkfhehTOYkBcj8L1KNRiQClcj8L1yGJAZmZmZmbeYkCamZmZmcFiQJqZmZmZuWJA7FG4HoW7YkBSuB6F69liQAAAAAAAwGJAMzMzMzPLYkDhehSuR+FiQClcj8L14GJAuB6F61HgYkAUrkfherxiQM3MzMzMxGJAj8L1KFyvYkAAAAAAAKhiQHsUrkfhqmJAAAAAAAC4YkAfhetRuMZiQB+F61G4vmJA4XoUrkfRYkBI4XoUru9iQOF6FK5H6WJA9ihcj8LFYkApXI/C9chiQIXrUbgexWJAMzMzMzPjYkDXo3A9Ct9iQDMzMzMz42JAexSuR+HKYkDsUbgehbtiQMP1KFyPumJAMzMzMzOzYkA9CtejcK1iQBSuR+F6pGJAXI/C9Si8YkBxPQrXo7BiQI/C9Shcn2JAcT0K16OAYkB7FK5H4YpiQClcj8L1kGJAFK5H4XqEYkBI4XoUrm9iQOF6FK5HcWJASOF6FK53YkCPwvUoXG9iQDMzMzMza2JAexSuR+FyYkDsUbgehWtiQM3MzMzMdGJAj8L1KFxfYkBcj8L1KFxiQGZmZmZmdmJAAAAAAACIYkDXo3A9Co9iQAAAAAAAkGJAzczMzMyUYkDhehSuR5FiQIXrUbgefWJAw/UoXI+KYkAzMzMzM4tiQBSuR+F6hGJAMzMzMzODYkD2KFyPwo1iQMP1KFyPmmJASOF6FK6nYkCkcD0K15tiQNejcD0Kh2JAcT0K16OAYkC4HoXrUXhiQKRwPQrXY2JAzczMzMxkYkAK16NwPVpiQD0K16NwZWJAj8L1KFxfYkDNzMzMzFRiQLgehetRWGJACtejcD1iYkC4HoXrUXBiQFK4HoXrgWJAFK5H4XpsYkA=",
          "dtype": "f8"
         },
         "xaxis": "x3",
         "yaxis": "y4"
        },
        {
         "hovertemplate": "GOOGL<br>Price Range: %{x}<br>Count: %{y}<extra></extra>",
         "marker": {
          "color": "rgb(55,126,184)"
         },
         "name": "GOOGL Distribution",
         "nbinsx": 20,
         "opacity": 0.7,
         "type": "histogram",
         "x": {
          "bdata": "AAAAAIDgpUBI4XoUrt+lQArXo3A936VAj8L1KNzcpUCuR+F6FNylQPYoXI9C2aVAuB6F61HbpUB7FK5HYdylQK5H4XqU3KVA7FG4HgXfpUApXI/C9d6lQK5H4XoU36VAmpmZmRnepUAfhetRuN2lQHsUrkfh3qVAzczMzMzfpUBxPQrXo+ClQFK4HoVr4aVAcT0K16PgpUAfhetRuN+lQClcj8J13qVAH4XrUTjfpUDD9Shcj92lQHE9Ctej3qVA4XoUrkfdpUCF61G4ntylQClcj8J13aVA9ihcj0LepUDhehSux9+lQLgehevR4KVAw/UoXI/gpUDsUbgehd6lQM3MzMxM4KVApHA9CtffpUAzMzMzs9+lQClcj8L14KVApHA9CtfhpUA9CtejcOKlQOF6FK7H4aVAcT0K1yPjpUCkcD0K1+KlQIXrUbie4qVAPQrXo3DipUC4HoXr0eKlQArXo3C94qVArkfhehTipUBI4XoUruGlQJqZmZkZ4aVAZmZmZmbhpUBSuB6Fa+GlQLgehetR4aVAKVyPwvXhpUDD9Shcj+OlQAAAAAAA5qVAAAAAAADnpUBI4XoUruilQClcj8J16KVAAAAAAIDppUD2KFyPwumlQIXrUbie6KVAuB6F69HnpUDNzMzMTOilQJqZmZkZ6aVAZmZmZmbppUBI4XoULuqlQK5H4XqU6qVAj8L1KFzspUC4HoXrUeylQOF6FK5H66VAuB6F61HppUAfhetROOilQDMzMzOz6KVApHA9CtfopUCkcD0K1+elQGZmZmZm6KVAFK5H4fropUC4HoXr0eulQEjhehQu7aVA16NwPYrspUAK16NwveylQNejcD0K7aVAAAAAAIDspUDhehSux+ylQB+F61G466VAhetRuJ7spUA9CtejcOulQI/C9Sjc7aVAhetRuB7tpUApXI/Cde6lQMP1KFyP76VAhetRuB7vpUA9Ctej8O6lQFK4HoXr7qVAcT0K16PtpUDsUbgeheylQEjhehQu66VArkfhepTspUAzMzMzs+2lQOF6FK7H7aVAMzMzM7PvpUA=",
          "dtype": "f8"
         },
         "xaxis": "x3",
         "yaxis": "y4"
        },
        {
         "hovertemplate": "MSFT<br>Price Range: %{x}<br>Count: %{y}<extra></extra>",
         "marker": {
          "color": "rgb(77,175,74)"
         },
         "name": "MSFT Distribution",
         "nbinsx": 20,
         "opacity": 0.7,
         "type": "histogram",
         "x": {
          "bdata": "ZmZmZmbidUDsUbgehed1QGZmZmZm3nVAMzMzMzPfdUDsUbgehdd1QHsUrkfh1nVAFK5H4XrYdUDhehSuR811QFK4HoXr2XVAuB6F61HkdUD2KFyPwul1QIXrUbge8XVApHA9CtfzdUA9CtejcPl1QFyPwvUo8HVAAAAAAADodUAAAAAAAOR1QIXrUbge3XVAj8L1KFzbdUBxPQrXo9h1QClcj8L18HVAAAAAAAD4dUB7FK5H4QJ2QK5H4XoUDnZAAAAAAAAEdkBcj8L1KAx2QFK4HoXrDXZAj8L1KFwHdkAUrkfhegh2QNejcD0KB3ZAuB6F61H8dUDNzMzMzAx2QD0K16NwCXZA16NwPQoHdkBcj8L1KBB2QArXo3A9EnZAXI/C9SgYdkAfhetRuBJ2QPYoXI/CEXZACtejcD0adkBI4XoUrht2QM3MzMzMKHZAw/UoXI8idkB7FK5H4R52QClcj8L1GHZASOF6FK4XdkBmZmZmZgp2QB+F61G4CnZAH4XrUbgCdkCamZmZmQl2QLgehetREHZAAAAAAAAUdkBmZmZmZgp2QMP1KFyPAnZAKVyPwvX4dUAUrkfheuh1QBSuR+F65HVAH4XrUbjedUAK16NwPep1QLgehetR6HVAzczMzMzkdUCuR+F6FN51QI/C9Shc23VApHA9CtffdUDNzMzMzOB1QHE9Ctej2HVAuB6F61HkdUBI4XoUrtd1QDMzMzMz23VApHA9CtfTdUBcj8L1KOx1QIXrUbge3XVAw/UoXI/adUBcj8L1KOB1QPYoXI/C4XVA4XoUrkftdUCF61G4Hvl1QM3MzMzMAHZArkfhehQCdkAfhetRuPp1QClcj8L19HVAPQrXo3D5dUCF61G4HgV2QFyPwvUoBHZAmpmZmZkVdkCkcD0K1wt2QOxRuB6FF3ZAXI/C9SgYdkAfhetRuAZ2QFK4HoXrAXZAw/UoXI8CdkCamZmZmRF2QClcj8L1CHZAzczMzMwIdkD2KFyPwg12QOF6FK5HFXZArkfhehQWdkB7FK5H4RJ2QFyPwvUoEHZAH4XrUbgCdkA=",
          "dtype": "f8"
         },
         "xaxis": "x3",
         "yaxis": "y4"
        },
        {
         "hovertemplate": "AMZN<br>Price Range: %{x}<br>Count: %{y}<extra></extra>",
         "marker": {
          "color": "rgb(152,78,163)"
         },
         "name": "AMZN Distribution",
         "nbinsx": 20,
         "opacity": 0.7,
         "type": "histogram",
         "x": {
          "bdata": "FK5H4frHqUAfhetRuMmpQNejcD2KyqlAzczMzMzKqUCkcD0K18upQClcj8L1y6lAcT0K1yPNqUDsUbgehc2pQFK4HoXrzqlAH4XrUTjQqUAK16NwPc+pQLgehetRz6lAAAAAAADQqUBmZmZm5sypQOF6FK5HzqlAFK5H4frNqUDD9ShcD82pQK5H4XoUzalAexSuR+HOqUApXI/C9c6pQFyPwvUo0KlASOF6FK7PqUDhehSux8+pQOF6FK7Hz6lACtejcL3NqUBmZmZm5s6pQNejcD2KzqlAFK5H4XrOqUC4HoXrUc+pQBSuR+H6z6lAMzMzMzPQqUDhehSuR9CpQOxRuB6Fz6lAzczMzMzOqUD2KFyPws6pQClcj8L1zalAKVyPwvXNqUD2KFyPQs2pQFyPwvUozalASOF6FK7LqUAUrkfh+supQDMzMzOzzKlAUrgehevNqUCPwvUo3M2pQBSuR+F6zqlAhetRuB7PqUDD9Shcj8+pQJqZmZmZ0KlAexSuR2HRqUDsUbgehdCpQD0K16Pwz6lA4XoUrsfRqUDhehSux9GpQHsUrkdh0qlArkfhepTRqUD2KFyPwtCpQM3MzMxM0alAzczMzEzQqUCamZmZGdCpQHE9Ctejz6lApHA9CtfNqUDD9Shcj86pQNejcD0Kz6lAexSuR+HOqUCF61G4ns2pQIXrUbiezalAmpmZmZnNqUDsUbgeBcypQHE9Ctejy6lApHA9ClfMqUBcj8L1KMypQKRwPQpXy6lAZmZmZubKqUAUrkfh+sypQGZmZmZmy6lAXI/C9ajMqUDXo3A9is2pQK5H4XqUzalA9ihcj8LNqUD2KFyPQs6pQFyPwvUozqlAexSuR2HOqUBmZmZm5tCpQK5H4XqUz6lArkfhehTQqUCuR+F6FNCpQEjhehQu0KlAXI/C9SjSqUCF61G4ntKpQHsUrkdh0alACtejcL3SqUBcj8L1qNOpQArXo3A906lASOF6FK7SqUCF61G4ntGpQFK4HoXr0KlAPQrXo/DRqUBcj8L1KNOpQClcj8L10qlACtejcL3SqUA=",
          "dtype": "f8"
         },
         "xaxis": "x3",
         "yaxis": "y4"
        },
        {
         "hovertemplate": "TSLA<br>Price Range: %{x}<br>Count: %{y}<extra></extra>",
         "marker": {
          "color": "rgb(255,127,0)"
         },
         "name": "TSLA Distribution",
         "nbinsx": 20,
         "opacity": 0.7,
         "type": "histogram",
         "x": {
          "bdata": "w/UoXI/6iECF61G4HvuIQFK4HoXr+4hASOF6FK77iEC4HoXrUf6IQBSuR+F6+IhAH4XrUbj+iEBcj8L1KP6IQJqZmZmZA4lAKVyPwvX6iEAfhetRuPSIQHsUrkfh8IhA16NwPQrxiEA9CtejcO2IQGZmZmZm8IhA7FG4HoXviEBmZmZmZvCIQK5H4XoU6ohAmpmZmZnriEDXo3A9Cu+IQHsUrkfh7IhAFK5H4XroiECF61G4HumIQHsUrkfh5ohAmpmZmZnliEAUrkfheuaIQOxRuB6F6YhAAAAAAADqiEDNzMzMzOyIQKRwPQrX64hAzczMzMzoiEDNzMzMzOaIQD0K16Nw7YhAZmZmZmbmiECamZmZmeGIQClcj8L14ohApHA9CtfdiEBSuB6F69WIQOF6FK5H14hAw/UoXI/UiEAfhetRuNqIQOF6FK5H34hAzczMzMzciEAUrkfhetSIQClcj8L12IhAhetRuB7XiEAK16NwPdSIQB+F61G42ohAPQrXo3DhiEAzMzMzM9+IQKRwPQrX34hArkfhehTciEBcj8L1KOKIQB+F61G41ohApHA9CtfZiEAzMzMzM92IQJqZmZmZ24hAFK5H4XriiEDXo3A9CuOIQMP1KFyP4IhAcT0K16PciECPwvUoXNuIQFyPwvUo0ohAKVyPwvXQiEAUrkfhes6IQK5H4XoU1IhAw/UoXI/QiEDsUbgehdGIQGZmZmZmzohAw/UoXI/AiED2KFyPwr+IQB+F61G4wohASOF6FK67iEDsUbgehb+IQHE9CtejvohACtejcD3CiEBxPQrXo76IQGZmZmZmwIhAKVyPwvW8iEAfhetRuLyIQBSuR+F6tohA9ihcj8K1iEAfhetRuLSIQOF6FK5HsYhAw/UoXI+2iEDsUbgehbeIQGZmZmZmuohAZmZmZma4iEDsUbgehbmIQLgehetRvohAMzMzMzO9iEB7FK5H4cKIQDMzMzMzw4hAcT0K16PAiECuR+F6FMSIQHsUrkfhvIhAMzMzMzO7iEAUrkfher6IQFyPwvUowohAw/UoXI++iEA=",
          "dtype": "f8"
         },
         "xaxis": "x3",
         "yaxis": "y4"
        },
        {
         "colorbar": {
          "title": {
           "text": "Correlation"
          },
          "x": 1.02
         },
         "colorscale": [
          [
           0,
           "rgb(103,0,31)"
          ],
          [
           0.1,
           "rgb(178,24,43)"
          ],
          [
           0.2,
           "rgb(214,96,77)"
          ],
          [
           0.3,
           "rgb(244,165,130)"
          ],
          [
           0.4,
           "rgb(253,219,199)"
          ],
          [
           0.5,
           "rgb(247,247,247)"
          ],
          [
           0.6,
           "rgb(209,229,240)"
          ],
          [
           0.7,
           "rgb(146,197,222)"
          ],
          [
           0.8,
           "rgb(67,147,195)"
          ],
          [
           0.9,
           "rgb(33,102,172)"
          ],
          [
           1,
           "rgb(5,48,97)"
          ]
         ],
         "hovertemplate": "%{x} vs %{y}<br>Correlation: %{z:.3f}<extra></extra>",
         "showscale": true,
         "text": {
          "bdata": "AAAAAAAA8D8AAAAAAAAAAAAAAAAAAAAAAAAAAAAAAAAAAAAAAAAAgAAAAAAAAAAAAAAAAAAA8D8AAAAAAAAAgAAAAAAAAACAAAAAAAAAAAAAAAAAAAAAAAAAAAAAAACAAAAAAAAA8D8AAAAAAAAAgAAAAAAAAAAAAAAAAAAAAAAAAAAAAAAAgAAAAAAAAACAAAAAAAAA8D8AAAAAAAAAAAAAAAAAAACAAAAAAAAAAAAAAAAAAAAAAAAAAAAAAAAAAAAAAAAA8D8=",
          "dtype": "f8",
          "shape": "5, 5"
         },
         "texttemplate": "%{text}",
         "type": "heatmap",
         "x": [
          "AAPL",
          "AMZN",
          "GOOGL",
          "MSFT",
          "TSLA"
         ],
         "xaxis": "x4",
         "y": [
          "AAPL",
          "AMZN",
          "GOOGL",
          "MSFT",
          "TSLA"
         ],
         "yaxis": "y5",
         "z": {
          "bdata": "AAAAAAAA8D8Xxsj74NNUP545HYdQhFk/7NpH1qCxPD+k+iNuNANavxfGyPvg01Q/AAAAAAAA8D8XZYke1kxpv/Xt+CM+c0y/SLDOI6bKaT+eOR2HUIRZPxdliR7WTGm/AAAAAAAA8D92O2DdgW1Rv6Jns5gwmW8/7NpH1qCxPD/17fgjPnNMv3Y7YN2BbVG/AAAAAAAA8D8vuNUNLMRRP6T6I240A1q/SLDOI6bKaT+iZ7OYMJlvPy+41Q0sxFE/AAAAAAAA8D8=",
          "dtype": "f8",
          "shape": "5, 5"
         },
         "zmid": 0
        },
        {
         "hovertemplate": "HOLD<br>Symbol: %{x}<br>Change: %{y:.2f}%<extra></extra>",
         "marker": {
          "color": "blue",
          "line": {
           "color": "white",
           "width": 2
          },
          "size": 15,
          "symbol": "circle"
         },
         "mode": "markers",
         "name": "HOLD Signal",
         "type": "scatter",
         "x": [
          "AAPL",
          "AMZN",
          "GOOGL",
          "MSFT",
          "TSLA"
         ],
         "xaxis": "x5",
         "y": {
          "bdata": "zczMzMzM3L8AAAAAAAAAgLgehetRuJ4/uB6F61G4zr+4HoXrUbiuvw==",
          "dtype": "f8"
         },
         "yaxis": "y6"
        },
        {
         "cells": {
          "align": "center",
          "fill": {
           "color": [
            [
             "lightblue",
             "white",
             "lightblue",
             "white",
             "lightblue",
             "white",
             "lightblue",
             "white",
             "lightblue",
             "white"
            ]
           ]
          },
          "font": {
           "size": 10
          },
          "values": [
           [
            "AAPL",
            "AMZN",
            "GOOGL",
            "MSFT",
            "TSLA"
           ],
           [
            "$147.39",
            "$3305.37",
            "$2807.85",
            "$352.17",
            "$791.82"
           ],
           [
            "-0.45%",
            "-0.00%",
            "+0.03%",
            "-0.24%",
            "-0.06%"
           ],
           [
            "16,278",
            "5,144",
            "43,306",
            "15,272",
            "12,743"
           ],
           [
            "📉 Losing",
            "➡️ Flat",
            "📈 Gaining",
            "📉 Losing",
            "📉 Losing"
           ]
          ]
         },
         "domain": {
          "x": [
           0.53,
           0.94
          ],
          "y": [
           0,
           0.25333333333333335
          ]
         },
         "header": {
          "align": "center",
          "fill": {
           "color": "navy"
          },
          "font": {
           "color": "white",
           "size": 12
          },
          "values": [
           "<b>Symbol</b>",
           "<b>Price</b>",
           "<b>Change %</b>",
           "<b>Volume</b>",
           "<b>Status</b>"
          ]
         },
         "type": "table"
        }
       ],
       "layout": {
        "annotations": [
         {
          "font": {
           "size": 16
          },
          "showarrow": false,
          "text": "A. Real-time Price Movement",
          "x": 0.205,
          "xanchor": "center",
          "xref": "paper",
          "y": 1,
          "yanchor": "bottom",
          "yref": "paper"
         },
         {
          "font": {
           "size": 16
          },
          "showarrow": false,
          "text": "B. Volume Analysis",
          "x": 0.735,
          "xanchor": "center",
          "xref": "paper",
          "y": 1,
          "yanchor": "bottom",
          "yref": "paper"
         },
         {
          "font": {
           "size": 16
          },
          "showarrow": false,
          "text": "C. Price Distribution & Volatility",
          "x": 0.205,
          "xanchor": "center",
          "xref": "paper",
          "y": 0.6266666666666667,
          "yanchor": "bottom",
          "yref": "paper"
         },
         {
          "font": {
           "size": 16
          },
          "showarrow": false,
          "text": "D. Market Performance Heatmap",
          "x": 0.735,
          "xanchor": "center",
          "xref": "paper",
          "y": 0.6266666666666667,
          "yanchor": "bottom",
          "yref": "paper"
         },
         {
          "font": {
           "size": 16
          },
          "showarrow": false,
          "text": "E. Trading Signals & Alerts",
          "x": 0.205,
          "xanchor": "center",
          "xref": "paper",
          "y": 0.25333333333333335,
          "yanchor": "bottom",
          "yref": "paper"
         },
         {
          "font": {
           "size": 16
          },
          "showarrow": false,
          "text": "F. Portfolio Performance Summary",
          "x": 0.735,
          "xanchor": "center",
          "xref": "paper",
          "y": 0.25333333333333335,
          "yanchor": "bottom",
          "yref": "paper"
         },
         {
          "showarrow": false,
          "text": "Buy Threshold",
          "x": 1,
          "xanchor": "right",
          "xref": "x5 domain",
          "y": 2,
          "yanchor": "bottom",
          "yref": "y6"
         },
         {
          "showarrow": false,
          "text": "Sell Threshold",
          "x": 1,
          "xanchor": "right",
          "xref": "x5 domain",
          "y": -2,
          "yanchor": "bottom",
          "yref": "y6"
         }
        ],
        "height": 1200,
        "shapes": [
         {
          "line": {
           "color": "green",
           "dash": "dash"
          },
          "type": "line",
          "x0": 0,
          "x1": 1,
          "xref": "x5 domain",
          "y0": 2,
          "y1": 2,
          "yref": "y6"
         },
         {
          "line": {
           "color": "red",
           "dash": "dash"
          },
          "type": "line",
          "x0": 0,
          "x1": 1,
          "xref": "x5 domain",
          "y0": -2,
          "y1": -2,
          "yref": "y6"
         }
        ],
        "showlegend": true,
        "template": {
         "data": {
          "bar": [
           {
            "error_x": {
             "color": "#2a3f5f"
            },
            "error_y": {
             "color": "#2a3f5f"
            },
            "marker": {
             "line": {
              "color": "white",
              "width": 0.5
             },
             "pattern": {
              "fillmode": "overlay",
              "size": 10,
              "solidity": 0.2
             }
            },
            "type": "bar"
           }
          ],
          "barpolar": [
           {
            "marker": {
             "line": {
              "color": "white",
              "width": 0.5
             },
             "pattern": {
              "fillmode": "overlay",
              "size": 10,
              "solidity": 0.2
             }
            },
            "type": "barpolar"
           }
          ],
          "carpet": [
           {
            "aaxis": {
             "endlinecolor": "#2a3f5f",
             "gridcolor": "#C8D4E3",
             "linecolor": "#C8D4E3",
             "minorgridcolor": "#C8D4E3",
             "startlinecolor": "#2a3f5f"
            },
            "baxis": {
             "endlinecolor": "#2a3f5f",
             "gridcolor": "#C8D4E3",
             "linecolor": "#C8D4E3",
             "minorgridcolor": "#C8D4E3",
             "startlinecolor": "#2a3f5f"
            },
            "type": "carpet"
           }
          ],
          "choropleth": [
           {
            "colorbar": {
             "outlinewidth": 0,
             "ticks": ""
            },
            "type": "choropleth"
           }
          ],
          "contour": [
           {
            "colorbar": {
             "outlinewidth": 0,
             "ticks": ""
            },
            "colorscale": [
             [
              0,
              "#0d0887"
             ],
             [
              0.1111111111111111,
              "#46039f"
             ],
             [
              0.2222222222222222,
              "#7201a8"
             ],
             [
              0.3333333333333333,
              "#9c179e"
             ],
             [
              0.4444444444444444,
              "#bd3786"
             ],
             [
              0.5555555555555556,
              "#d8576b"
             ],
             [
              0.6666666666666666,
              "#ed7953"
             ],
             [
              0.7777777777777778,
              "#fb9f3a"
             ],
             [
              0.8888888888888888,
              "#fdca26"
             ],
             [
              1,
              "#f0f921"
             ]
            ],
            "type": "contour"
           }
          ],
          "contourcarpet": [
           {
            "colorbar": {
             "outlinewidth": 0,
             "ticks": ""
            },
            "type": "contourcarpet"
           }
          ],
          "heatmap": [
           {
            "colorbar": {
             "outlinewidth": 0,
             "ticks": ""
            },
            "colorscale": [
             [
              0,
              "#0d0887"
             ],
             [
              0.1111111111111111,
              "#46039f"
             ],
             [
              0.2222222222222222,
              "#7201a8"
             ],
             [
              0.3333333333333333,
              "#9c179e"
             ],
             [
              0.4444444444444444,
              "#bd3786"
             ],
             [
              0.5555555555555556,
              "#d8576b"
             ],
             [
              0.6666666666666666,
              "#ed7953"
             ],
             [
              0.7777777777777778,
              "#fb9f3a"
             ],
             [
              0.8888888888888888,
              "#fdca26"
             ],
             [
              1,
              "#f0f921"
             ]
            ],
            "type": "heatmap"
           }
          ],
          "histogram": [
           {
            "marker": {
             "pattern": {
              "fillmode": "overlay",
              "size": 10,
              "solidity": 0.2
             }
            },
            "type": "histogram"
           }
          ],
          "histogram2d": [
           {
            "colorbar": {
             "outlinewidth": 0,
             "ticks": ""
            },
            "colorscale": [
             [
              0,
              "#0d0887"
             ],
             [
              0.1111111111111111,
              "#46039f"
             ],
             [
              0.2222222222222222,
              "#7201a8"
             ],
             [
              0.3333333333333333,
              "#9c179e"
             ],
             [
              0.4444444444444444,
              "#bd3786"
             ],
             [
              0.5555555555555556,
              "#d8576b"
             ],
             [
              0.6666666666666666,
              "#ed7953"
             ],
             [
              0.7777777777777778,
              "#fb9f3a"
             ],
             [
              0.8888888888888888,
              "#fdca26"
             ],
             [
              1,
              "#f0f921"
             ]
            ],
            "type": "histogram2d"
           }
          ],
          "histogram2dcontour": [
           {
            "colorbar": {
             "outlinewidth": 0,
             "ticks": ""
            },
            "colorscale": [
             [
              0,
              "#0d0887"
             ],
             [
              0.1111111111111111,
              "#46039f"
             ],
             [
              0.2222222222222222,
              "#7201a8"
             ],
             [
              0.3333333333333333,
              "#9c179e"
             ],
             [
              0.4444444444444444,
              "#bd3786"
             ],
             [
              0.5555555555555556,
              "#d8576b"
             ],
             [
              0.6666666666666666,
              "#ed7953"
             ],
             [
              0.7777777777777778,
              "#fb9f3a"
             ],
             [
              0.8888888888888888,
              "#fdca26"
             ],
             [
              1,
              "#f0f921"
             ]
            ],
            "type": "histogram2dcontour"
           }
          ],
          "mesh3d": [
           {
            "colorbar": {
             "outlinewidth": 0,
             "ticks": ""
            },
            "type": "mesh3d"
           }
          ],
          "parcoords": [
           {
            "line": {
             "colorbar": {
              "outlinewidth": 0,
              "ticks": ""
             }
            },
            "type": "parcoords"
           }
          ],
          "pie": [
           {
            "automargin": true,
            "type": "pie"
           }
          ],
          "scatter": [
           {
            "fillpattern": {
             "fillmode": "overlay",
             "size": 10,
             "solidity": 0.2
            },
            "type": "scatter"
           }
          ],
          "scatter3d": [
           {
            "line": {
             "colorbar": {
              "outlinewidth": 0,
              "ticks": ""
             }
            },
            "marker": {
             "colorbar": {
              "outlinewidth": 0,
              "ticks": ""
             }
            },
            "type": "scatter3d"
           }
          ],
          "scattercarpet": [
           {
            "marker": {
             "colorbar": {
              "outlinewidth": 0,
              "ticks": ""
             }
            },
            "type": "scattercarpet"
           }
          ],
          "scattergeo": [
           {
            "marker": {
             "colorbar": {
              "outlinewidth": 0,
              "ticks": ""
             }
            },
            "type": "scattergeo"
           }
          ],
          "scattergl": [
           {
            "marker": {
             "colorbar": {
              "outlinewidth": 0,
              "ticks": ""
             }
            },
            "type": "scattergl"
           }
          ],
          "scattermap": [
           {
            "marker": {
             "colorbar": {
              "outlinewidth": 0,
              "ticks": ""
             }
            },
            "type": "scattermap"
           }
          ],
          "scattermapbox": [
           {
            "marker": {
             "colorbar": {
              "outlinewidth": 0,
              "ticks": ""
             }
            },
            "type": "scattermapbox"
           }
          ],
          "scatterpolar": [
           {
            "marker": {
             "colorbar": {
              "outlinewidth": 0,
              "ticks": ""
             }
            },
            "type": "scatterpolar"
           }
          ],
          "scatterpolargl": [
           {
            "marker": {
             "colorbar": {
              "outlinewidth": 0,
              "ticks": ""
             }
            },
            "type": "scatterpolargl"
           }
          ],
          "scatterternary": [
           {
            "marker": {
             "colorbar": {
              "outlinewidth": 0,
              "ticks": ""
             }
            },
            "type": "scatterternary"
           }
          ],
          "surface": [
           {
            "colorbar": {
             "outlinewidth": 0,
             "ticks": ""
            },
            "colorscale": [
             [
              0,
              "#0d0887"
             ],
             [
              0.1111111111111111,
              "#46039f"
             ],
             [
              0.2222222222222222,
              "#7201a8"
             ],
             [
              0.3333333333333333,
              "#9c179e"
             ],
             [
              0.4444444444444444,
              "#bd3786"
             ],
             [
              0.5555555555555556,
              "#d8576b"
             ],
             [
              0.6666666666666666,
              "#ed7953"
             ],
             [
              0.7777777777777778,
              "#fb9f3a"
             ],
             [
              0.8888888888888888,
              "#fdca26"
             ],
             [
              1,
              "#f0f921"
             ]
            ],
            "type": "surface"
           }
          ],
          "table": [
           {
            "cells": {
             "fill": {
              "color": "#EBF0F8"
             },
             "line": {
              "color": "white"
             }
            },
            "header": {
             "fill": {
              "color": "#C8D4E3"
             },
             "line": {
              "color": "white"
             }
            },
            "type": "table"
           }
          ]
         },
         "layout": {
          "annotationdefaults": {
           "arrowcolor": "#2a3f5f",
           "arrowhead": 0,
           "arrowwidth": 1
          },
          "autotypenumbers": "strict",
          "coloraxis": {
           "colorbar": {
            "outlinewidth": 0,
            "ticks": ""
           }
          },
          "colorscale": {
           "diverging": [
            [
             0,
             "#8e0152"
            ],
            [
             0.1,
             "#c51b7d"
            ],
            [
             0.2,
             "#de77ae"
            ],
            [
             0.3,
             "#f1b6da"
            ],
            [
             0.4,
             "#fde0ef"
            ],
            [
             0.5,
             "#f7f7f7"
            ],
            [
             0.6,
             "#e6f5d0"
            ],
            [
             0.7,
             "#b8e186"
            ],
            [
             0.8,
             "#7fbc41"
            ],
            [
             0.9,
             "#4d9221"
            ],
            [
             1,
             "#276419"
            ]
           ],
           "sequential": [
            [
             0,
             "#0d0887"
            ],
            [
             0.1111111111111111,
             "#46039f"
            ],
            [
             0.2222222222222222,
             "#7201a8"
            ],
            [
             0.3333333333333333,
             "#9c179e"
            ],
            [
             0.4444444444444444,
             "#bd3786"
            ],
            [
             0.5555555555555556,
             "#d8576b"
            ],
            [
             0.6666666666666666,
             "#ed7953"
            ],
            [
             0.7777777777777778,
             "#fb9f3a"
            ],
            [
             0.8888888888888888,
             "#fdca26"
            ],
            [
             1,
             "#f0f921"
            ]
           ],
           "sequentialminus": [
            [
             0,
             "#0d0887"
            ],
            [
             0.1111111111111111,
             "#46039f"
            ],
            [
             0.2222222222222222,
             "#7201a8"
            ],
            [
             0.3333333333333333,
             "#9c179e"
            ],
            [
             0.4444444444444444,
             "#bd3786"
            ],
            [
             0.5555555555555556,
             "#d8576b"
            ],
            [
             0.6666666666666666,
             "#ed7953"
            ],
            [
             0.7777777777777778,
             "#fb9f3a"
            ],
            [
             0.8888888888888888,
             "#fdca26"
            ],
            [
             1,
             "#f0f921"
            ]
           ]
          },
          "colorway": [
           "#636efa",
           "#EF553B",
           "#00cc96",
           "#ab63fa",
           "#FFA15A",
           "#19d3f3",
           "#FF6692",
           "#B6E880",
           "#FF97FF",
           "#FECB52"
          ],
          "font": {
           "color": "#2a3f5f"
          },
          "geo": {
           "bgcolor": "white",
           "lakecolor": "white",
           "landcolor": "white",
           "showlakes": true,
           "showland": true,
           "subunitcolor": "#C8D4E3"
          },
          "hoverlabel": {
           "align": "left"
          },
          "hovermode": "closest",
          "mapbox": {
           "style": "light"
          },
          "paper_bgcolor": "white",
          "plot_bgcolor": "white",
          "polar": {
           "angularaxis": {
            "gridcolor": "#EBF0F8",
            "linecolor": "#EBF0F8",
            "ticks": ""
           },
           "bgcolor": "white",
           "radialaxis": {
            "gridcolor": "#EBF0F8",
            "linecolor": "#EBF0F8",
            "ticks": ""
           }
          },
          "scene": {
           "xaxis": {
            "backgroundcolor": "white",
            "gridcolor": "#DFE8F3",
            "gridwidth": 2,
            "linecolor": "#EBF0F8",
            "showbackground": true,
            "ticks": "",
            "zerolinecolor": "#EBF0F8"
           },
           "yaxis": {
            "backgroundcolor": "white",
            "gridcolor": "#DFE8F3",
            "gridwidth": 2,
            "linecolor": "#EBF0F8",
            "showbackground": true,
            "ticks": "",
            "zerolinecolor": "#EBF0F8"
           },
           "zaxis": {
            "backgroundcolor": "white",
            "gridcolor": "#DFE8F3",
            "gridwidth": 2,
            "linecolor": "#EBF0F8",
            "showbackground": true,
            "ticks": "",
            "zerolinecolor": "#EBF0F8"
           }
          },
          "shapedefaults": {
           "line": {
            "color": "#2a3f5f"
           }
          },
          "ternary": {
           "aaxis": {
            "gridcolor": "#DFE8F3",
            "linecolor": "#A2B1C6",
            "ticks": ""
           },
           "baxis": {
            "gridcolor": "#DFE8F3",
            "linecolor": "#A2B1C6",
            "ticks": ""
           },
           "bgcolor": "white",
           "caxis": {
            "gridcolor": "#DFE8F3",
            "linecolor": "#A2B1C6",
            "ticks": ""
           }
          },
          "title": {
           "x": 0.05
          },
          "xaxis": {
           "automargin": true,
           "gridcolor": "#EBF0F8",
           "linecolor": "#EBF0F8",
           "ticks": "",
           "title": {
            "standoff": 15
           },
           "zerolinecolor": "#EBF0F8",
           "zerolinewidth": 2
          },
          "yaxis": {
           "automargin": true,
           "gridcolor": "#EBF0F8",
           "linecolor": "#EBF0F8",
           "ticks": "",
           "title": {
            "standoff": 15
           },
           "zerolinecolor": "#EBF0F8",
           "zerolinewidth": 2
          }
         }
        },
        "title": {
         "font": {
          "size": 20
         },
         "text": "💰 Real-time Financial Trading Dashboard<br><sub>Live market data with trading signals and portfolio analysis</sub>",
         "x": 0.5,
         "xanchor": "center"
        },
        "xaxis": {
         "anchor": "y",
         "domain": [
          0,
          0.41
         ],
         "title": {
          "text": "Time"
         }
        },
        "xaxis2": {
         "anchor": "y3",
         "domain": [
          0.53,
          0.94
         ],
         "title": {
          "text": "Symbols"
         }
        },
        "xaxis3": {
         "anchor": "y4",
         "domain": [
          0,
          0.41
         ],
         "title": {
          "text": "Price ($)"
         }
        },
        "xaxis4": {
         "anchor": "y5",
         "domain": [
          0.53,
          0.94
         ]
        },
        "xaxis5": {
         "anchor": "y6",
         "domain": [
          0,
          0.41
         ],
         "title": {
          "text": "Symbols"
         }
        },
        "yaxis": {
         "anchor": "x",
         "domain": [
          0.7466666666666667,
          1
         ],
         "title": {
          "text": "Price ($)"
         }
        },
        "yaxis2": {
         "anchor": "x",
         "overlaying": "y",
         "side": "right",
         "title": {
          "text": "Volume"
         }
        },
        "yaxis3": {
         "anchor": "x2",
         "domain": [
          0.7466666666666667,
          1
         ],
         "title": {
          "text": "Average Volume"
         }
        },
        "yaxis4": {
         "anchor": "x3",
         "domain": [
          0.37333333333333335,
          0.6266666666666667
         ],
         "title": {
          "text": "Frequency"
         }
        },
        "yaxis5": {
         "anchor": "x4",
         "domain": [
          0.37333333333333335,
          0.6266666666666667
         ]
        },
        "yaxis6": {
         "anchor": "x5",
         "domain": [
          0,
          0.25333333333333335
         ],
         "title": {
          "text": "Change %"
         }
        },
        "yaxis7": {
         "anchor": "x5",
         "overlaying": "y6",
         "side": "right",
         "title": {
          "text": "Change %"
         }
        }
       }
      }
     },
     "metadata": {},
     "output_type": "display_data"
    },
    {
     "name": "stdout",
     "output_type": "stream",
     "text": [
      "\n",
      "💰 REAL-TIME FINANCIAL DASHBOARD ANALYSIS:\n",
      "==================================================\n",
      "📊 Market Data Summary:\n",
      "   📈 Total Data Points: 500\n",
      "   🏢 Symbols Tracked: 5\n",
      "   ⏱️  Time Range: 2025-08-27 03:02:47.459179 to 2025-08-27 03:02:47.594489\n",
      "\n",
      "🎯 Trading Signals Generated:\n",
      "   🔵 HOLD: 5 signals\n",
      "\n",
      "📊 Market Correlations:\n",
      "Top Correlated Pairs:\n",
      "   📈 GOOGL - TSLA: 0.004\n",
      "   📈 AMZN - TSLA: 0.003\n",
      "   📈 AMZN - GOOGL: -0.003\n",
      "\n",
      "⚡ Real-time Features Demonstrated:\n",
      "   🔄 Live data streaming simulation\n",
      "   📊 Multi-symbol price tracking\n",
      "   📈 Volume analysis and correlations\n",
      "   🚨 Automated trading signal generation\n",
      "   📱 Mobile-responsive dashboard layout\n",
      "\n",
      "✅ Real-time Financial Dashboard Complete!\n",
      "🎨 Production-ready for trading platforms and financial analysis!\n"
     ]
    }
   ],
   "source": [
    "# 💰 Real-time Financial Trading Dashboard\n",
    "# Create live financial market visualization with streaming price feeds\n",
    "\n",
    "print(\"💰 Creating Real-time Financial Trading Dashboard\")\n",
    "print(\"=\" * 55)\n",
    "\n",
    "def create_realtime_financial_dashboard():\n",
    "    \"\"\"\n",
    "    Create comprehensive real-time financial dashboard with live market data\n",
    "    \"\"\"\n",
    "    \n",
    "    # Simulate continuous data collection\n",
    "    print(\"📈 Simulating Live Market Data Feed...\")\n",
    "    \n",
    "    # Generate additional market data\n",
    "    symbols = ['AAPL', 'GOOGL', 'MSFT', 'AMZN', 'TSLA']\n",
    "    base_prices = {'AAPL': 150, 'GOOGL': 2800, 'MSFT': 350, 'AMZN': 3300, 'TSLA': 800}\n",
    "    \n",
    "    # Generate streaming data for multiple symbols\n",
    "    multi_symbol_data = []\n",
    "    for _ in range(100):  # Simulate 100 data points\n",
    "        for symbol in symbols:\n",
    "            # Update base price for random walk\n",
    "            current_base = base_prices[symbol]\n",
    "            price_data = stream_generator.generate_financial_data(symbol, current_base)\n",
    "            base_prices[symbol] = price_data['price']  # Update for next iteration\n",
    "            multi_symbol_data.append(price_data)\n",
    "        \n",
    "        # Small time increment\n",
    "        time.sleep(0.001)  # Minimal delay for simulation\n",
    "    \n",
    "    financial_df = pd.DataFrame(multi_symbol_data)\n",
    "    financial_df['timestamp'] = pd.to_datetime(financial_df['timestamp'])\n",
    "    \n",
    "    print(f\"   ✅ Generated {len(financial_df)} market data points across {len(symbols)} symbols\")\n",
    "    \n",
    "    # Create comprehensive financial dashboard\n",
    "    fig_financial = make_subplots(\n",
    "        rows=3, cols=2,\n",
    "        subplot_titles=[\n",
    "            \"A. Real-time Price Movement\",\n",
    "            \"B. Volume Analysis\", \n",
    "            \"C. Price Distribution & Volatility\",\n",
    "            \"D. Market Performance Heatmap\",\n",
    "            \"E. Trading Signals & Alerts\",\n",
    "            \"F. Portfolio Performance Summary\"\n",
    "        ],\n",
    "        specs=[\n",
    "            [{\"secondary_y\": True}, {\"type\": \"bar\"}],\n",
    "            [{\"type\": \"histogram\"}, {\"type\": \"heatmap\"}],\n",
    "            [{\"secondary_y\": True}, {\"type\": \"table\"}]\n",
    "        ],\n",
    "        vertical_spacing=0.12,\n",
    "        horizontal_spacing=0.12\n",
    "    )\n",
    "    \n",
    "    # A. Real-time price movements\n",
    "    colors = px.colors.qualitative.Set1\n",
    "    for i, symbol in enumerate(symbols):\n",
    "        symbol_data = financial_df[financial_df['symbol'] == symbol].copy()\n",
    "        symbol_data = symbol_data.sort_values('timestamp')\n",
    "        \n",
    "        # Price line\n",
    "        fig_financial.add_trace(\n",
    "            go.Scatter(\n",
    "                x=symbol_data['timestamp'],\n",
    "                y=symbol_data['price'],\n",
    "                mode='lines',\n",
    "                name=f'{symbol} Price',\n",
    "                line=dict(color=colors[i], width=2),\n",
    "                hovertemplate=f'{symbol}<br>Time: %{{x}}<br>Price: $%{{y:.2f}}<extra></extra>'\n",
    "            ),\n",
    "            row=1, col=1\n",
    "        )\n",
    "        \n",
    "        # Volume on secondary axis\n",
    "        fig_financial.add_trace(\n",
    "            go.Bar(\n",
    "                x=symbol_data['timestamp'],\n",
    "                y=symbol_data['volume'],\n",
    "                name=f'{symbol} Volume',\n",
    "                marker_color=colors[i],\n",
    "                opacity=0.3,\n",
    "                yaxis='y2',\n",
    "                hovertemplate=f'{symbol}<br>Time: %{{x}}<br>Volume: %{{y:,}}<extra></extra>'\n",
    "            ),\n",
    "            row=1, col=1, secondary_y=True\n",
    "        )\n",
    "    \n",
    "    # B. Volume analysis by symbol\n",
    "    volume_by_symbol = financial_df.groupby('symbol')['volume'].mean().reset_index()\n",
    "    \n",
    "    fig_financial.add_trace(\n",
    "        go.Bar(\n",
    "            x=volume_by_symbol['symbol'],\n",
    "            y=volume_by_symbol['volume'],\n",
    "            marker=dict(\n",
    "                color=volume_by_symbol['volume'],\n",
    "                colorscale='Viridis',\n",
    "                showscale=True,\n",
    "                colorbar=dict(title=\"Avg Volume\", x=0.48)\n",
    "            ),\n",
    "            text=[f'{v:,.0f}' for v in volume_by_symbol['volume']],\n",
    "            textposition='outside',\n",
    "            hovertemplate='Symbol: %{x}<br>Avg Volume: %{y:,.0f}<extra></extra>'\n",
    "        ),\n",
    "        row=1, col=2\n",
    "    )\n",
    "    \n",
    "    # C. Price distribution and volatility\n",
    "    for i, symbol in enumerate(symbols):\n",
    "        symbol_data = financial_df[financial_df['symbol'] == symbol]\n",
    "        \n",
    "        fig_financial.add_trace(\n",
    "            go.Histogram(\n",
    "                x=symbol_data['price'],\n",
    "                name=f'{symbol} Distribution',\n",
    "                opacity=0.7,\n",
    "                nbinsx=20,\n",
    "                marker_color=colors[i],\n",
    "                hovertemplate=f'{symbol}<br>Price Range: %{{x}}<br>Count: %{{y}}<extra></extra>'\n",
    "            ),\n",
    "            row=2, col=1\n",
    "        )\n",
    "    \n",
    "    # D. Market performance heatmap\n",
    "    # Calculate returns and correlations\n",
    "    price_pivot = financial_df.pivot_table(\n",
    "        index='timestamp', \n",
    "        columns='symbol', \n",
    "        values='price'\n",
    "    ).ffill()  # Use ffill() instead of fillna(method='forward')\n",
    "    \n",
    "    returns = price_pivot.pct_change().dropna()\n",
    "    correlation_matrix = returns.corr()\n",
    "    \n",
    "    fig_financial.add_trace(\n",
    "        go.Heatmap(\n",
    "            z=correlation_matrix.values,\n",
    "            x=correlation_matrix.columns,\n",
    "            y=correlation_matrix.index,\n",
    "            colorscale='RdBu',\n",
    "            zmid=0,\n",
    "            text=correlation_matrix.round(2).values,\n",
    "            texttemplate='%{text}',\n",
    "            showscale=True,\n",
    "            colorbar=dict(title=\"Correlation\", x=1.02),\n",
    "            hovertemplate='%{x} vs %{y}<br>Correlation: %{z:.3f}<extra></extra>'\n",
    "        ),\n",
    "        row=2, col=2\n",
    "    )\n",
    "    \n",
    "    # E. Trading signals and alerts\n",
    "    # Generate trading signals based on price movements\n",
    "    latest_data = financial_df.groupby('symbol').last().reset_index()\n",
    "    signals = []\n",
    "    \n",
    "    for _, row in latest_data.iterrows():\n",
    "        if row['change_percent'] > 2:\n",
    "            signal = 'BUY'\n",
    "            color = 'green'\n",
    "        elif row['change_percent'] < -2:\n",
    "            signal = 'SELL'\n",
    "            color = 'red'\n",
    "        else:\n",
    "            signal = 'HOLD'\n",
    "            color = 'blue'\n",
    "        \n",
    "        signals.append({\n",
    "            'symbol': row['symbol'],\n",
    "            'signal': signal,\n",
    "            'price': row['price'],\n",
    "            'change': row['change_percent']\n",
    "        })\n",
    "    \n",
    "    signals_df = pd.DataFrame(signals)\n",
    "    \n",
    "    # Plot signals\n",
    "    signal_colors = {'BUY': 'green', 'SELL': 'red', 'HOLD': 'blue'}\n",
    "    for signal_type in ['BUY', 'SELL', 'HOLD']:\n",
    "        signal_data = signals_df[signals_df['signal'] == signal_type]\n",
    "        if not signal_data.empty:\n",
    "            fig_financial.add_trace(\n",
    "                go.Scatter(\n",
    "                    x=signal_data['symbol'],\n",
    "                    y=signal_data['change'],\n",
    "                    mode='markers',\n",
    "                    name=f'{signal_type} Signal',\n",
    "                    marker=dict(\n",
    "                        size=15,\n",
    "                        color=signal_colors[signal_type],\n",
    "                        symbol='triangle-up' if signal_type == 'BUY' else 'triangle-down' if signal_type == 'SELL' else 'circle',\n",
    "                        line=dict(width=2, color='white')\n",
    "                    ),\n",
    "                    hovertemplate=f'{signal_type}<br>Symbol: %{{x}}<br>Change: %{{y:.2f}}%<extra></extra>'\n",
    "                ),\n",
    "                row=3, col=1\n",
    "            )\n",
    "    \n",
    "    # Add alert thresholds\n",
    "    fig_financial.add_hline(y=2, line_dash=\"dash\", line_color=\"green\", \n",
    "                           annotation_text=\"Buy Threshold\", row=3, col=1)\n",
    "    fig_financial.add_hline(y=-2, line_dash=\"dash\", line_color=\"red\", \n",
    "                           annotation_text=\"Sell Threshold\", row=3, col=1)\n",
    "    \n",
    "    # F. Portfolio summary table\n",
    "    portfolio_summary = latest_data.copy()\n",
    "    portfolio_summary['status'] = portfolio_summary['change_percent'].apply(\n",
    "        lambda x: '📈 Gaining' if x > 0 else '📉 Losing' if x < 0 else '➡️ Flat'\n",
    "    )\n",
    "    \n",
    "    fig_financial.add_trace(\n",
    "        go.Table(\n",
    "            header=dict(\n",
    "                values=['<b>Symbol</b>', '<b>Price</b>', '<b>Change %</b>', '<b>Volume</b>', '<b>Status</b>'],\n",
    "                fill_color='navy',\n",
    "                font=dict(color='white', size=12),\n",
    "                align='center'\n",
    "            ),\n",
    "            cells=dict(\n",
    "                values=[\n",
    "                    portfolio_summary['symbol'],\n",
    "                    [f'${p:.2f}' for p in portfolio_summary['price']],\n",
    "                    [f'{c:+.2f}%' for c in portfolio_summary['change_percent']],\n",
    "                    [f'{v:,.0f}' for v in portfolio_summary['volume']],\n",
    "                    portfolio_summary['status']\n",
    "                ],\n",
    "                fill_color=[['lightblue', 'white'] * len(portfolio_summary)],\n",
    "                align='center',\n",
    "                font=dict(size=10)\n",
    "            )\n",
    "        ),\n",
    "        row=3, col=2\n",
    "    )\n",
    "    \n",
    "    # Update layout for financial dashboard\n",
    "    fig_financial.update_layout(\n",
    "        height=1200,\n",
    "        title={\n",
    "            'text': \"💰 Real-time Financial Trading Dashboard<br><sub>Live market data with trading signals and portfolio analysis</sub>\",\n",
    "            'x': 0.5,\n",
    "            'xanchor': 'center',\n",
    "            'font': {'size': 20}\n",
    "        },\n",
    "        showlegend=True,\n",
    "        template='plotly_white'\n",
    "    )\n",
    "    \n",
    "    # Update axes\n",
    "    fig_financial.update_xaxes(title_text=\"Time\", row=1, col=1)\n",
    "    fig_financial.update_yaxes(title_text=\"Price ($)\", row=1, col=1)\n",
    "    fig_financial.update_yaxes(title_text=\"Volume\", secondary_y=True, row=1, col=1)\n",
    "    fig_financial.update_xaxes(title_text=\"Symbols\", row=1, col=2)\n",
    "    fig_financial.update_yaxes(title_text=\"Average Volume\", row=1, col=2)\n",
    "    fig_financial.update_xaxes(title_text=\"Price ($)\", row=2, col=1)\n",
    "    fig_financial.update_yaxes(title_text=\"Frequency\", row=2, col=1)\n",
    "    fig_financial.update_xaxes(title_text=\"Symbols\", row=3, col=1)\n",
    "    fig_financial.update_yaxes(title_text=\"Change %\", row=3, col=1)\n",
    "    \n",
    "    return fig_financial, financial_df, signals_df, correlation_matrix\n",
    "\n",
    "# Create real-time financial dashboard\n",
    "financial_dashboard, market_data, trading_signals, correlations = create_realtime_financial_dashboard()\n",
    "financial_dashboard.show()\n",
    "\n",
    "# Market analysis summary\n",
    "print(\"\\n💰 REAL-TIME FINANCIAL DASHBOARD ANALYSIS:\")\n",
    "print(\"=\" * 50)\n",
    "print(f\"📊 Market Data Summary:\")\n",
    "print(f\"   📈 Total Data Points: {len(market_data):,}\")\n",
    "print(f\"   🏢 Symbols Tracked: {market_data['symbol'].nunique()}\")\n",
    "print(f\"   ⏱️  Time Range: {market_data['timestamp'].min()} to {market_data['timestamp'].max()}\")\n",
    "\n",
    "print(f\"\\n🎯 Trading Signals Generated:\")\n",
    "signal_counts = trading_signals['signal'].value_counts()\n",
    "for signal, count in signal_counts.items():\n",
    "    emoji = \"🟢\" if signal == \"BUY\" else \"🔴\" if signal == \"SELL\" else \"🔵\"\n",
    "    print(f\"   {emoji} {signal}: {count} signals\")\n",
    "\n",
    "print(f\"\\n📊 Market Correlations:\")\n",
    "print(\"Top Correlated Pairs:\")\n",
    "# Find highest correlations (excluding diagonal)\n",
    "corr_pairs = []\n",
    "for i in range(len(correlations.columns)):\n",
    "    for j in range(i+1, len(correlations.columns)):\n",
    "        corr_pairs.append((\n",
    "            correlations.columns[i], \n",
    "            correlations.columns[j], \n",
    "            correlations.iloc[i, j]\n",
    "        ))\n",
    "\n",
    "corr_pairs.sort(key=lambda x: abs(x[2]), reverse=True)\n",
    "for pair in corr_pairs[:3]:\n",
    "    print(f\"   📈 {pair[0]} - {pair[1]}: {pair[2]:.3f}\")\n",
    "\n",
    "print(f\"\\n⚡ Real-time Features Demonstrated:\")\n",
    "print(f\"   🔄 Live data streaming simulation\")\n",
    "print(f\"   📊 Multi-symbol price tracking\")\n",
    "print(f\"   📈 Volume analysis and correlations\")\n",
    "print(f\"   🚨 Automated trading signal generation\")\n",
    "print(f\"   📱 Mobile-responsive dashboard layout\")\n",
    "\n",
    "print(f\"\\n✅ Real-time Financial Dashboard Complete!\")\n",
    "print(f\"🎨 Production-ready for trading platforms and financial analysis!\")"
   ]
  },
  {
   "cell_type": "code",
   "execution_count": 5,
   "id": "41e1bfe3",
   "metadata": {},
   "outputs": [
    {
     "name": "stdout",
     "output_type": "stream",
     "text": [
      "\n",
      "🌡️ Creating IoT Sensor Monitoring Dashboard\n",
      "===============================================\n",
      "📡 Simulating IoT Sensor Network...\n",
      "   ✅ Generated 4800 sensor readings\n",
      "   📊 Sensors: 6\n",
      "   📍 Locations: 4\n",
      "   🚨 Anomalies detected: 239\n"
     ]
    },
    {
     "data": {
      "application/vnd.plotly.v1+json": {
       "config": {
        "plotlyServerURL": "https://plot.ly"
       },
       "data": [
        {
         "hovertemplate": "Office<br>Time: %{x}<br>Temperature: %{y:.1f}°C<extra></extra>",
         "line": {
          "color": "rgb(102,194,165)",
          "width": 2
         },
         "marker": {
          "size": 4
         },
         "mode": "lines+markers",
         "name": "Office",
         "type": "scatter",
         "x": [
          "2025-08-27T03:04:56.561319000",
          "2025-08-27T03:04:57.561319000",
          "2025-08-27T03:04:58.561319000",
          "2025-08-27T03:04:59.561319000",
          "2025-08-27T03:05:00.561319000",
          "2025-08-27T03:05:01.561319000",
          "2025-08-27T03:05:02.561319000",
          "2025-08-27T03:05:03.561319000",
          "2025-08-27T03:05:04.561319000",
          "2025-08-27T03:05:05.561319000",
          "2025-08-27T03:05:06.561319000",
          "2025-08-27T03:05:07.561319000",
          "2025-08-27T03:05:08.561319000",
          "2025-08-27T03:05:09.561319000",
          "2025-08-27T03:05:10.561319000",
          "2025-08-27T03:05:11.561319000",
          "2025-08-27T03:05:12.561319000",
          "2025-08-27T03:05:13.561319000",
          "2025-08-27T03:05:14.561319000",
          "2025-08-27T03:05:15.561319000",
          "2025-08-27T03:05:16.561319000",
          "2025-08-27T03:05:17.561319000",
          "2025-08-27T03:05:18.561319000",
          "2025-08-27T03:05:19.561319000",
          "2025-08-27T03:05:20.561319000",
          "2025-08-27T03:05:21.561319000",
          "2025-08-27T03:05:22.561319000",
          "2025-08-27T03:05:23.561319000",
          "2025-08-27T03:05:24.561319000",
          "2025-08-27T03:05:25.561319000",
          "2025-08-27T03:05:26.561319000",
          "2025-08-27T03:05:27.561319000",
          "2025-08-27T03:05:28.561319000",
          "2025-08-27T03:05:29.561319000",
          "2025-08-27T03:05:30.561319000",
          "2025-08-27T03:05:31.561319000",
          "2025-08-27T03:05:32.561319000",
          "2025-08-27T03:05:33.561319000",
          "2025-08-27T03:05:34.561319000",
          "2025-08-27T03:05:35.561319000",
          "2025-08-27T03:05:36.561319000",
          "2025-08-27T03:05:37.561319000",
          "2025-08-27T03:05:38.561319000",
          "2025-08-27T03:05:39.561319000",
          "2025-08-27T03:05:40.561319000",
          "2025-08-27T03:05:41.561319000",
          "2025-08-27T03:05:42.561319000",
          "2025-08-27T03:05:43.561319000",
          "2025-08-27T03:05:44.561319000",
          "2025-08-27T03:05:45.561319000",
          "2025-08-27T03:05:46.561319000",
          "2025-08-27T03:05:47.561319000",
          "2025-08-27T03:05:48.561319000",
          "2025-08-27T03:05:49.561319000",
          "2025-08-27T03:05:50.561319000",
          "2025-08-27T03:05:51.561319000",
          "2025-08-27T03:05:52.561319000",
          "2025-08-27T03:05:53.561319000",
          "2025-08-27T03:05:54.561319000",
          "2025-08-27T03:05:55.561319000",
          "2025-08-27T03:05:56.561319000",
          "2025-08-27T03:05:57.561319000",
          "2025-08-27T03:05:58.561319000",
          "2025-08-27T03:05:59.561319000",
          "2025-08-27T03:06:00.561319000",
          "2025-08-27T03:06:01.561319000",
          "2025-08-27T03:06:02.561319000",
          "2025-08-27T03:06:03.561319000",
          "2025-08-27T03:06:04.561319000",
          "2025-08-27T03:06:05.561319000",
          "2025-08-27T03:06:06.561319000",
          "2025-08-27T03:06:07.561319000",
          "2025-08-27T03:06:08.561319000",
          "2025-08-27T03:06:09.561319000",
          "2025-08-27T03:06:10.561319000",
          "2025-08-27T03:06:11.561319000",
          "2025-08-27T03:06:12.561319000",
          "2025-08-27T03:06:13.561319000",
          "2025-08-27T03:06:14.561319000",
          "2025-08-27T03:06:15.561319000",
          "2025-08-27T03:06:16.561319000",
          "2025-08-27T03:06:17.561319000",
          "2025-08-27T03:06:18.561319000",
          "2025-08-27T03:06:19.561319000",
          "2025-08-27T03:06:20.561319000",
          "2025-08-27T03:06:21.561319000",
          "2025-08-27T03:06:22.561319000",
          "2025-08-27T03:06:23.561319000",
          "2025-08-27T03:06:24.561319000",
          "2025-08-27T03:06:25.561319000",
          "2025-08-27T03:06:26.561319000",
          "2025-08-27T03:06:27.561319000",
          "2025-08-27T03:06:28.561319000",
          "2025-08-27T03:06:29.561319000",
          "2025-08-27T03:06:30.561319000",
          "2025-08-27T03:06:31.561319000",
          "2025-08-27T03:06:32.561319000",
          "2025-08-27T03:06:33.561319000",
          "2025-08-27T03:06:34.561319000",
          "2025-08-27T03:06:35.561319000",
          "2025-08-27T03:06:36.561319000",
          "2025-08-27T03:06:37.561319000",
          "2025-08-27T03:06:38.561319000",
          "2025-08-27T03:06:39.561319000",
          "2025-08-27T03:06:40.561319000",
          "2025-08-27T03:06:41.561319000",
          "2025-08-27T03:06:42.561319000",
          "2025-08-27T03:06:43.561319000",
          "2025-08-27T03:06:44.561319000",
          "2025-08-27T03:06:45.561319000",
          "2025-08-27T03:06:46.561319000",
          "2025-08-27T03:06:47.561319000",
          "2025-08-27T03:06:48.561319000",
          "2025-08-27T03:06:49.561319000",
          "2025-08-27T03:06:50.561319000",
          "2025-08-27T03:06:51.561319000",
          "2025-08-27T03:06:52.561319000",
          "2025-08-27T03:06:53.561319000",
          "2025-08-27T03:06:54.561319000",
          "2025-08-27T03:06:55.561319000",
          "2025-08-27T03:06:56.561319000",
          "2025-08-27T03:06:57.561319000",
          "2025-08-27T03:06:58.561319000",
          "2025-08-27T03:06:59.561319000",
          "2025-08-27T03:07:00.561319000",
          "2025-08-27T03:07:01.561319000",
          "2025-08-27T03:07:02.561319000",
          "2025-08-27T03:07:03.561319000",
          "2025-08-27T03:07:04.561319000",
          "2025-08-27T03:07:05.561319000",
          "2025-08-27T03:07:06.561319000",
          "2025-08-27T03:07:07.561319000",
          "2025-08-27T03:07:08.561319000",
          "2025-08-27T03:07:09.561319000",
          "2025-08-27T03:07:10.561319000",
          "2025-08-27T03:07:11.561319000",
          "2025-08-27T03:07:12.561319000",
          "2025-08-27T03:07:13.561319000",
          "2025-08-27T03:07:14.561319000",
          "2025-08-27T03:07:15.561319000",
          "2025-08-27T03:07:16.561319000",
          "2025-08-27T03:07:17.561319000",
          "2025-08-27T03:07:18.561319000",
          "2025-08-27T03:07:19.561319000",
          "2025-08-27T03:07:20.561319000",
          "2025-08-27T03:07:21.561319000",
          "2025-08-27T03:07:22.561319000",
          "2025-08-27T03:07:23.561319000",
          "2025-08-27T03:07:24.561319000",
          "2025-08-27T03:07:25.561319000",
          "2025-08-27T03:07:26.561319000",
          "2025-08-27T03:07:27.561319000",
          "2025-08-27T03:07:28.561319000",
          "2025-08-27T03:07:29.561319000",
          "2025-08-27T03:07:30.561319000",
          "2025-08-27T03:07:31.561319000",
          "2025-08-27T03:07:32.561319000",
          "2025-08-27T03:07:33.561319000",
          "2025-08-27T03:07:34.561319000",
          "2025-08-27T03:07:35.561319000",
          "2025-08-27T03:07:36.561319000",
          "2025-08-27T03:07:37.561319000",
          "2025-08-27T03:07:38.561319000",
          "2025-08-27T03:07:39.561319000",
          "2025-08-27T03:07:40.561319000",
          "2025-08-27T03:07:41.561319000",
          "2025-08-27T03:07:42.561319000",
          "2025-08-27T03:07:43.561319000",
          "2025-08-27T03:07:44.561319000",
          "2025-08-27T03:07:45.561319000",
          "2025-08-27T03:07:46.561319000",
          "2025-08-27T03:07:47.561319000",
          "2025-08-27T03:07:48.561319000",
          "2025-08-27T03:07:49.561319000",
          "2025-08-27T03:07:50.561319000",
          "2025-08-27T03:07:51.561319000",
          "2025-08-27T03:07:52.561319000",
          "2025-08-27T03:07:53.561319000",
          "2025-08-27T03:07:54.561319000",
          "2025-08-27T03:07:55.561319000",
          "2025-08-27T03:07:56.561319000",
          "2025-08-27T03:07:57.561319000",
          "2025-08-27T03:07:58.561319000",
          "2025-08-27T03:07:59.561319000",
          "2025-08-27T03:08:00.561319000",
          "2025-08-27T03:08:01.561319000",
          "2025-08-27T03:08:02.561319000",
          "2025-08-27T03:08:03.561319000",
          "2025-08-27T03:08:04.561319000",
          "2025-08-27T03:08:05.561319000",
          "2025-08-27T03:08:06.561319000",
          "2025-08-27T03:08:07.561319000",
          "2025-08-27T03:08:08.561319000",
          "2025-08-27T03:08:09.561319000",
          "2025-08-27T03:08:10.561319000",
          "2025-08-27T03:08:11.561319000",
          "2025-08-27T03:08:12.561319000",
          "2025-08-27T03:08:13.561319000",
          "2025-08-27T03:08:14.561319000",
          "2025-08-27T03:08:15.561319000"
         ],
         "xaxis": "x",
         "y": {
          "bdata": "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",
          "dtype": "f8"
         },
         "yaxis": "y"
        },
        {
         "hovertemplate": "Server Room<br>Time: %{x}<br>Temperature: %{y:.1f}°C<extra></extra>",
         "line": {
          "color": "rgb(252,141,98)",
          "width": 2
         },
         "marker": {
          "size": 4
         },
         "mode": "lines+markers",
         "name": "Server Room",
         "type": "scatter",
         "x": [
          "2025-08-27T03:04:56.561319000",
          "2025-08-27T03:04:57.561319000",
          "2025-08-27T03:04:58.561319000",
          "2025-08-27T03:04:59.561319000",
          "2025-08-27T03:05:00.561319000",
          "2025-08-27T03:05:01.561319000",
          "2025-08-27T03:05:02.561319000",
          "2025-08-27T03:05:03.561319000",
          "2025-08-27T03:05:04.561319000",
          "2025-08-27T03:05:05.561319000",
          "2025-08-27T03:05:06.561319000",
          "2025-08-27T03:05:07.561319000",
          "2025-08-27T03:05:08.561319000",
          "2025-08-27T03:05:09.561319000",
          "2025-08-27T03:05:10.561319000",
          "2025-08-27T03:05:11.561319000",
          "2025-08-27T03:05:12.561319000",
          "2025-08-27T03:05:13.561319000",
          "2025-08-27T03:05:14.561319000",
          "2025-08-27T03:05:15.561319000",
          "2025-08-27T03:05:16.561319000",
          "2025-08-27T03:05:17.561319000",
          "2025-08-27T03:05:18.561319000",
          "2025-08-27T03:05:19.561319000",
          "2025-08-27T03:05:20.561319000",
          "2025-08-27T03:05:21.561319000",
          "2025-08-27T03:05:22.561319000",
          "2025-08-27T03:05:23.561319000",
          "2025-08-27T03:05:24.561319000",
          "2025-08-27T03:05:25.561319000",
          "2025-08-27T03:05:26.561319000",
          "2025-08-27T03:05:27.561319000",
          "2025-08-27T03:05:28.561319000",
          "2025-08-27T03:05:29.561319000",
          "2025-08-27T03:05:30.561319000",
          "2025-08-27T03:05:31.561319000",
          "2025-08-27T03:05:32.561319000",
          "2025-08-27T03:05:33.561319000",
          "2025-08-27T03:05:34.561319000",
          "2025-08-27T03:05:35.561319000",
          "2025-08-27T03:05:36.561319000",
          "2025-08-27T03:05:37.561319000",
          "2025-08-27T03:05:38.561319000",
          "2025-08-27T03:05:39.561319000",
          "2025-08-27T03:05:40.561319000",
          "2025-08-27T03:05:41.561319000",
          "2025-08-27T03:05:42.561319000",
          "2025-08-27T03:05:43.561319000",
          "2025-08-27T03:05:44.561319000",
          "2025-08-27T03:05:45.561319000",
          "2025-08-27T03:05:46.561319000",
          "2025-08-27T03:05:47.561319000",
          "2025-08-27T03:05:48.561319000",
          "2025-08-27T03:05:49.561319000",
          "2025-08-27T03:05:50.561319000",
          "2025-08-27T03:05:51.561319000",
          "2025-08-27T03:05:52.561319000",
          "2025-08-27T03:05:53.561319000",
          "2025-08-27T03:05:54.561319000",
          "2025-08-27T03:05:55.561319000",
          "2025-08-27T03:05:56.561319000",
          "2025-08-27T03:05:57.561319000",
          "2025-08-27T03:05:58.561319000",
          "2025-08-27T03:05:59.561319000",
          "2025-08-27T03:06:00.561319000",
          "2025-08-27T03:06:01.561319000",
          "2025-08-27T03:06:02.561319000",
          "2025-08-27T03:06:03.561319000",
          "2025-08-27T03:06:04.561319000",
          "2025-08-27T03:06:05.561319000",
          "2025-08-27T03:06:06.561319000",
          "2025-08-27T03:06:07.561319000",
          "2025-08-27T03:06:08.561319000",
          "2025-08-27T03:06:09.561319000",
          "2025-08-27T03:06:10.561319000",
          "2025-08-27T03:06:11.561319000",
          "2025-08-27T03:06:12.561319000",
          "2025-08-27T03:06:13.561319000",
          "2025-08-27T03:06:14.561319000",
          "2025-08-27T03:06:15.561319000",
          "2025-08-27T03:06:16.561319000",
          "2025-08-27T03:06:17.561319000",
          "2025-08-27T03:06:18.561319000",
          "2025-08-27T03:06:19.561319000",
          "2025-08-27T03:06:20.561319000",
          "2025-08-27T03:06:21.561319000",
          "2025-08-27T03:06:22.561319000",
          "2025-08-27T03:06:23.561319000",
          "2025-08-27T03:06:24.561319000",
          "2025-08-27T03:06:25.561319000",
          "2025-08-27T03:06:26.561319000",
          "2025-08-27T03:06:27.561319000",
          "2025-08-27T03:06:28.561319000",
          "2025-08-27T03:06:29.561319000",
          "2025-08-27T03:06:30.561319000",
          "2025-08-27T03:06:31.561319000",
          "2025-08-27T03:06:32.561319000",
          "2025-08-27T03:06:33.561319000",
          "2025-08-27T03:06:34.561319000",
          "2025-08-27T03:06:35.561319000",
          "2025-08-27T03:06:36.561319000",
          "2025-08-27T03:06:37.561319000",
          "2025-08-27T03:06:38.561319000",
          "2025-08-27T03:06:39.561319000",
          "2025-08-27T03:06:40.561319000",
          "2025-08-27T03:06:41.561319000",
          "2025-08-27T03:06:42.561319000",
          "2025-08-27T03:06:43.561319000",
          "2025-08-27T03:06:44.561319000",
          "2025-08-27T03:06:45.561319000",
          "2025-08-27T03:06:46.561319000",
          "2025-08-27T03:06:47.561319000",
          "2025-08-27T03:06:48.561319000",
          "2025-08-27T03:06:49.561319000",
          "2025-08-27T03:06:50.561319000",
          "2025-08-27T03:06:51.561319000",
          "2025-08-27T03:06:52.561319000",
          "2025-08-27T03:06:53.561319000",
          "2025-08-27T03:06:54.561319000",
          "2025-08-27T03:06:55.561319000",
          "2025-08-27T03:06:56.561319000",
          "2025-08-27T03:06:57.561319000",
          "2025-08-27T03:06:58.561319000",
          "2025-08-27T03:06:59.561319000",
          "2025-08-27T03:07:00.561319000",
          "2025-08-27T03:07:01.561319000",
          "2025-08-27T03:07:02.561319000",
          "2025-08-27T03:07:03.561319000",
          "2025-08-27T03:07:04.561319000",
          "2025-08-27T03:07:05.561319000",
          "2025-08-27T03:07:06.561319000",
          "2025-08-27T03:07:07.561319000",
          "2025-08-27T03:07:08.561319000",
          "2025-08-27T03:07:09.561319000",
          "2025-08-27T03:07:10.561319000",
          "2025-08-27T03:07:11.561319000",
          "2025-08-27T03:07:12.561319000",
          "2025-08-27T03:07:13.561319000",
          "2025-08-27T03:07:14.561319000",
          "2025-08-27T03:07:15.561319000",
          "2025-08-27T03:07:16.561319000",
          "2025-08-27T03:07:17.561319000",
          "2025-08-27T03:07:18.561319000",
          "2025-08-27T03:07:19.561319000",
          "2025-08-27T03:07:20.561319000",
          "2025-08-27T03:07:21.561319000",
          "2025-08-27T03:07:22.561319000",
          "2025-08-27T03:07:23.561319000",
          "2025-08-27T03:07:24.561319000",
          "2025-08-27T03:07:25.561319000",
          "2025-08-27T03:07:26.561319000",
          "2025-08-27T03:07:27.561319000",
          "2025-08-27T03:07:28.561319000",
          "2025-08-27T03:07:29.561319000",
          "2025-08-27T03:07:30.561319000",
          "2025-08-27T03:07:31.561319000",
          "2025-08-27T03:07:32.561319000",
          "2025-08-27T03:07:33.561319000",
          "2025-08-27T03:07:34.561319000",
          "2025-08-27T03:07:35.561319000",
          "2025-08-27T03:07:36.561319000",
          "2025-08-27T03:07:37.561319000",
          "2025-08-27T03:07:38.561319000",
          "2025-08-27T03:07:39.561319000",
          "2025-08-27T03:07:40.561319000",
          "2025-08-27T03:07:41.561319000",
          "2025-08-27T03:07:42.561319000",
          "2025-08-27T03:07:43.561319000",
          "2025-08-27T03:07:44.561319000",
          "2025-08-27T03:07:45.561319000",
          "2025-08-27T03:07:46.561319000",
          "2025-08-27T03:07:47.561319000",
          "2025-08-27T03:07:48.561319000",
          "2025-08-27T03:07:49.561319000",
          "2025-08-27T03:07:50.561319000",
          "2025-08-27T03:07:51.561319000",
          "2025-08-27T03:07:52.561319000",
          "2025-08-27T03:07:53.561319000",
          "2025-08-27T03:07:54.561319000",
          "2025-08-27T03:07:55.561319000",
          "2025-08-27T03:07:56.561319000",
          "2025-08-27T03:07:57.561319000",
          "2025-08-27T03:07:58.561319000",
          "2025-08-27T03:07:59.561319000",
          "2025-08-27T03:08:00.561319000",
          "2025-08-27T03:08:01.561319000",
          "2025-08-27T03:08:02.561319000",
          "2025-08-27T03:08:03.561319000",
          "2025-08-27T03:08:04.561319000",
          "2025-08-27T03:08:05.561319000",
          "2025-08-27T03:08:06.561319000",
          "2025-08-27T03:08:07.561319000",
          "2025-08-27T03:08:08.561319000",
          "2025-08-27T03:08:09.561319000",
          "2025-08-27T03:08:10.561319000",
          "2025-08-27T03:08:11.561319000",
          "2025-08-27T03:08:12.561319000",
          "2025-08-27T03:08:13.561319000",
          "2025-08-27T03:08:14.561319000",
          "2025-08-27T03:08:15.561319000"
         ],
         "xaxis": "x",
         "y": {
          "bdata": "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",
          "dtype": "f8"
         },
         "yaxis": "y"
        },
        {
         "hovertemplate": "Lab<br>Time: %{x}<br>Temperature: %{y:.1f}°C<extra></extra>",
         "line": {
          "color": "rgb(141,160,203)",
          "width": 2
         },
         "marker": {
          "size": 4
         },
         "mode": "lines+markers",
         "name": "Lab",
         "type": "scatter",
         "x": [
          "2025-08-27T03:04:56.561319000",
          "2025-08-27T03:04:57.561319000",
          "2025-08-27T03:04:58.561319000",
          "2025-08-27T03:04:59.561319000",
          "2025-08-27T03:05:00.561319000",
          "2025-08-27T03:05:01.561319000",
          "2025-08-27T03:05:02.561319000",
          "2025-08-27T03:05:03.561319000",
          "2025-08-27T03:05:04.561319000",
          "2025-08-27T03:05:05.561319000",
          "2025-08-27T03:05:06.561319000",
          "2025-08-27T03:05:07.561319000",
          "2025-08-27T03:05:08.561319000",
          "2025-08-27T03:05:09.561319000",
          "2025-08-27T03:05:10.561319000",
          "2025-08-27T03:05:11.561319000",
          "2025-08-27T03:05:12.561319000",
          "2025-08-27T03:05:13.561319000",
          "2025-08-27T03:05:14.561319000",
          "2025-08-27T03:05:15.561319000",
          "2025-08-27T03:05:16.561319000",
          "2025-08-27T03:05:17.561319000",
          "2025-08-27T03:05:18.561319000",
          "2025-08-27T03:05:19.561319000",
          "2025-08-27T03:05:20.561319000",
          "2025-08-27T03:05:21.561319000",
          "2025-08-27T03:05:22.561319000",
          "2025-08-27T03:05:23.561319000",
          "2025-08-27T03:05:24.561319000",
          "2025-08-27T03:05:25.561319000",
          "2025-08-27T03:05:26.561319000",
          "2025-08-27T03:05:27.561319000",
          "2025-08-27T03:05:28.561319000",
          "2025-08-27T03:05:29.561319000",
          "2025-08-27T03:05:30.561319000",
          "2025-08-27T03:05:31.561319000",
          "2025-08-27T03:05:32.561319000",
          "2025-08-27T03:05:33.561319000",
          "2025-08-27T03:05:34.561319000",
          "2025-08-27T03:05:35.561319000",
          "2025-08-27T03:05:36.561319000",
          "2025-08-27T03:05:37.561319000",
          "2025-08-27T03:05:38.561319000",
          "2025-08-27T03:05:39.561319000",
          "2025-08-27T03:05:40.561319000",
          "2025-08-27T03:05:41.561319000",
          "2025-08-27T03:05:42.561319000",
          "2025-08-27T03:05:43.561319000",
          "2025-08-27T03:05:44.561319000",
          "2025-08-27T03:05:45.561319000",
          "2025-08-27T03:05:46.561319000",
          "2025-08-27T03:05:47.561319000",
          "2025-08-27T03:05:48.561319000",
          "2025-08-27T03:05:49.561319000",
          "2025-08-27T03:05:50.561319000",
          "2025-08-27T03:05:51.561319000",
          "2025-08-27T03:05:52.561319000",
          "2025-08-27T03:05:53.561319000",
          "2025-08-27T03:05:54.561319000",
          "2025-08-27T03:05:55.561319000",
          "2025-08-27T03:05:56.561319000",
          "2025-08-27T03:05:57.561319000",
          "2025-08-27T03:05:58.561319000",
          "2025-08-27T03:05:59.561319000",
          "2025-08-27T03:06:00.561319000",
          "2025-08-27T03:06:01.561319000",
          "2025-08-27T03:06:02.561319000",
          "2025-08-27T03:06:03.561319000",
          "2025-08-27T03:06:04.561319000",
          "2025-08-27T03:06:05.561319000",
          "2025-08-27T03:06:06.561319000",
          "2025-08-27T03:06:07.561319000",
          "2025-08-27T03:06:08.561319000",
          "2025-08-27T03:06:09.561319000",
          "2025-08-27T03:06:10.561319000",
          "2025-08-27T03:06:11.561319000",
          "2025-08-27T03:06:12.561319000",
          "2025-08-27T03:06:13.561319000",
          "2025-08-27T03:06:14.561319000",
          "2025-08-27T03:06:15.561319000",
          "2025-08-27T03:06:16.561319000",
          "2025-08-27T03:06:17.561319000",
          "2025-08-27T03:06:18.561319000",
          "2025-08-27T03:06:19.561319000",
          "2025-08-27T03:06:20.561319000",
          "2025-08-27T03:06:21.561319000",
          "2025-08-27T03:06:22.561319000",
          "2025-08-27T03:06:23.561319000",
          "2025-08-27T03:06:24.561319000",
          "2025-08-27T03:06:25.561319000",
          "2025-08-27T03:06:26.561319000",
          "2025-08-27T03:06:27.561319000",
          "2025-08-27T03:06:28.561319000",
          "2025-08-27T03:06:29.561319000",
          "2025-08-27T03:06:30.561319000",
          "2025-08-27T03:06:31.561319000",
          "2025-08-27T03:06:32.561319000",
          "2025-08-27T03:06:33.561319000",
          "2025-08-27T03:06:34.561319000",
          "2025-08-27T03:06:35.561319000",
          "2025-08-27T03:06:36.561319000",
          "2025-08-27T03:06:37.561319000",
          "2025-08-27T03:06:38.561319000",
          "2025-08-27T03:06:39.561319000",
          "2025-08-27T03:06:40.561319000",
          "2025-08-27T03:06:41.561319000",
          "2025-08-27T03:06:42.561319000",
          "2025-08-27T03:06:43.561319000",
          "2025-08-27T03:06:44.561319000",
          "2025-08-27T03:06:45.561319000",
          "2025-08-27T03:06:46.561319000",
          "2025-08-27T03:06:47.561319000",
          "2025-08-27T03:06:48.561319000",
          "2025-08-27T03:06:49.561319000",
          "2025-08-27T03:06:50.561319000",
          "2025-08-27T03:06:51.561319000",
          "2025-08-27T03:06:52.561319000",
          "2025-08-27T03:06:53.561319000",
          "2025-08-27T03:06:54.561319000",
          "2025-08-27T03:06:55.561319000",
          "2025-08-27T03:06:56.561319000",
          "2025-08-27T03:06:57.561319000",
          "2025-08-27T03:06:58.561319000",
          "2025-08-27T03:06:59.561319000",
          "2025-08-27T03:07:00.561319000",
          "2025-08-27T03:07:01.561319000",
          "2025-08-27T03:07:02.561319000",
          "2025-08-27T03:07:03.561319000",
          "2025-08-27T03:07:04.561319000",
          "2025-08-27T03:07:05.561319000",
          "2025-08-27T03:07:06.561319000",
          "2025-08-27T03:07:07.561319000",
          "2025-08-27T03:07:08.561319000",
          "2025-08-27T03:07:09.561319000",
          "2025-08-27T03:07:10.561319000",
          "2025-08-27T03:07:11.561319000",
          "2025-08-27T03:07:12.561319000",
          "2025-08-27T03:07:13.561319000",
          "2025-08-27T03:07:14.561319000",
          "2025-08-27T03:07:15.561319000",
          "2025-08-27T03:07:16.561319000",
          "2025-08-27T03:07:17.561319000",
          "2025-08-27T03:07:18.561319000",
          "2025-08-27T03:07:19.561319000",
          "2025-08-27T03:07:20.561319000",
          "2025-08-27T03:07:21.561319000",
          "2025-08-27T03:07:22.561319000",
          "2025-08-27T03:07:23.561319000",
          "2025-08-27T03:07:24.561319000",
          "2025-08-27T03:07:25.561319000",
          "2025-08-27T03:07:26.561319000",
          "2025-08-27T03:07:27.561319000",
          "2025-08-27T03:07:28.561319000",
          "2025-08-27T03:07:29.561319000",
          "2025-08-27T03:07:30.561319000",
          "2025-08-27T03:07:31.561319000",
          "2025-08-27T03:07:32.561319000",
          "2025-08-27T03:07:33.561319000",
          "2025-08-27T03:07:34.561319000",
          "2025-08-27T03:07:35.561319000",
          "2025-08-27T03:07:36.561319000",
          "2025-08-27T03:07:37.561319000",
          "2025-08-27T03:07:38.561319000",
          "2025-08-27T03:07:39.561319000",
          "2025-08-27T03:07:40.561319000",
          "2025-08-27T03:07:41.561319000",
          "2025-08-27T03:07:42.561319000",
          "2025-08-27T03:07:43.561319000",
          "2025-08-27T03:07:44.561319000",
          "2025-08-27T03:07:45.561319000",
          "2025-08-27T03:07:46.561319000",
          "2025-08-27T03:07:47.561319000",
          "2025-08-27T03:07:48.561319000",
          "2025-08-27T03:07:49.561319000",
          "2025-08-27T03:07:50.561319000",
          "2025-08-27T03:07:51.561319000",
          "2025-08-27T03:07:52.561319000",
          "2025-08-27T03:07:53.561319000",
          "2025-08-27T03:07:54.561319000",
          "2025-08-27T03:07:55.561319000",
          "2025-08-27T03:07:56.561319000",
          "2025-08-27T03:07:57.561319000",
          "2025-08-27T03:07:58.561319000",
          "2025-08-27T03:07:59.561319000",
          "2025-08-27T03:08:00.561319000",
          "2025-08-27T03:08:01.561319000",
          "2025-08-27T03:08:02.561319000",
          "2025-08-27T03:08:03.561319000",
          "2025-08-27T03:08:04.561319000",
          "2025-08-27T03:08:05.561319000",
          "2025-08-27T03:08:06.561319000",
          "2025-08-27T03:08:07.561319000",
          "2025-08-27T03:08:08.561319000",
          "2025-08-27T03:08:09.561319000",
          "2025-08-27T03:08:10.561319000",
          "2025-08-27T03:08:11.561319000",
          "2025-08-27T03:08:12.561319000",
          "2025-08-27T03:08:13.561319000",
          "2025-08-27T03:08:14.561319000",
          "2025-08-27T03:08:15.561319000"
         ],
         "xaxis": "x",
         "y": {
          "bdata": "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",
          "dtype": "f8"
         },
         "yaxis": "y"
        },
        {
         "hovertemplate": "Warehouse<br>Time: %{x}<br>Temperature: %{y:.1f}°C<extra></extra>",
         "line": {
          "color": "rgb(231,138,195)",
          "width": 2
         },
         "marker": {
          "size": 4
         },
         "mode": "lines+markers",
         "name": "Warehouse",
         "type": "scatter",
         "x": [
          "2025-08-27T03:04:56.561319000",
          "2025-08-27T03:04:57.561319000",
          "2025-08-27T03:04:58.561319000",
          "2025-08-27T03:04:59.561319000",
          "2025-08-27T03:05:00.561319000",
          "2025-08-27T03:05:01.561319000",
          "2025-08-27T03:05:02.561319000",
          "2025-08-27T03:05:03.561319000",
          "2025-08-27T03:05:04.561319000",
          "2025-08-27T03:05:05.561319000",
          "2025-08-27T03:05:06.561319000",
          "2025-08-27T03:05:07.561319000",
          "2025-08-27T03:05:08.561319000",
          "2025-08-27T03:05:09.561319000",
          "2025-08-27T03:05:10.561319000",
          "2025-08-27T03:05:11.561319000",
          "2025-08-27T03:05:12.561319000",
          "2025-08-27T03:05:13.561319000",
          "2025-08-27T03:05:14.561319000",
          "2025-08-27T03:05:15.561319000",
          "2025-08-27T03:05:16.561319000",
          "2025-08-27T03:05:17.561319000",
          "2025-08-27T03:05:18.561319000",
          "2025-08-27T03:05:19.561319000",
          "2025-08-27T03:05:20.561319000",
          "2025-08-27T03:05:21.561319000",
          "2025-08-27T03:05:22.561319000",
          "2025-08-27T03:05:23.561319000",
          "2025-08-27T03:05:24.561319000",
          "2025-08-27T03:05:25.561319000",
          "2025-08-27T03:05:26.561319000",
          "2025-08-27T03:05:27.561319000",
          "2025-08-27T03:05:28.561319000",
          "2025-08-27T03:05:29.561319000",
          "2025-08-27T03:05:30.561319000",
          "2025-08-27T03:05:31.561319000",
          "2025-08-27T03:05:32.561319000",
          "2025-08-27T03:05:33.561319000",
          "2025-08-27T03:05:34.561319000",
          "2025-08-27T03:05:35.561319000",
          "2025-08-27T03:05:36.561319000",
          "2025-08-27T03:05:37.561319000",
          "2025-08-27T03:05:38.561319000",
          "2025-08-27T03:05:39.561319000",
          "2025-08-27T03:05:40.561319000",
          "2025-08-27T03:05:41.561319000",
          "2025-08-27T03:05:42.561319000",
          "2025-08-27T03:05:43.561319000",
          "2025-08-27T03:05:44.561319000",
          "2025-08-27T03:05:45.561319000",
          "2025-08-27T03:05:46.561319000",
          "2025-08-27T03:05:47.561319000",
          "2025-08-27T03:05:48.561319000",
          "2025-08-27T03:05:49.561319000",
          "2025-08-27T03:05:50.561319000",
          "2025-08-27T03:05:51.561319000",
          "2025-08-27T03:05:52.561319000",
          "2025-08-27T03:05:53.561319000",
          "2025-08-27T03:05:54.561319000",
          "2025-08-27T03:05:55.561319000",
          "2025-08-27T03:05:56.561319000",
          "2025-08-27T03:05:57.561319000",
          "2025-08-27T03:05:58.561319000",
          "2025-08-27T03:05:59.561319000",
          "2025-08-27T03:06:00.561319000",
          "2025-08-27T03:06:01.561319000",
          "2025-08-27T03:06:02.561319000",
          "2025-08-27T03:06:03.561319000",
          "2025-08-27T03:06:04.561319000",
          "2025-08-27T03:06:05.561319000",
          "2025-08-27T03:06:06.561319000",
          "2025-08-27T03:06:07.561319000",
          "2025-08-27T03:06:08.561319000",
          "2025-08-27T03:06:09.561319000",
          "2025-08-27T03:06:10.561319000",
          "2025-08-27T03:06:11.561319000",
          "2025-08-27T03:06:12.561319000",
          "2025-08-27T03:06:13.561319000",
          "2025-08-27T03:06:14.561319000",
          "2025-08-27T03:06:15.561319000",
          "2025-08-27T03:06:16.561319000",
          "2025-08-27T03:06:17.561319000",
          "2025-08-27T03:06:18.561319000",
          "2025-08-27T03:06:19.561319000",
          "2025-08-27T03:06:20.561319000",
          "2025-08-27T03:06:21.561319000",
          "2025-08-27T03:06:22.561319000",
          "2025-08-27T03:06:23.561319000",
          "2025-08-27T03:06:24.561319000",
          "2025-08-27T03:06:25.561319000",
          "2025-08-27T03:06:26.561319000",
          "2025-08-27T03:06:27.561319000",
          "2025-08-27T03:06:28.561319000",
          "2025-08-27T03:06:29.561319000",
          "2025-08-27T03:06:30.561319000",
          "2025-08-27T03:06:31.561319000",
          "2025-08-27T03:06:32.561319000",
          "2025-08-27T03:06:33.561319000",
          "2025-08-27T03:06:34.561319000",
          "2025-08-27T03:06:35.561319000",
          "2025-08-27T03:06:36.561319000",
          "2025-08-27T03:06:37.561319000",
          "2025-08-27T03:06:38.561319000",
          "2025-08-27T03:06:39.561319000",
          "2025-08-27T03:06:40.561319000",
          "2025-08-27T03:06:41.561319000",
          "2025-08-27T03:06:42.561319000",
          "2025-08-27T03:06:43.561319000",
          "2025-08-27T03:06:44.561319000",
          "2025-08-27T03:06:45.561319000",
          "2025-08-27T03:06:46.561319000",
          "2025-08-27T03:06:47.561319000",
          "2025-08-27T03:06:48.561319000",
          "2025-08-27T03:06:49.561319000",
          "2025-08-27T03:06:50.561319000",
          "2025-08-27T03:06:51.561319000",
          "2025-08-27T03:06:52.561319000",
          "2025-08-27T03:06:53.561319000",
          "2025-08-27T03:06:54.561319000",
          "2025-08-27T03:06:55.561319000",
          "2025-08-27T03:06:56.561319000",
          "2025-08-27T03:06:57.561319000",
          "2025-08-27T03:06:58.561319000",
          "2025-08-27T03:06:59.561319000",
          "2025-08-27T03:07:00.561319000",
          "2025-08-27T03:07:01.561319000",
          "2025-08-27T03:07:02.561319000",
          "2025-08-27T03:07:03.561319000",
          "2025-08-27T03:07:04.561319000",
          "2025-08-27T03:07:05.561319000",
          "2025-08-27T03:07:06.561319000",
          "2025-08-27T03:07:07.561319000",
          "2025-08-27T03:07:08.561319000",
          "2025-08-27T03:07:09.561319000",
          "2025-08-27T03:07:10.561319000",
          "2025-08-27T03:07:11.561319000",
          "2025-08-27T03:07:12.561319000",
          "2025-08-27T03:07:13.561319000",
          "2025-08-27T03:07:14.561319000",
          "2025-08-27T03:07:15.561319000",
          "2025-08-27T03:07:16.561319000",
          "2025-08-27T03:07:17.561319000",
          "2025-08-27T03:07:18.561319000",
          "2025-08-27T03:07:19.561319000",
          "2025-08-27T03:07:20.561319000",
          "2025-08-27T03:07:21.561319000",
          "2025-08-27T03:07:22.561319000",
          "2025-08-27T03:07:23.561319000",
          "2025-08-27T03:07:24.561319000",
          "2025-08-27T03:07:25.561319000",
          "2025-08-27T03:07:26.561319000",
          "2025-08-27T03:07:27.561319000",
          "2025-08-27T03:07:28.561319000",
          "2025-08-27T03:07:29.561319000",
          "2025-08-27T03:07:30.561319000",
          "2025-08-27T03:07:31.561319000",
          "2025-08-27T03:07:32.561319000",
          "2025-08-27T03:07:33.561319000",
          "2025-08-27T03:07:34.561319000",
          "2025-08-27T03:07:35.561319000",
          "2025-08-27T03:07:36.561319000",
          "2025-08-27T03:07:37.561319000",
          "2025-08-27T03:07:38.561319000",
          "2025-08-27T03:07:39.561319000",
          "2025-08-27T03:07:40.561319000",
          "2025-08-27T03:07:41.561319000",
          "2025-08-27T03:07:42.561319000",
          "2025-08-27T03:07:43.561319000",
          "2025-08-27T03:07:44.561319000",
          "2025-08-27T03:07:45.561319000",
          "2025-08-27T03:07:46.561319000",
          "2025-08-27T03:07:47.561319000",
          "2025-08-27T03:07:48.561319000",
          "2025-08-27T03:07:49.561319000",
          "2025-08-27T03:07:50.561319000",
          "2025-08-27T03:07:51.561319000",
          "2025-08-27T03:07:52.561319000",
          "2025-08-27T03:07:53.561319000",
          "2025-08-27T03:07:54.561319000",
          "2025-08-27T03:07:55.561319000",
          "2025-08-27T03:07:56.561319000",
          "2025-08-27T03:07:57.561319000",
          "2025-08-27T03:07:58.561319000",
          "2025-08-27T03:07:59.561319000",
          "2025-08-27T03:08:00.561319000",
          "2025-08-27T03:08:01.561319000",
          "2025-08-27T03:08:02.561319000",
          "2025-08-27T03:08:03.561319000",
          "2025-08-27T03:08:04.561319000",
          "2025-08-27T03:08:05.561319000",
          "2025-08-27T03:08:06.561319000",
          "2025-08-27T03:08:07.561319000",
          "2025-08-27T03:08:08.561319000",
          "2025-08-27T03:08:09.561319000",
          "2025-08-27T03:08:10.561319000",
          "2025-08-27T03:08:11.561319000",
          "2025-08-27T03:08:12.561319000",
          "2025-08-27T03:08:13.561319000",
          "2025-08-27T03:08:14.561319000",
          "2025-08-27T03:08:15.561319000"
         ],
         "xaxis": "x",
         "y": {
          "bdata": "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",
          "dtype": "f8"
         },
         "yaxis": "y"
        },
        {
         "colorbar": {
          "title": {
           "text": "Normalized Level"
          },
          "x": 0.48
         },
         "colorscale": [
          [
           0,
           "rgb(49,54,149)"
          ],
          [
           0.1,
           "rgb(69,117,180)"
          ],
          [
           0.2,
           "rgb(116,173,209)"
          ],
          [
           0.3,
           "rgb(171,217,233)"
          ],
          [
           0.4,
           "rgb(224,243,248)"
          ],
          [
           0.5,
           "rgb(255,255,191)"
          ],
          [
           0.6,
           "rgb(254,224,144)"
          ],
          [
           0.7,
           "rgb(253,174,97)"
          ],
          [
           0.8,
           "rgb(244,109,67)"
          ],
          [
           0.9,
           "rgb(215,48,39)"
          ],
          [
           1,
           "rgb(165,0,38)"
          ]
         ],
         "hovertemplate": "Location: %{x}<br>Sensor: %{y}<br>Normalized: %{z:.2f}<br>Value: %{text}<extra></extra>",
         "showscale": true,
         "text": {
          "bdata": "zczMzMwMQUAzMzMzM/NBQAAAAAAAADpAMzMzMzMzR0DNzMzMzExJQM3MzMzMDEZAmpmZmZlZQ0BmZmZmZiZQQDMzMzMze3tAMzMzMzOTckDNzMzMzIxiQM3MzMzMLGpAzczMzMzMQkCamZmZmRlCQDMzMzMz80NAMzMzMzPzSUAAAAAAALCPQM3MzMzMmI9AAAAAAACkj0AAAAAAAKyPQJqZmZmZGThAmpmZmZkZNkDNzMzMzEw2QM3MzMzMzCxA",
          "dtype": "f8",
          "shape": "6, 4"
         },
         "texttemplate": "%{text}",
         "type": "heatmap",
         "x": [
          "Lab",
          "Office",
          "Server Room",
          "Warehouse"
         ],
         "xaxis": "x2",
         "y": [
          "air_quality",
          "humidity",
          "light_intensity",
          "noise_level",
          "pressure",
          "temperature"
         ],
         "yaxis": "y2",
         "z": {
          "bdata": "R5ASfeiD2T8C1HDNvCbfPwAAAAAAAAAAAAAAAAAA8D/k13KOVEvdPxgQ2jEHnso/AAAAAAAAAAAAAAAAAADwPwAAAAAAAPA/YWUFILFZ4D8AAAAAAAAAADDXrkDiy8o/j09jdvcJtj8AAAAAAAAAAOBzBeODRc4/AAAAAAAA8D8AAAAAAADwPwAAAAAAAAAAHLypxTOt3T+ScZEkINPpPwAAAAAAAPA/X10adaxC6T/IBAtSByPqPwAAAAAAAAAA",
          "dtype": "f8",
          "shape": "6, 4"
         }
        },
        {
         "delta": {
          "reference": 95
         },
         "domain": {
          "x": [
           0,
           0.41
          ],
          "y": [
           0.3833333333333333,
           0.6166666666666666
          ]
         },
         "gauge": {
          "axis": {
           "range": [
            null,
            100
           ]
          },
          "bar": {
           "color": "darkgreen"
          },
          "steps": [
           {
            "color": "lightgray",
            "range": [
             0,
             50
            ]
           },
           {
            "color": "yellow",
            "range": [
             50,
             80
            ]
           },
           {
            "color": "lightgreen",
            "range": [
             80,
             100
            ]
           }
          ],
          "threshold": {
           "line": {
            "color": "red",
            "width": 4
           },
           "thickness": 0.75,
           "value": 90
          }
         },
         "mode": "gauge+number+delta",
         "title": {
          "text": "Air_Quality<br>Health"
         },
         "type": "indicator",
         "value": 95.5
        },
        {
         "delta": {
          "reference": 95
         },
         "domain": {
          "x": [
           0,
           0.41
          ],
          "y": [
           0.3833333333333333,
           0.6166666666666666
          ]
         },
         "gauge": {
          "axis": {
           "range": [
            null,
            100
           ]
          },
          "bar": {
           "color": "darkgreen"
          },
          "steps": [
           {
            "color": "lightgray",
            "range": [
             0,
             50
            ]
           },
           {
            "color": "yellow",
            "range": [
             50,
             80
            ]
           },
           {
            "color": "lightgreen",
            "range": [
             80,
             100
            ]
           }
          ],
          "threshold": {
           "line": {
            "color": "red",
            "width": 4
           },
           "thickness": 0.75,
           "value": 90
          }
         },
         "mode": "gauge+number+delta",
         "title": {
          "text": "Humidity<br>Health"
         },
         "type": "indicator",
         "value": 95.25
        },
        {
         "delta": {
          "reference": 95
         },
         "domain": {
          "x": [
           0,
           0.41
          ],
          "y": [
           0.3833333333333333,
           0.6166666666666666
          ]
         },
         "gauge": {
          "axis": {
           "range": [
            null,
            100
           ]
          },
          "bar": {
           "color": "darkgreen"
          },
          "steps": [
           {
            "color": "lightgray",
            "range": [
             0,
             50
            ]
           },
           {
            "color": "yellow",
            "range": [
             50,
             80
            ]
           },
           {
            "color": "lightgreen",
            "range": [
             80,
             100
            ]
           }
          ],
          "threshold": {
           "line": {
            "color": "red",
            "width": 4
           },
           "thickness": 0.75,
           "value": 90
          }
         },
         "mode": "gauge+number+delta",
         "title": {
          "text": "Light_Intensity<br>Health"
         },
         "type": "indicator",
         "value": 94.375
        },
        {
         "hovertemplate": "Temperature<br>Time: %{x}<br>Value: %{y:.1f}<extra></extra>",
         "line": {
          "color": "rgb(102,194,165)",
          "width": 2
         },
         "mode": "lines",
         "name": "Temperature Trend",
         "type": "scatter",
         "x": [
          "2025-08-27T03:00:00.000000000",
          "2025-08-27T03:05:00.000000000"
         ],
         "xaxis": "x3",
         "y": {
          "bdata": "f+s/4fr8MkC52wTplCEzQA==",
          "dtype": "f8"
         },
         "yaxis": "y3"
        },
        {
         "hovertemplate": "Humidity<br>Time: %{x}<br>Value: %{y:.1f}<extra></extra>",
         "line": {
          "color": "rgb(252,141,98)",
          "width": 2
         },
         "mode": "lines",
         "name": "Humidity Trend",
         "type": "scatter",
         "x": [
          "2025-08-27T03:00:00.000000000",
          "2025-08-27T03:05:00.000000000"
         ],
         "xaxis": "x3",
         "y": {
          "bdata": "fPiD6WvLR0DwNB1X3fBHQA==",
          "dtype": "f8"
         },
         "yaxis": "y3"
        },
        {
         "hovertemplate": "Air_Quality<br>Time: %{x}<br>Value: %{y:.1f}<extra></extra>",
         "line": {
          "color": "rgb(141,160,203)",
          "width": 2
         },
         "mode": "lines",
         "name": "Air_Quality Trend",
         "type": "scatter",
         "x": [
          "2025-08-27T03:00:00.000000000",
          "2025-08-27T03:05:00.000000000"
         ],
         "xaxis": "x3",
         "y": {
          "bdata": "Ou4kFbgxQkBIa/eu4whEQA==",
          "dtype": "f8"
         },
         "yaxis": "y3"
        },
        {
         "hovertemplate": "Pressure Anomaly<br>Time: %{x}<br>Value: %{y:.1f}<extra></extra>",
         "marker": {
          "color": "red",
          "line": {
           "color": "darkred",
           "width": 2
          },
          "size": 10,
          "symbol": "x"
         },
         "mode": "markers",
         "name": "Pressure Anomalies",
         "type": "scatter",
         "x": [
          "2025-08-27T03:04:56.561319000",
          "2025-08-27T03:05:09.561319000",
          "2025-08-27T03:05:13.561319000",
          "2025-08-27T03:05:19.561319000",
          "2025-08-27T03:05:24.561319000",
          "2025-08-27T03:05:25.561319000",
          "2025-08-27T03:05:30.561319000",
          "2025-08-27T03:05:31.561319000",
          "2025-08-27T03:05:35.561319000",
          "2025-08-27T03:05:46.561319000",
          "2025-08-27T03:05:49.561319000",
          "2025-08-27T03:05:55.561319000",
          "2025-08-27T03:06:00.561319000",
          "2025-08-27T03:06:04.561319000",
          "2025-08-27T03:06:05.561319000",
          "2025-08-27T03:06:10.561319000",
          "2025-08-27T03:06:12.561319000",
          "2025-08-27T03:06:22.561319000",
          "2025-08-27T03:06:26.561319000",
          "2025-08-27T03:06:32.561319000",
          "2025-08-27T03:06:35.561319000",
          "2025-08-27T03:06:41.561319000",
          "2025-08-27T03:06:50.561319000",
          "2025-08-27T03:06:54.561319000",
          "2025-08-27T03:06:55.561319000",
          "2025-08-27T03:06:56.561319000",
          "2025-08-27T03:06:57.561319000",
          "2025-08-27T03:06:58.561319000",
          "2025-08-27T03:06:59.561319000",
          "2025-08-27T03:07:00.561319000",
          "2025-08-27T03:07:08.561319000",
          "2025-08-27T03:07:22.561319000",
          "2025-08-27T03:07:30.561319000",
          "2025-08-27T03:07:42.561319000",
          "2025-08-27T03:07:43.561319000",
          "2025-08-27T03:07:45.561319000",
          "2025-08-27T03:07:49.561319000",
          "2025-08-27T03:07:51.561319000",
          "2025-08-27T03:07:52.561319000",
          "2025-08-27T03:07:57.561319000",
          "2025-08-27T03:08:00.561319000",
          "2025-08-27T03:08:05.561319000",
          "2025-08-27T03:08:10.561319000",
          "2025-08-27T03:08:12.561319000",
          "2025-08-27T03:08:13.561319000"
         ],
         "xaxis": "x4",
         "y": {
          "bdata": "/bDpL3DCl0AhPRuXMtp/QETp3UVErH9Ap3Y86Pren0CAOEEzfbl/QNZyNHRi759AdysM0KLef0ASHaA6b9ifQATLyhlh159Aq+qvDnjMl0Cx1HiZ/cufQJAFMdzft39AfFGbavzKl0ABsB3fgYKfQKLAAyDqtJdAMlwUF66ul0DEkosCX2ufQIwoYkx5bp9AhlA7PKOkf0A0YERgk3OfQOXcG7wDV59ANNteSWeWl0Bz6aJ7F4qfQI/W4AjPe39AuWoOLpqHf0Cwkc0WeaZ/QO9dqoIann9AuGmpBVWan0B2fIYEOaufQHEDcubSyZdAuFMmrKrDl0AiR14wJd+fQLr28szz55dA9j7OtjvVn0AmD9L41sN/QINpHzEdzJ9AsC/Iynzel0B9szafM9V/QLxNfP5qs59ANrW8sV3Jf0CmCNlHL9CXQACd7eFCoZ9Aqp6jWArAl0AcH5kLYbyXQOzieKskkn9A",
          "dtype": "f8"
         },
         "yaxis": "y5"
        },
        {
         "hovertemplate": "Noise_Level Anomaly<br>Time: %{x}<br>Value: %{y:.1f}<extra></extra>",
         "marker": {
          "color": "red",
          "line": {
           "color": "darkred",
           "width": 2
          },
          "size": 10,
          "symbol": "x"
         },
         "mode": "markers",
         "name": "Noise_Level Anomalies",
         "type": "scatter",
         "x": [
          "2025-08-27T03:04:59.561319000",
          "2025-08-27T03:05:05.561319000",
          "2025-08-27T03:05:05.561319000",
          "2025-08-27T03:05:06.561319000",
          "2025-08-27T03:05:09.561319000",
          "2025-08-27T03:05:20.561319000",
          "2025-08-27T03:05:21.561319000",
          "2025-08-27T03:05:23.561319000",
          "2025-08-27T03:05:31.561319000",
          "2025-08-27T03:05:32.561319000",
          "2025-08-27T03:05:38.561319000",
          "2025-08-27T03:05:43.561319000",
          "2025-08-27T03:05:45.561319000",
          "2025-08-27T03:05:50.561319000",
          "2025-08-27T03:05:50.561319000",
          "2025-08-27T03:05:51.561319000",
          "2025-08-27T03:05:53.561319000",
          "2025-08-27T03:05:56.561319000",
          "2025-08-27T03:06:05.561319000",
          "2025-08-27T03:06:08.561319000",
          "2025-08-27T03:06:08.561319000",
          "2025-08-27T03:06:10.561319000",
          "2025-08-27T03:06:17.561319000",
          "2025-08-27T03:06:22.561319000",
          "2025-08-27T03:06:24.561319000",
          "2025-08-27T03:06:29.561319000",
          "2025-08-27T03:06:33.561319000",
          "2025-08-27T03:06:34.561319000",
          "2025-08-27T03:06:40.561319000",
          "2025-08-27T03:06:42.561319000",
          "2025-08-27T03:06:45.561319000",
          "2025-08-27T03:06:59.561319000",
          "2025-08-27T03:07:08.561319000",
          "2025-08-27T03:07:17.561319000",
          "2025-08-27T03:07:19.561319000",
          "2025-08-27T03:07:19.561319000",
          "2025-08-27T03:07:25.561319000",
          "2025-08-27T03:07:27.561319000",
          "2025-08-27T03:07:30.561319000",
          "2025-08-27T03:07:51.561319000",
          "2025-08-27T03:07:55.561319000",
          "2025-08-27T03:08:11.561319000"
         ],
         "xaxis": "x4",
         "y": {
          "bdata": "bHbuV0pNNECmMLsH8u5LQL1mRwGgUVFAZLVFJ1TOVUBZYw++9SRWQMqS8xhSxElA4PLntEMHNUASqx/5sjU8QEDeJspCt0pAdL41llf5S0Coyxdrxik3QBqbdRkoTFpACUtddtYtUkBU8IT4a7FMQNiaMMtT20tANujKbaOPT0DMW6+d24dPQHztSr9QIDhAZPUgXU2ASkDMnWOCVrkyQBXD1XOAeTdALspm1u8QO0Bqw57aSMo5QJ0u+99MbkZAxNELNL/pPEDcZ3i+iYNTQCYTqUy6ZFRAqRJZrok6V0DcDgwgj+4zQBBlDt8A+0ZAJmwBw8ijUUBsBBxgEZhQQGqN3ZQjhTRAQkvFdnHhUEACLkeeIrFJQBC6tZU6RVdA8d8iWy5BWEA+XBnDanhEQKZf9shX40tAUdGiOUweN0AeVbcY9BJPQGRlLV3cGFNA",
          "dtype": "f8"
         },
         "yaxis": "y5"
        },
        {
         "hovertemplate": "Humidity Anomaly<br>Time: %{x}<br>Value: %{y:.1f}<extra></extra>",
         "marker": {
          "color": "red",
          "line": {
           "color": "darkred",
           "width": 2
          },
          "size": 10,
          "symbol": "x"
         },
         "mode": "markers",
         "name": "Humidity Anomalies",
         "type": "scatter",
         "x": [
          "2025-08-27T03:05:05.561319000",
          "2025-08-27T03:05:08.561319000",
          "2025-08-27T03:05:17.561319000",
          "2025-08-27T03:05:22.561319000",
          "2025-08-27T03:05:23.561319000",
          "2025-08-27T03:05:24.561319000",
          "2025-08-27T03:05:26.561319000",
          "2025-08-27T03:05:29.561319000",
          "2025-08-27T03:05:38.561319000",
          "2025-08-27T03:05:39.561319000",
          "2025-08-27T03:05:51.561319000",
          "2025-08-27T03:05:53.561319000",
          "2025-08-27T03:05:53.561319000",
          "2025-08-27T03:06:06.561319000",
          "2025-08-27T03:06:24.561319000",
          "2025-08-27T03:06:26.561319000",
          "2025-08-27T03:06:43.561319000",
          "2025-08-27T03:06:44.561319000",
          "2025-08-27T03:06:53.561319000",
          "2025-08-27T03:07:00.561319000",
          "2025-08-27T03:07:05.561319000",
          "2025-08-27T03:07:17.561319000",
          "2025-08-27T03:07:19.561319000",
          "2025-08-27T03:07:27.561319000",
          "2025-08-27T03:07:30.561319000",
          "2025-08-27T03:07:31.561319000",
          "2025-08-27T03:07:34.561319000",
          "2025-08-27T03:07:41.561319000",
          "2025-08-27T03:07:44.561319000",
          "2025-08-27T03:07:47.561319000",
          "2025-08-27T03:07:47.561319000",
          "2025-08-27T03:07:51.561319000",
          "2025-08-27T03:07:52.561319000",
          "2025-08-27T03:07:58.561319000",
          "2025-08-27T03:08:02.561319000",
          "2025-08-27T03:08:05.561319000",
          "2025-08-27T03:08:11.561319000",
          "2025-08-27T03:08:14.561319000"
         ],
         "xaxis": "x4",
         "y": {
          "bdata": "NvGl/preVEC+wIX7jFEzQKHDtU04nDpAb0HkLfzdVUA4IkbFd49RQGN045zA6lxAB8cfSjWBVUA03Em7NHZQQJyB1uqeulZAqCdOZd1/T0An20DdColVQDA16rtBYURAfZ2Omqo5XEBzpHBLGOQ2QJBh59QJvVJAP+vMahO6TkCvYylKxJhBQCh905kZyDhA6yj8mUK6U0AeEDd/Y2ddQJQU4X5YTz1ANKT4yJY0UUCpVfYbM/4yQCgqhyP8iC9AEL0EDzYsOkCGaEhwtORJQDhh/kmodE9AiMRSrkuSWkAJoI+9VItAQH6hMIoUGDhAhA+9hypOVEDuLvhXnCBZQDbk01W3XE9AvGFdeyC4WECRXSnBhNIvQH7XIwWxG1dAP4o0s9nYPkBDWJQYjNI/QA==",
          "dtype": "f8"
         },
         "yaxis": "y5"
        },
        {
         "hovertemplate": "Light_Intensity Anomaly<br>Time: %{x}<br>Value: %{y:.1f}<extra></extra>",
         "marker": {
          "color": "red",
          "line": {
           "color": "darkred",
           "width": 2
          },
          "size": 10,
          "symbol": "x"
         },
         "mode": "markers",
         "name": "Light_Intensity Anomalies",
         "type": "scatter",
         "x": [
          "2025-08-27T03:05:06.561319000",
          "2025-08-27T03:05:10.561319000",
          "2025-08-27T03:05:10.561319000",
          "2025-08-27T03:05:11.561319000",
          "2025-08-27T03:05:11.561319000",
          "2025-08-27T03:05:22.561319000",
          "2025-08-27T03:05:25.561319000",
          "2025-08-27T03:05:29.561319000",
          "2025-08-27T03:05:34.561319000",
          "2025-08-27T03:05:38.561319000",
          "2025-08-27T03:05:41.561319000",
          "2025-08-27T03:05:44.561319000",
          "2025-08-27T03:05:47.561319000",
          "2025-08-27T03:05:56.561319000",
          "2025-08-27T03:05:58.561319000",
          "2025-08-27T03:06:08.561319000",
          "2025-08-27T03:06:12.561319000",
          "2025-08-27T03:06:16.561319000",
          "2025-08-27T03:06:17.561319000",
          "2025-08-27T03:06:18.561319000",
          "2025-08-27T03:06:22.561319000",
          "2025-08-27T03:06:29.561319000",
          "2025-08-27T03:06:42.561319000",
          "2025-08-27T03:06:43.561319000",
          "2025-08-27T03:06:46.561319000",
          "2025-08-27T03:06:53.561319000",
          "2025-08-27T03:07:05.561319000",
          "2025-08-27T03:07:14.561319000",
          "2025-08-27T03:07:15.561319000",
          "2025-08-27T03:07:17.561319000",
          "2025-08-27T03:07:19.561319000",
          "2025-08-27T03:07:20.561319000",
          "2025-08-27T03:07:28.561319000",
          "2025-08-27T03:07:30.561319000",
          "2025-08-27T03:07:33.561319000",
          "2025-08-27T03:07:36.561319000",
          "2025-08-27T03:07:37.561319000",
          "2025-08-27T03:07:39.561319000",
          "2025-08-27T03:07:46.561319000",
          "2025-08-27T03:07:47.561319000",
          "2025-08-27T03:07:53.561319000",
          "2025-08-27T03:07:54.561319000",
          "2025-08-27T03:08:03.561319000",
          "2025-08-27T03:08:10.561319000",
          "2025-08-27T03:08:14.561319000"
         ],
         "xaxis": "x4",
         "y": {
          "bdata": "/Rvc7BWsV0A4xHu3mEp9QPt9qzXNx4lAkPqJox22bEAejMnwXSuCQHSI7tA4Z3BAKuvKzyYUg0By+pm5tXFyQFnYN9w2645AttryXorkgUBApMEIHVZsQPaA5NZJUIlAiKXmDRWxeEBMOkXemgCNQKtMRh1Uhl5A+D55cRnee0BStuGMGBFbQPcqHy03v4BAAaR2MJrze0BocB8mhY+RQBWiOa2SdHJAmF5zernAd0ASG0/cnMqBQEvX2A4rT4FATPuygWEUakCKDokUoBWLQBNOZS+Nu3FAwoGMLsSCc0By6RyxbpZeQAn4/6Uj7o9A58TW7veDeEB6DGF+34mIQFxyy4eZXFdAIaSwBdBDd0DieH7O8dNcQG7UOFjW2m9AQfkoL/09c0BslAXa7eqOQJzcMZoASHZAHxcMivpfcEAy7LK9h1BqQGhGaXsBWnJAaGQUYCiPa0DX+VOpkzxXQGodnArLOJBA",
          "dtype": "f8"
         },
         "yaxis": "y5"
        },
        {
         "hovertemplate": "Temperature Anomaly<br>Time: %{x}<br>Value: %{y:.1f}<extra></extra>",
         "marker": {
          "color": "red",
          "line": {
           "color": "darkred",
           "width": 2
          },
          "size": 10,
          "symbol": "x"
         },
         "mode": "markers",
         "name": "Temperature Anomalies",
         "type": "scatter",
         "x": [
          "2025-08-27T03:05:12.561319000",
          "2025-08-27T03:05:18.561319000",
          "2025-08-27T03:05:22.561319000",
          "2025-08-27T03:05:28.561319000",
          "2025-08-27T03:05:35.561319000",
          "2025-08-27T03:05:46.561319000",
          "2025-08-27T03:05:48.561319000",
          "2025-08-27T03:05:50.561319000",
          "2025-08-27T03:05:55.561319000",
          "2025-08-27T03:05:55.561319000",
          "2025-08-27T03:06:09.561319000",
          "2025-08-27T03:06:11.561319000",
          "2025-08-27T03:06:14.561319000",
          "2025-08-27T03:06:15.561319000",
          "2025-08-27T03:06:17.561319000",
          "2025-08-27T03:06:34.561319000",
          "2025-08-27T03:06:38.561319000",
          "2025-08-27T03:06:41.561319000",
          "2025-08-27T03:06:42.561319000",
          "2025-08-27T03:06:49.561319000",
          "2025-08-27T03:06:49.561319000",
          "2025-08-27T03:06:53.561319000",
          "2025-08-27T03:06:58.561319000",
          "2025-08-27T03:07:01.561319000",
          "2025-08-27T03:07:02.561319000",
          "2025-08-27T03:07:06.561319000",
          "2025-08-27T03:07:31.561319000",
          "2025-08-27T03:07:36.561319000",
          "2025-08-27T03:07:47.561319000",
          "2025-08-27T03:07:48.561319000",
          "2025-08-27T03:08:11.561319000",
          "2025-08-27T03:08:12.561319000",
          "2025-08-27T03:08:13.561319000"
         ],
         "xaxis": "x4",
         "y": {
          "bdata": "2EuXxmK1I0CHOCL5jXFGQCQnr9iN4ElAX5Ps+qOGN0A4+D7hz0ovQLDgdoyGNTxAQt5yGKjMH0AWCser6946QFnuFZ0iDDlAKG8OC96HOUCkPgbzVy5IQGD4P5v6nCdAuD728wT7OEB4p7hTH4AlQHM5vQnNskFAAIZzPuOoNUDGd8IwmWokQECYOT2F7DVAGo+SSwZ/OkDJvqvnXl1CQLrquQKfTThA6RNnytYINkCWDeai+wQ+QDOIU6ASW0ZAEuy5NYtyM0DMpK0cFcAhQBe1a8Y0BDdAffqk/kpjQkDNx6GGvy83QFsRMRfST0RARtNXT/MPJkCysOjPASMeQKuCBYWQ6UZA",
          "dtype": "f8"
         },
         "yaxis": "y5"
        },
        {
         "hovertemplate": "Air_Quality Anomaly<br>Time: %{x}<br>Value: %{y:.1f}<extra></extra>",
         "marker": {
          "color": "red",
          "line": {
           "color": "darkred",
           "width": 2
          },
          "size": 10,
          "symbol": "x"
         },
         "mode": "markers",
         "name": "Air_Quality Anomalies",
         "type": "scatter",
         "x": [
          "2025-08-27T03:05:13.561319000",
          "2025-08-27T03:05:19.561319000",
          "2025-08-27T03:05:20.561319000",
          "2025-08-27T03:05:21.561319000",
          "2025-08-27T03:05:41.561319000",
          "2025-08-27T03:05:44.561319000",
          "2025-08-27T03:05:44.561319000",
          "2025-08-27T03:05:55.561319000",
          "2025-08-27T03:05:59.561319000",
          "2025-08-27T03:06:00.561319000",
          "2025-08-27T03:06:01.561319000",
          "2025-08-27T03:06:02.561319000",
          "2025-08-27T03:06:17.561319000",
          "2025-08-27T03:06:21.561319000",
          "2025-08-27T03:06:27.561319000",
          "2025-08-27T03:06:33.561319000",
          "2025-08-27T03:06:43.561319000",
          "2025-08-27T03:06:45.561319000",
          "2025-08-27T03:06:46.561319000",
          "2025-08-27T03:06:47.561319000",
          "2025-08-27T03:06:54.561319000",
          "2025-08-27T03:06:58.561319000",
          "2025-08-27T03:06:58.561319000",
          "2025-08-27T03:07:00.561319000",
          "2025-08-27T03:07:04.561319000",
          "2025-08-27T03:07:05.561319000",
          "2025-08-27T03:07:06.561319000",
          "2025-08-27T03:07:25.561319000",
          "2025-08-27T03:07:25.561319000",
          "2025-08-27T03:07:26.561319000",
          "2025-08-27T03:07:28.561319000",
          "2025-08-27T03:07:29.561319000",
          "2025-08-27T03:07:39.561319000",
          "2025-08-27T03:07:39.561319000",
          "2025-08-27T03:07:44.561319000",
          "2025-08-27T03:08:03.561319000"
         ],
         "xaxis": "x4",
         "y": {
          "bdata": "pNx6OPkCTUD1TVr7DPhWQORnFQYG2ixASp0LdcCcTkB0frPAeJ8EQMD5nQgndS9As47r4QwBLEDgSDCnuP0tQOrLnV1CWClAD8gjlfimYED++zZ2jeFaQABzLKkeH19AxvKYqAMNSEDa28p6HgBUQByEsmtb10xAeN2At4wCRUC+awnYUB5LQFu+4iC9lFhAo+jB9wCZTED9j4OWdMRcQE+8ANkNQDlAbjhQoOXCL0DEKIQ5nK5RQHH7Lu8TVU5AJiNFydH1XECZSK6VtFk3QMntNivJHzBATRWoAIifQkA1aWIU2aRVQGqdBIlFSVNAyjwVciWsUEBvkycqAlwvQIij7d+3MDlAQJJ0wJaHSkDFy0kmwYcsQGtE8Cl6CDdA",
          "dtype": "f8"
         },
         "yaxis": "y5"
        },
        {
         "customdata": {
          "bdata": "sARDALAEMgCwBDQAsARGAA==",
          "dtype": "i2",
          "shape": "4, 2"
         },
         "hovertemplate": "Location: %{x}<br>Uptime: %{y:.1f}%<br>Readings: %{customdata[0]}<br>Anomalies: %{customdata[1]}<extra></extra>",
         "marker": {
          "color": {
           "bdata": "q6qqqqqaV0BWVVVVVfVXQKuqqqqq6ldAq6qqqqqKV0A=",
           "dtype": "f8"
          },
          "colorbar": {
           "title": {
            "text": "Uptime %"
           },
           "x": 1.02
          },
          "colorscale": [
           [
            0,
            "rgb(165,0,38)"
           ],
           [
            0.1,
            "rgb(215,48,39)"
           ],
           [
            0.2,
            "rgb(244,109,67)"
           ],
           [
            0.3,
            "rgb(253,174,97)"
           ],
           [
            0.4,
            "rgb(254,224,139)"
           ],
           [
            0.5,
            "rgb(255,255,191)"
           ],
           [
            0.6,
            "rgb(217,239,139)"
           ],
           [
            0.7,
            "rgb(166,217,106)"
           ],
           [
            0.8,
            "rgb(102,189,99)"
           ],
           [
            0.9,
            "rgb(26,152,80)"
           ],
           [
            1,
            "rgb(0,104,55)"
           ]
          ],
          "showscale": true
         },
         "text": [
          "94.4%",
          "95.8%",
          "95.7%",
          "94.2%"
         ],
         "textposition": "outside",
         "type": "bar",
         "x": [
          "Lab",
          "Office",
          "Server Room",
          "Warehouse"
         ],
         "xaxis": "x5",
         "y": {
          "bdata": "q6qqqqqaV0BWVVVVVfVXQKuqqqqq6ldAq6qqqqqKV0A=",
          "dtype": "f8"
         },
         "yaxis": "y6"
        }
       ],
       "layout": {
        "annotations": [
         {
          "font": {
           "size": 16
          },
          "showarrow": false,
          "text": "A. Real-time Temperature Monitoring",
          "x": 0.205,
          "xanchor": "center",
          "xref": "paper",
          "y": 0.9999999999999999,
          "yanchor": "bottom",
          "yref": "paper"
         },
         {
          "font": {
           "size": 16
          },
          "showarrow": false,
          "text": "B. Environmental Conditions Heatmap",
          "x": 0.735,
          "xanchor": "center",
          "xref": "paper",
          "y": 0.9999999999999999,
          "yanchor": "bottom",
          "yref": "paper"
         },
         {
          "font": {
           "size": 16
          },
          "showarrow": false,
          "text": "C. Sensor Status & Alerts",
          "x": 0.205,
          "xanchor": "center",
          "xref": "paper",
          "y": 0.6166666666666666,
          "yanchor": "bottom",
          "yref": "paper"
         },
         {
          "font": {
           "size": 16
          },
          "showarrow": false,
          "text": "D. Historical Trends Analysis",
          "x": 0.735,
          "xanchor": "center",
          "xref": "paper",
          "y": 0.6166666666666666,
          "yanchor": "bottom",
          "yref": "paper"
         },
         {
          "font": {
           "size": 16
          },
          "showarrow": false,
          "text": "E. Anomaly Detection & Alerts",
          "x": 0.205,
          "xanchor": "center",
          "xref": "paper",
          "y": 0.2333333333333333,
          "yanchor": "bottom",
          "yref": "paper"
         },
         {
          "font": {
           "size": 16
          },
          "showarrow": false,
          "text": "F. System Performance Metrics",
          "x": 0.735,
          "xanchor": "center",
          "xref": "paper",
          "y": 0.2333333333333333,
          "yanchor": "bottom",
          "yref": "paper"
         },
         {
          "showarrow": false,
          "text": "High Temp Alert",
          "x": 1,
          "xanchor": "right",
          "xref": "x domain",
          "y": 25,
          "yanchor": "bottom",
          "yref": "y"
         },
         {
          "showarrow": false,
          "text": "Low Temp Alert",
          "x": 1,
          "xanchor": "right",
          "xref": "x domain",
          "y": 16,
          "yanchor": "bottom",
          "yref": "y"
         }
        ],
        "height": 1400,
        "shapes": [
         {
          "line": {
           "color": "red",
           "dash": "dash"
          },
          "type": "line",
          "x0": 0,
          "x1": 1,
          "xref": "x domain",
          "y0": 25,
          "y1": 25,
          "yref": "y"
         },
         {
          "line": {
           "color": "blue",
           "dash": "dash"
          },
          "type": "line",
          "x0": 0,
          "x1": 1,
          "xref": "x domain",
          "y0": 16,
          "y1": 16,
          "yref": "y"
         }
        ],
        "showlegend": true,
        "template": {
         "data": {
          "bar": [
           {
            "error_x": {
             "color": "#2a3f5f"
            },
            "error_y": {
             "color": "#2a3f5f"
            },
            "marker": {
             "line": {
              "color": "white",
              "width": 0.5
             },
             "pattern": {
              "fillmode": "overlay",
              "size": 10,
              "solidity": 0.2
             }
            },
            "type": "bar"
           }
          ],
          "barpolar": [
           {
            "marker": {
             "line": {
              "color": "white",
              "width": 0.5
             },
             "pattern": {
              "fillmode": "overlay",
              "size": 10,
              "solidity": 0.2
             }
            },
            "type": "barpolar"
           }
          ],
          "carpet": [
           {
            "aaxis": {
             "endlinecolor": "#2a3f5f",
             "gridcolor": "#C8D4E3",
             "linecolor": "#C8D4E3",
             "minorgridcolor": "#C8D4E3",
             "startlinecolor": "#2a3f5f"
            },
            "baxis": {
             "endlinecolor": "#2a3f5f",
             "gridcolor": "#C8D4E3",
             "linecolor": "#C8D4E3",
             "minorgridcolor": "#C8D4E3",
             "startlinecolor": "#2a3f5f"
            },
            "type": "carpet"
           }
          ],
          "choropleth": [
           {
            "colorbar": {
             "outlinewidth": 0,
             "ticks": ""
            },
            "type": "choropleth"
           }
          ],
          "contour": [
           {
            "colorbar": {
             "outlinewidth": 0,
             "ticks": ""
            },
            "colorscale": [
             [
              0,
              "#0d0887"
             ],
             [
              0.1111111111111111,
              "#46039f"
             ],
             [
              0.2222222222222222,
              "#7201a8"
             ],
             [
              0.3333333333333333,
              "#9c179e"
             ],
             [
              0.4444444444444444,
              "#bd3786"
             ],
             [
              0.5555555555555556,
              "#d8576b"
             ],
             [
              0.6666666666666666,
              "#ed7953"
             ],
             [
              0.7777777777777778,
              "#fb9f3a"
             ],
             [
              0.8888888888888888,
              "#fdca26"
             ],
             [
              1,
              "#f0f921"
             ]
            ],
            "type": "contour"
           }
          ],
          "contourcarpet": [
           {
            "colorbar": {
             "outlinewidth": 0,
             "ticks": ""
            },
            "type": "contourcarpet"
           }
          ],
          "heatmap": [
           {
            "colorbar": {
             "outlinewidth": 0,
             "ticks": ""
            },
            "colorscale": [
             [
              0,
              "#0d0887"
             ],
             [
              0.1111111111111111,
              "#46039f"
             ],
             [
              0.2222222222222222,
              "#7201a8"
             ],
             [
              0.3333333333333333,
              "#9c179e"
             ],
             [
              0.4444444444444444,
              "#bd3786"
             ],
             [
              0.5555555555555556,
              "#d8576b"
             ],
             [
              0.6666666666666666,
              "#ed7953"
             ],
             [
              0.7777777777777778,
              "#fb9f3a"
             ],
             [
              0.8888888888888888,
              "#fdca26"
             ],
             [
              1,
              "#f0f921"
             ]
            ],
            "type": "heatmap"
           }
          ],
          "histogram": [
           {
            "marker": {
             "pattern": {
              "fillmode": "overlay",
              "size": 10,
              "solidity": 0.2
             }
            },
            "type": "histogram"
           }
          ],
          "histogram2d": [
           {
            "colorbar": {
             "outlinewidth": 0,
             "ticks": ""
            },
            "colorscale": [
             [
              0,
              "#0d0887"
             ],
             [
              0.1111111111111111,
              "#46039f"
             ],
             [
              0.2222222222222222,
              "#7201a8"
             ],
             [
              0.3333333333333333,
              "#9c179e"
             ],
             [
              0.4444444444444444,
              "#bd3786"
             ],
             [
              0.5555555555555556,
              "#d8576b"
             ],
             [
              0.6666666666666666,
              "#ed7953"
             ],
             [
              0.7777777777777778,
              "#fb9f3a"
             ],
             [
              0.8888888888888888,
              "#fdca26"
             ],
             [
              1,
              "#f0f921"
             ]
            ],
            "type": "histogram2d"
           }
          ],
          "histogram2dcontour": [
           {
            "colorbar": {
             "outlinewidth": 0,
             "ticks": ""
            },
            "colorscale": [
             [
              0,
              "#0d0887"
             ],
             [
              0.1111111111111111,
              "#46039f"
             ],
             [
              0.2222222222222222,
              "#7201a8"
             ],
             [
              0.3333333333333333,
              "#9c179e"
             ],
             [
              0.4444444444444444,
              "#bd3786"
             ],
             [
              0.5555555555555556,
              "#d8576b"
             ],
             [
              0.6666666666666666,
              "#ed7953"
             ],
             [
              0.7777777777777778,
              "#fb9f3a"
             ],
             [
              0.8888888888888888,
              "#fdca26"
             ],
             [
              1,
              "#f0f921"
             ]
            ],
            "type": "histogram2dcontour"
           }
          ],
          "mesh3d": [
           {
            "colorbar": {
             "outlinewidth": 0,
             "ticks": ""
            },
            "type": "mesh3d"
           }
          ],
          "parcoords": [
           {
            "line": {
             "colorbar": {
              "outlinewidth": 0,
              "ticks": ""
             }
            },
            "type": "parcoords"
           }
          ],
          "pie": [
           {
            "automargin": true,
            "type": "pie"
           }
          ],
          "scatter": [
           {
            "fillpattern": {
             "fillmode": "overlay",
             "size": 10,
             "solidity": 0.2
            },
            "type": "scatter"
           }
          ],
          "scatter3d": [
           {
            "line": {
             "colorbar": {
              "outlinewidth": 0,
              "ticks": ""
             }
            },
            "marker": {
             "colorbar": {
              "outlinewidth": 0,
              "ticks": ""
             }
            },
            "type": "scatter3d"
           }
          ],
          "scattercarpet": [
           {
            "marker": {
             "colorbar": {
              "outlinewidth": 0,
              "ticks": ""
             }
            },
            "type": "scattercarpet"
           }
          ],
          "scattergeo": [
           {
            "marker": {
             "colorbar": {
              "outlinewidth": 0,
              "ticks": ""
             }
            },
            "type": "scattergeo"
           }
          ],
          "scattergl": [
           {
            "marker": {
             "colorbar": {
              "outlinewidth": 0,
              "ticks": ""
             }
            },
            "type": "scattergl"
           }
          ],
          "scattermap": [
           {
            "marker": {
             "colorbar": {
              "outlinewidth": 0,
              "ticks": ""
             }
            },
            "type": "scattermap"
           }
          ],
          "scattermapbox": [
           {
            "marker": {
             "colorbar": {
              "outlinewidth": 0,
              "ticks": ""
             }
            },
            "type": "scattermapbox"
           }
          ],
          "scatterpolar": [
           {
            "marker": {
             "colorbar": {
              "outlinewidth": 0,
              "ticks": ""
             }
            },
            "type": "scatterpolar"
           }
          ],
          "scatterpolargl": [
           {
            "marker": {
             "colorbar": {
              "outlinewidth": 0,
              "ticks": ""
             }
            },
            "type": "scatterpolargl"
           }
          ],
          "scatterternary": [
           {
            "marker": {
             "colorbar": {
              "outlinewidth": 0,
              "ticks": ""
             }
            },
            "type": "scatterternary"
           }
          ],
          "surface": [
           {
            "colorbar": {
             "outlinewidth": 0,
             "ticks": ""
            },
            "colorscale": [
             [
              0,
              "#0d0887"
             ],
             [
              0.1111111111111111,
              "#46039f"
             ],
             [
              0.2222222222222222,
              "#7201a8"
             ],
             [
              0.3333333333333333,
              "#9c179e"
             ],
             [
              0.4444444444444444,
              "#bd3786"
             ],
             [
              0.5555555555555556,
              "#d8576b"
             ],
             [
              0.6666666666666666,
              "#ed7953"
             ],
             [
              0.7777777777777778,
              "#fb9f3a"
             ],
             [
              0.8888888888888888,
              "#fdca26"
             ],
             [
              1,
              "#f0f921"
             ]
            ],
            "type": "surface"
           }
          ],
          "table": [
           {
            "cells": {
             "fill": {
              "color": "#EBF0F8"
             },
             "line": {
              "color": "white"
             }
            },
            "header": {
             "fill": {
              "color": "#C8D4E3"
             },
             "line": {
              "color": "white"
             }
            },
            "type": "table"
           }
          ]
         },
         "layout": {
          "annotationdefaults": {
           "arrowcolor": "#2a3f5f",
           "arrowhead": 0,
           "arrowwidth": 1
          },
          "autotypenumbers": "strict",
          "coloraxis": {
           "colorbar": {
            "outlinewidth": 0,
            "ticks": ""
           }
          },
          "colorscale": {
           "diverging": [
            [
             0,
             "#8e0152"
            ],
            [
             0.1,
             "#c51b7d"
            ],
            [
             0.2,
             "#de77ae"
            ],
            [
             0.3,
             "#f1b6da"
            ],
            [
             0.4,
             "#fde0ef"
            ],
            [
             0.5,
             "#f7f7f7"
            ],
            [
             0.6,
             "#e6f5d0"
            ],
            [
             0.7,
             "#b8e186"
            ],
            [
             0.8,
             "#7fbc41"
            ],
            [
             0.9,
             "#4d9221"
            ],
            [
             1,
             "#276419"
            ]
           ],
           "sequential": [
            [
             0,
             "#0d0887"
            ],
            [
             0.1111111111111111,
             "#46039f"
            ],
            [
             0.2222222222222222,
             "#7201a8"
            ],
            [
             0.3333333333333333,
             "#9c179e"
            ],
            [
             0.4444444444444444,
             "#bd3786"
            ],
            [
             0.5555555555555556,
             "#d8576b"
            ],
            [
             0.6666666666666666,
             "#ed7953"
            ],
            [
             0.7777777777777778,
             "#fb9f3a"
            ],
            [
             0.8888888888888888,
             "#fdca26"
            ],
            [
             1,
             "#f0f921"
            ]
           ],
           "sequentialminus": [
            [
             0,
             "#0d0887"
            ],
            [
             0.1111111111111111,
             "#46039f"
            ],
            [
             0.2222222222222222,
             "#7201a8"
            ],
            [
             0.3333333333333333,
             "#9c179e"
            ],
            [
             0.4444444444444444,
             "#bd3786"
            ],
            [
             0.5555555555555556,
             "#d8576b"
            ],
            [
             0.6666666666666666,
             "#ed7953"
            ],
            [
             0.7777777777777778,
             "#fb9f3a"
            ],
            [
             0.8888888888888888,
             "#fdca26"
            ],
            [
             1,
             "#f0f921"
            ]
           ]
          },
          "colorway": [
           "#636efa",
           "#EF553B",
           "#00cc96",
           "#ab63fa",
           "#FFA15A",
           "#19d3f3",
           "#FF6692",
           "#B6E880",
           "#FF97FF",
           "#FECB52"
          ],
          "font": {
           "color": "#2a3f5f"
          },
          "geo": {
           "bgcolor": "white",
           "lakecolor": "white",
           "landcolor": "white",
           "showlakes": true,
           "showland": true,
           "subunitcolor": "#C8D4E3"
          },
          "hoverlabel": {
           "align": "left"
          },
          "hovermode": "closest",
          "mapbox": {
           "style": "light"
          },
          "paper_bgcolor": "white",
          "plot_bgcolor": "white",
          "polar": {
           "angularaxis": {
            "gridcolor": "#EBF0F8",
            "linecolor": "#EBF0F8",
            "ticks": ""
           },
           "bgcolor": "white",
           "radialaxis": {
            "gridcolor": "#EBF0F8",
            "linecolor": "#EBF0F8",
            "ticks": ""
           }
          },
          "scene": {
           "xaxis": {
            "backgroundcolor": "white",
            "gridcolor": "#DFE8F3",
            "gridwidth": 2,
            "linecolor": "#EBF0F8",
            "showbackground": true,
            "ticks": "",
            "zerolinecolor": "#EBF0F8"
           },
           "yaxis": {
            "backgroundcolor": "white",
            "gridcolor": "#DFE8F3",
            "gridwidth": 2,
            "linecolor": "#EBF0F8",
            "showbackground": true,
            "ticks": "",
            "zerolinecolor": "#EBF0F8"
           },
           "zaxis": {
            "backgroundcolor": "white",
            "gridcolor": "#DFE8F3",
            "gridwidth": 2,
            "linecolor": "#EBF0F8",
            "showbackground": true,
            "ticks": "",
            "zerolinecolor": "#EBF0F8"
           }
          },
          "shapedefaults": {
           "line": {
            "color": "#2a3f5f"
           }
          },
          "ternary": {
           "aaxis": {
            "gridcolor": "#DFE8F3",
            "linecolor": "#A2B1C6",
            "ticks": ""
           },
           "baxis": {
            "gridcolor": "#DFE8F3",
            "linecolor": "#A2B1C6",
            "ticks": ""
           },
           "bgcolor": "white",
           "caxis": {
            "gridcolor": "#DFE8F3",
            "linecolor": "#A2B1C6",
            "ticks": ""
           }
          },
          "title": {
           "x": 0.05
          },
          "xaxis": {
           "automargin": true,
           "gridcolor": "#EBF0F8",
           "linecolor": "#EBF0F8",
           "ticks": "",
           "title": {
            "standoff": 15
           },
           "zerolinecolor": "#EBF0F8",
           "zerolinewidth": 2
          },
          "yaxis": {
           "automargin": true,
           "gridcolor": "#EBF0F8",
           "linecolor": "#EBF0F8",
           "ticks": "",
           "title": {
            "standoff": 15
           },
           "zerolinecolor": "#EBF0F8",
           "zerolinewidth": 2
          }
         }
        },
        "title": {
         "font": {
          "size": 20
         },
         "text": "🌡️ IoT Sensor Monitoring Dashboard<br><sub>Real-time environmental monitoring with anomaly detection</sub>",
         "x": 0.5,
         "xanchor": "center"
        },
        "xaxis": {
         "anchor": "y",
         "domain": [
          0,
          0.41
         ],
         "title": {
          "text": "Time"
         }
        },
        "xaxis2": {
         "anchor": "y2",
         "domain": [
          0.53,
          0.94
         ]
        },
        "xaxis3": {
         "anchor": "y3",
         "domain": [
          0.53,
          0.94
         ],
         "title": {
          "text": "Time"
         }
        },
        "xaxis4": {
         "anchor": "y5",
         "domain": [
          0,
          0.41
         ],
         "title": {
          "text": "Time"
         }
        },
        "xaxis5": {
         "anchor": "y6",
         "domain": [
          0.53,
          0.94
         ],
         "title": {
          "text": "Location"
         }
        },
        "yaxis": {
         "anchor": "x",
         "domain": [
          0.7666666666666666,
          0.9999999999999999
         ],
         "title": {
          "text": "Temperature (°C)"
         }
        },
        "yaxis2": {
         "anchor": "x2",
         "domain": [
          0.7666666666666666,
          0.9999999999999999
         ]
        },
        "yaxis3": {
         "anchor": "x3",
         "domain": [
          0.3833333333333333,
          0.6166666666666666
         ],
         "title": {
          "text": "Sensor Values"
         }
        },
        "yaxis4": {
         "anchor": "x3",
         "overlaying": "y3",
         "side": "right",
         "title": {
          "text": "Sensor Values"
         }
        },
        "yaxis5": {
         "anchor": "x4",
         "domain": [
          0,
          0.2333333333333333
         ],
         "title": {
          "text": "Anomaly Value"
         }
        },
        "yaxis6": {
         "anchor": "x5",
         "domain": [
          0,
          0.2333333333333333
         ],
         "title": {
          "text": "System Uptime (%)"
         }
        }
       }
      }
     },
     "metadata": {},
     "output_type": "display_data"
    },
    {
     "name": "stdout",
     "output_type": "stream",
     "text": [
      "\n",
      "🌡️ IOT SENSOR MONITORING ANALYSIS:\n",
      "========================================\n",
      "📊 Sensor Network Summary:\n",
      "   📡 Total Readings: 4,800\n",
      "   🏢 Locations Monitored: 4\n",
      "   📊 Sensor Types: 6\n",
      "   ⏱️  Monitoring Duration: 199 seconds\n",
      "\n",
      "🚨 Anomaly Detection Results:\n",
      "   🔍 Total Anomalies: 239\n",
      "   📊 Anomaly Rate: 4.98%\n",
      "   📈 Most Anomalous Sensor: pressure (45 anomalies)\n",
      "\n",
      "🏢 Location Performance:\n",
      "   🟡 Lab: 94.4% uptime (67 anomalies)\n",
      "   🟢 Office: 95.8% uptime (50 anomalies)\n",
      "   🟢 Server Room: 95.7% uptime (52 anomalies)\n",
      "   🟡 Warehouse: 94.2% uptime (70 anomalies)\n",
      "\n",
      "📈 Real-time IoT Features:\n",
      "   🌡️ Multi-sensor environmental monitoring\n",
      "   🚨 Automated anomaly detection\n",
      "   📊 System health dashboards\n",
      "   📱 Mobile-responsive IoT interface\n",
      "   🔔 Real-time alert system\n",
      "\n",
      "✅ IoT Sensor Dashboard Complete!\n",
      "🎨 Ready for deployment in smart buildings and industrial IoT!\n"
     ]
    }
   ],
   "source": [
    "# 🌡️ IoT Sensor Monitoring Dashboard\n",
    "# Monitor real-time environmental and system sensors\n",
    "\n",
    "print(\"\\n🌡️ Creating IoT Sensor Monitoring Dashboard\")\n",
    "print(\"=\" * 47)\n",
    "\n",
    "def create_iot_sensor_dashboard():\n",
    "    \"\"\"\n",
    "    Create comprehensive IoT sensor monitoring dashboard\n",
    "    \"\"\"\n",
    "    \n",
    "    print(\"📡 Simulating IoT Sensor Network...\")\n",
    "    \n",
    "    # Generate IoT sensor data\n",
    "    sensors = {\n",
    "        'temperature': {'locations': ['Office', 'Server Room', 'Lab', 'Warehouse'], 'unit': '°C'},\n",
    "        'humidity': {'locations': ['Office', 'Server Room', 'Lab', 'Warehouse'], 'unit': '%'},\n",
    "        'pressure': {'locations': ['Office', 'Server Room', 'Lab', 'Warehouse'], 'unit': 'hPa'},\n",
    "        'air_quality': {'locations': ['Office', 'Server Room', 'Lab', 'Warehouse'], 'unit': 'AQI'},\n",
    "        'noise_level': {'locations': ['Office', 'Server Room', 'Lab', 'Warehouse'], 'unit': 'dB'},\n",
    "        'light_intensity': {'locations': ['Office', 'Server Room', 'Lab', 'Warehouse'], 'unit': 'lux'}\n",
    "    }\n",
    "    \n",
    "    # Generate streaming IoT data\n",
    "    iot_data = []\n",
    "    base_time = pd.Timestamp.now()\n",
    "    \n",
    "    for i in range(200):  # 200 time points\n",
    "        timestamp = base_time + pd.Timedelta(seconds=i)\n",
    "        \n",
    "        for sensor_type, config in sensors.items():\n",
    "            for location in config['locations']:\n",
    "                # Generate realistic sensor values\n",
    "                if sensor_type == 'temperature':\n",
    "                    base_temp = {'Office': 22, 'Server Room': 18, 'Lab': 20, 'Warehouse': 15}\n",
    "                    value = base_temp[location] + np.random.normal(0, 2) + np.sin(i/10) * 3\n",
    "                elif sensor_type == 'humidity':\n",
    "                    base_humidity = {'Office': 45, 'Server Room': 35, 'Lab': 50, 'Warehouse': 60}\n",
    "                    value = max(0, min(100, base_humidity[location] + np.random.normal(0, 5)))\n",
    "                elif sensor_type == 'pressure':\n",
    "                    value = 1013.25 + np.random.normal(0, 2) + np.sin(i/20) * 5\n",
    "                elif sensor_type == 'air_quality':\n",
    "                    base_aqi = {'Office': 45, 'Server Room': 25, 'Lab': 35, 'Warehouse': 55}\n",
    "                    value = max(0, base_aqi[location] + np.random.normal(0, 10))\n",
    "                elif sensor_type == 'noise_level':\n",
    "                    base_noise = {'Office': 40, 'Server Room': 45, 'Lab': 35, 'Warehouse': 50}\n",
    "                    value = max(0, base_noise[location] + np.random.normal(0, 5))\n",
    "                elif sensor_type == 'light_intensity':\n",
    "                    base_light = {'Office': 300, 'Server Room': 150, 'Lab': 500, 'Warehouse': 200}\n",
    "                    value = max(0, base_light[location] + np.random.normal(0, 50))\n",
    "                \n",
    "                # Add alerts and anomalies\n",
    "                is_anomaly = np.random.random() < 0.05  # 5% chance of anomaly\n",
    "                if is_anomaly:\n",
    "                    value *= np.random.choice([0.5, 1.5, 2.0])  # Anomalous reading\n",
    "                \n",
    "                iot_data.append({\n",
    "                    'timestamp': timestamp,\n",
    "                    'sensor_type': sensor_type,\n",
    "                    'location': location,\n",
    "                    'value': value,\n",
    "                    'unit': config['unit'],\n",
    "                    'is_anomaly': is_anomaly,\n",
    "                    'sensor_id': f\"{sensor_type}_{location.replace(' ', '_').lower()}\"\n",
    "                })\n",
    "    \n",
    "    iot_df = pd.DataFrame(iot_data)\n",
    "    \n",
    "    print(f\"   ✅ Generated {len(iot_df)} sensor readings\")\n",
    "    print(f\"   📊 Sensors: {iot_df['sensor_type'].nunique()}\")\n",
    "    print(f\"   📍 Locations: {iot_df['location'].nunique()}\")\n",
    "    print(f\"   🚨 Anomalies detected: {iot_df['is_anomaly'].sum()}\")\n",
    "    \n",
    "    # Create comprehensive IoT dashboard\n",
    "    fig_iot = make_subplots(\n",
    "        rows=3, cols=2,\n",
    "        subplot_titles=[\n",
    "            \"A. Real-time Temperature Monitoring\",\n",
    "            \"B. Environmental Conditions Heatmap\",\n",
    "            \"C. Sensor Status & Alerts\",\n",
    "            \"D. Historical Trends Analysis\",\n",
    "            \"E. Anomaly Detection & Alerts\",\n",
    "            \"F. System Performance Metrics\"\n",
    "        ],\n",
    "        specs=[\n",
    "            [{\"secondary_y\": False}, {\"type\": \"heatmap\"}],\n",
    "            [{\"type\": \"indicator\"}, {\"secondary_y\": True}],\n",
    "            [{\"type\": \"scatter\"}, {\"type\": \"bar\"}]\n",
    "        ],\n",
    "        vertical_spacing=0.15,\n",
    "        horizontal_spacing=0.12\n",
    "    )\n",
    "    \n",
    "    # A. Real-time temperature monitoring\n",
    "    temp_data = iot_df[iot_df['sensor_type'] == 'temperature']\n",
    "    location_colors = px.colors.qualitative.Set2\n",
    "    \n",
    "    for i, location in enumerate(temp_data['location'].unique()):\n",
    "        location_data = temp_data[temp_data['location'] == location]\n",
    "        \n",
    "        fig_iot.add_trace(\n",
    "            go.Scatter(\n",
    "                x=location_data['timestamp'],\n",
    "                y=location_data['value'],\n",
    "                mode='lines+markers',\n",
    "                name=f'{location}',\n",
    "                line=dict(color=location_colors[i], width=2),\n",
    "                marker=dict(size=4),\n",
    "                hovertemplate=f'{location}<br>Time: %{{x}}<br>Temperature: %{{y:.1f}}°C<extra></extra>'\n",
    "            ),\n",
    "            row=1, col=1\n",
    "        )\n",
    "    \n",
    "    # Add temperature alert thresholds\n",
    "    fig_iot.add_hline(y=25, line_dash=\"dash\", line_color=\"red\", \n",
    "                     annotation_text=\"High Temp Alert\", row=1, col=1)\n",
    "    fig_iot.add_hline(y=16, line_dash=\"dash\", line_color=\"blue\", \n",
    "                     annotation_text=\"Low Temp Alert\", row=1, col=1)\n",
    "    \n",
    "    # B. Environmental conditions heatmap\n",
    "    # Create sensor readings matrix for latest values\n",
    "    latest_readings = iot_df.groupby(['sensor_type', 'location'])['value'].last().reset_index()\n",
    "    \n",
    "    # Normalize values for heatmap (0-1 scale)\n",
    "    heatmap_data = latest_readings.pivot(index='sensor_type', columns='location', values='value')\n",
    "    \n",
    "    # Normalize each sensor type to 0-1 scale for comparison\n",
    "    heatmap_normalized = heatmap_data.copy()\n",
    "    for sensor in heatmap_normalized.index:\n",
    "        sensor_min = heatmap_normalized.loc[sensor].min()\n",
    "        sensor_max = heatmap_normalized.loc[sensor].max()\n",
    "        if sensor_max != sensor_min:\n",
    "            heatmap_normalized.loc[sensor] = (heatmap_normalized.loc[sensor] - sensor_min) / (sensor_max - sensor_min)\n",
    "    \n",
    "    fig_iot.add_trace(\n",
    "        go.Heatmap(\n",
    "            z=heatmap_normalized.values,\n",
    "            x=heatmap_normalized.columns,\n",
    "            y=heatmap_normalized.index,\n",
    "            colorscale='RdYlBu_r',\n",
    "            showscale=True,\n",
    "            colorbar=dict(title=\"Normalized Level\", x=0.48),\n",
    "            text=heatmap_data.round(1).values,\n",
    "            texttemplate='%{text}',\n",
    "            hovertemplate='Location: %{x}<br>Sensor: %{y}<br>Normalized: %{z:.2f}<br>Value: %{text}<extra></extra>'\n",
    "        ),\n",
    "        row=1, col=2\n",
    "    )\n",
    "    \n",
    "    # C. Sensor status indicators\n",
    "    # Calculate sensor health metrics\n",
    "    sensor_health = iot_df.groupby('sensor_type').agg({\n",
    "        'is_anomaly': lambda x: (1 - x.mean()) * 100,  # Health percentage\n",
    "        'value': 'count'  # Reading count\n",
    "    }).reset_index()\n",
    "    sensor_health.columns = ['sensor_type', 'health_percent', 'reading_count']\n",
    "    \n",
    "    # Create gauge charts for sensor health\n",
    "    gauges_per_row = 3\n",
    "    for i, (_, sensor) in enumerate(sensor_health.iterrows()):\n",
    "        if i < gauges_per_row:  # Only show first 3 sensors in the gauge section\n",
    "            fig_iot.add_trace(\n",
    "                go.Indicator(\n",
    "                    mode=\"gauge+number+delta\",\n",
    "                    value=sensor['health_percent'],\n",
    "                    domain={'x': [i/3, (i+1)/3], 'y': [0, 1]},\n",
    "                    title={'text': f\"{sensor['sensor_type'].title()}<br>Health\"},\n",
    "                    delta={'reference': 95},\n",
    "                    gauge={\n",
    "                        'axis': {'range': [None, 100]},\n",
    "                        'bar': {'color': \"darkgreen\"},\n",
    "                        'steps': [\n",
    "                            {'range': [0, 50], 'color': \"lightgray\"},\n",
    "                            {'range': [50, 80], 'color': \"yellow\"},\n",
    "                            {'range': [80, 100], 'color': \"lightgreen\"}\n",
    "                        ],\n",
    "                        'threshold': {\n",
    "                            'line': {'color': \"red\", 'width': 4},\n",
    "                            'thickness': 0.75,\n",
    "                            'value': 90\n",
    "                        }\n",
    "                    }\n",
    "                ),\n",
    "                row=2, col=1\n",
    "            )\n",
    "    \n",
    "    # D. Historical trends analysis\n",
    "    # Calculate hourly averages for trends\n",
    "    iot_df['hour'] = iot_df['timestamp'].dt.floor('5min')  # 5-minute intervals for demo\n",
    "    hourly_trends = iot_df.groupby(['hour', 'sensor_type'])['value'].mean().reset_index()\n",
    "    \n",
    "    # Plot trends for key sensors\n",
    "    key_sensors = ['temperature', 'humidity', 'air_quality']\n",
    "    for i, sensor in enumerate(key_sensors):\n",
    "        sensor_trend = hourly_trends[hourly_trends['sensor_type'] == sensor]\n",
    "        \n",
    "        fig_iot.add_trace(\n",
    "            go.Scatter(\n",
    "                x=sensor_trend['hour'],\n",
    "                y=sensor_trend['value'],\n",
    "                mode='lines',\n",
    "                name=f'{sensor.title()} Trend',\n",
    "                line=dict(color=location_colors[i], width=2),\n",
    "                yaxis='y' if i == 0 else 'y2' if i == 1 else 'y',\n",
    "                hovertemplate=f'{sensor.title()}<br>Time: %{{x}}<br>Value: %{{y:.1f}}<extra></extra>'\n",
    "            ),\n",
    "            row=2, col=2\n",
    "        )\n",
    "    \n",
    "    # E. Anomaly detection visualization\n",
    "    anomaly_data = iot_df[iot_df['is_anomaly'] == True]\n",
    "    \n",
    "    # Plot anomalies by sensor type\n",
    "    for i, sensor_type in enumerate(anomaly_data['sensor_type'].unique()):\n",
    "        sensor_anomalies = anomaly_data[anomaly_data['sensor_type'] == sensor_type]\n",
    "        \n",
    "        fig_iot.add_trace(\n",
    "            go.Scatter(\n",
    "                x=sensor_anomalies['timestamp'],\n",
    "                y=sensor_anomalies['value'],\n",
    "                mode='markers',\n",
    "                name=f'{sensor_type.title()} Anomalies',\n",
    "                marker=dict(\n",
    "                    size=10,\n",
    "                    color='red',\n",
    "                    symbol='x',\n",
    "                    line=dict(width=2, color='darkred')\n",
    "                ),\n",
    "                hovertemplate=f'{sensor_type.title()} Anomaly<br>Time: %{{x}}<br>Value: %{{y:.1f}}<extra></extra>'\n",
    "            ),\n",
    "            row=3, col=1\n",
    "        )\n",
    "    \n",
    "    # F. System performance metrics\n",
    "    performance_metrics = iot_df.groupby('location').agg({\n",
    "        'value': 'count',\n",
    "        'is_anomaly': 'sum',\n",
    "        'sensor_type': 'nunique'\n",
    "    }).reset_index()\n",
    "    performance_metrics.columns = ['location', 'total_readings', 'anomalies', 'sensor_count']\n",
    "    performance_metrics['uptime_percent'] = ((performance_metrics['total_readings'] - performance_metrics['anomalies']) / \n",
    "                                           performance_metrics['total_readings'] * 100)\n",
    "    \n",
    "    fig_iot.add_trace(\n",
    "        go.Bar(\n",
    "            x=performance_metrics['location'],\n",
    "            y=performance_metrics['uptime_percent'],\n",
    "            text=[f'{p:.1f}%' for p in performance_metrics['uptime_percent']],\n",
    "            textposition='outside',\n",
    "            marker=dict(\n",
    "                color=performance_metrics['uptime_percent'],\n",
    "                colorscale='RdYlGn',\n",
    "                showscale=True,\n",
    "                colorbar=dict(title=\"Uptime %\", x=1.02)\n",
    "            ),\n",
    "            hovertemplate='Location: %{x}<br>Uptime: %{y:.1f}%<br>Readings: %{customdata[0]}<br>Anomalies: %{customdata[1]}<extra></extra>',\n",
    "            customdata=performance_metrics[['total_readings', 'anomalies']]\n",
    "        ),\n",
    "        row=3, col=2\n",
    "    )\n",
    "    \n",
    "    # Update layout\n",
    "    fig_iot.update_layout(\n",
    "        height=1400,\n",
    "        title={\n",
    "            'text': \"🌡️ IoT Sensor Monitoring Dashboard<br><sub>Real-time environmental monitoring with anomaly detection</sub>\",\n",
    "            'x': 0.5,\n",
    "            'xanchor': 'center',\n",
    "            'font': {'size': 20}\n",
    "        },\n",
    "        showlegend=True,\n",
    "        template='plotly_white'\n",
    "    )\n",
    "    \n",
    "    # Update axes\n",
    "    fig_iot.update_xaxes(title_text=\"Time\", row=1, col=1)\n",
    "    fig_iot.update_yaxes(title_text=\"Temperature (°C)\", row=1, col=1)\n",
    "    fig_iot.update_xaxes(title_text=\"Time\", row=2, col=2)\n",
    "    fig_iot.update_yaxes(title_text=\"Sensor Values\", row=2, col=2)\n",
    "    fig_iot.update_xaxes(title_text=\"Time\", row=3, col=1)\n",
    "    fig_iot.update_yaxes(title_text=\"Anomaly Value\", row=3, col=1)\n",
    "    fig_iot.update_xaxes(title_text=\"Location\", row=3, col=2)\n",
    "    fig_iot.update_yaxes(title_text=\"System Uptime (%)\", row=3, col=2)\n",
    "    \n",
    "    return fig_iot, iot_df, performance_metrics, anomaly_data\n",
    "\n",
    "# Create IoT sensor monitoring dashboard\n",
    "iot_dashboard, sensor_data, performance_summary, anomalies = create_iot_sensor_dashboard()\n",
    "iot_dashboard.show()\n",
    "\n",
    "# IoT analysis summary\n",
    "print(\"\\n🌡️ IOT SENSOR MONITORING ANALYSIS:\")\n",
    "print(\"=\" * 40)\n",
    "print(f\"📊 Sensor Network Summary:\")\n",
    "print(f\"   📡 Total Readings: {len(sensor_data):,}\")\n",
    "print(f\"   🏢 Locations Monitored: {sensor_data['location'].nunique()}\")\n",
    "print(f\"   📊 Sensor Types: {sensor_data['sensor_type'].nunique()}\")\n",
    "print(f\"   ⏱️  Monitoring Duration: {(sensor_data['timestamp'].max() - sensor_data['timestamp'].min()).total_seconds():.0f} seconds\")\n",
    "\n",
    "print(f\"\\n🚨 Anomaly Detection Results:\")\n",
    "print(f\"   🔍 Total Anomalies: {len(anomalies)}\")\n",
    "print(f\"   📊 Anomaly Rate: {len(anomalies)/len(sensor_data)*100:.2f}%\")\n",
    "if len(anomalies) > 0:\n",
    "    anomaly_by_sensor = anomalies['sensor_type'].value_counts()\n",
    "    print(f\"   📈 Most Anomalous Sensor: {anomaly_by_sensor.index[0]} ({anomaly_by_sensor.iloc[0]} anomalies)\")\n",
    "\n",
    "print(f\"\\n🏢 Location Performance:\")\n",
    "for _, row in performance_summary.iterrows():\n",
    "    status = \"🟢\" if row['uptime_percent'] > 95 else \"🟡\" if row['uptime_percent'] > 90 else \"🔴\"\n",
    "    print(f\"   {status} {row['location']}: {row['uptime_percent']:.1f}% uptime ({row['anomalies']} anomalies)\")\n",
    "\n",
    "print(f\"\\n📈 Real-time IoT Features:\")\n",
    "print(f\"   🌡️ Multi-sensor environmental monitoring\")\n",
    "print(f\"   🚨 Automated anomaly detection\")\n",
    "print(f\"   📊 System health dashboards\")\n",
    "print(f\"   📱 Mobile-responsive IoT interface\")\n",
    "print(f\"   🔔 Real-time alert system\")\n",
    "\n",
    "print(f\"\\n✅ IoT Sensor Dashboard Complete!\")\n",
    "print(f\"🎨 Ready for deployment in smart buildings and industrial IoT!\")"
   ]
  },
  {
   "cell_type": "code",
   "execution_count": 7,
   "id": "05d98eac",
   "metadata": {},
   "outputs": [
    {
     "name": "stdout",
     "output_type": "stream",
     "text": [
      "\n",
      "📱 Creating Real-time Social Media Analytics Dashboard\n",
      "=======================================================\n",
      "📊 Simulating Social Media Data Stream...\n",
      "   ✅ Generated 1201 social media posts\n",
      "   📱 Platforms: 6\n",
      "   📊 Content Types: 6\n",
      "   🔥 Viral Posts: 60\n"
     ]
    },
    {
     "data": {
      "application/vnd.plotly.v1+json": {
       "config": {
        "plotlyServerURL": "https://plot.ly"
       },
       "data": [
        {
         "hovertemplate": "Time: %{x}<br>Engagement: %{y:,}<extra></extra>",
         "line": {
          "color": "blue",
          "width": 3
         },
         "mode": "lines+markers",
         "name": "Total Engagement",
         "type": "scatter",
         "x": [
          "2025-08-27T03:00:00.000000000",
          "2025-08-27T03:30:00.000000000",
          "2025-08-27T04:00:00.000000000",
          "2025-08-27T04:30:00.000000000",
          "2025-08-27T05:00:00.000000000",
          "2025-08-27T05:30:00.000000000",
          "2025-08-27T06:00:00.000000000",
          "2025-08-27T06:30:00.000000000",
          "2025-08-27T07:00:00.000000000",
          "2025-08-27T07:30:00.000000000",
          "2025-08-27T08:00:00.000000000"
         ],
         "xaxis": "x",
         "y": {
          "bdata": "+XEAAHChAAB+kQAAPJcAACP+AAAcbQAAIHIAAC9ZAAD9agAATFoAAM0rAAA=",
          "dtype": "i4"
         },
         "yaxis": "y"
        },
        {
         "hovertemplate": "Time: %{x}<br>Posts: %{y}<extra></extra>",
         "line": {
          "color": "green",
          "width": 2
         },
         "mode": "lines+markers",
         "name": "Posts Published",
         "type": "scatter",
         "x": [
          "2025-08-27T03:00:00.000000000",
          "2025-08-27T03:30:00.000000000",
          "2025-08-27T04:00:00.000000000",
          "2025-08-27T04:30:00.000000000",
          "2025-08-27T05:00:00.000000000",
          "2025-08-27T05:30:00.000000000",
          "2025-08-27T06:00:00.000000000",
          "2025-08-27T06:30:00.000000000",
          "2025-08-27T07:00:00.000000000",
          "2025-08-27T07:30:00.000000000",
          "2025-08-27T08:00:00.000000000"
         ],
         "xaxis": "x",
         "y": {
          "bdata": "VQBqAHQAaQCLAGgAhQBsAIMAgAAuAA==",
          "dtype": "i2"
         },
         "yaxis": "y2"
        },
        {
         "hovertemplate": "Platform: %{x}<br>Avg Engagement: %{y:.0f}<extra></extra>",
         "marker": {
          "color": {
           "bdata": "G98Mrd1ndUB/AvYnYL94QNBRgS+uHlNAPzTWh8aWf0DEw8PDw3thQCqF9DVPJXNA",
           "dtype": "f8"
          },
          "colorbar": {
           "title": {
            "text": "Avg Engagement"
           },
           "x": 0.48
          },
          "colorscale": [
           [
            0,
            "#440154"
           ],
           [
            0.1111111111111111,
            "#482878"
           ],
           [
            0.2222222222222222,
            "#3e4989"
           ],
           [
            0.3333333333333333,
            "#31688e"
           ],
           [
            0.4444444444444444,
            "#26828e"
           ],
           [
            0.5555555555555556,
            "#1f9e89"
           ],
           [
            0.6666666666666666,
            "#35b779"
           ],
           [
            0.7777777777777778,
            "#6ece58"
           ],
           [
            0.8888888888888888,
            "#b5de2b"
           ],
           [
            1,
            "#fde725"
           ]
          ],
          "showscale": true
         },
         "name": "Avg Engagement",
         "text": [
          "342",
          "396",
          "76",
          "505",
          "140",
          "306"
         ],
         "textposition": "outside",
         "type": "bar",
         "x": [
          "Facebook",
          "Instagram",
          "LinkedIn",
          "TikTok",
          "Twitter",
          "YouTube"
         ],
         "xaxis": "x2",
         "y": {
          "bdata": "G98Mrd1ndUB/AvYnYL94QNBRgS+uHlNAPzTWh8aWf0DEw8PDw3thQCqF9DVPJXNA",
          "dtype": "f8"
         },
         "yaxis": "y3"
        },
        {
         "hovertemplate": "Positive<br>Time: %{x}<br>Count: %{y}<extra></extra>",
         "line": {
          "color": "green",
          "width": 2
         },
         "mode": "lines+markers",
         "name": "Positive Sentiment",
         "type": "scatter",
         "x": [
          "2025-08-27T03:00:00.000000000",
          "2025-08-27T03:30:00.000000000",
          "2025-08-27T04:00:00.000000000",
          "2025-08-27T04:30:00.000000000",
          "2025-08-27T05:00:00.000000000",
          "2025-08-27T05:30:00.000000000",
          "2025-08-27T06:00:00.000000000",
          "2025-08-27T06:30:00.000000000",
          "2025-08-27T07:00:00.000000000",
          "2025-08-27T07:30:00.000000000",
          "2025-08-27T08:00:00.000000000"
         ],
         "xaxis": "x3",
         "y": {
          "bdata": "KTI6MUU1RTZKPxc=",
          "dtype": "i1"
         },
         "yaxis": "y4"
        },
        {
         "hovertemplate": "Neutral<br>Time: %{x}<br>Count: %{y}<extra></extra>",
         "line": {
          "color": "blue",
          "width": 2
         },
         "mode": "lines+markers",
         "name": "Neutral Sentiment",
         "type": "scatter",
         "x": [
          "2025-08-27T03:00:00.000000000",
          "2025-08-27T03:30:00.000000000",
          "2025-08-27T04:00:00.000000000",
          "2025-08-27T04:30:00.000000000",
          "2025-08-27T05:00:00.000000000",
          "2025-08-27T05:30:00.000000000",
          "2025-08-27T06:00:00.000000000",
          "2025-08-27T06:30:00.000000000",
          "2025-08-27T07:00:00.000000000",
          "2025-08-27T07:30:00.000000000",
          "2025-08-27T08:00:00.000000000"
         ],
         "xaxis": "x3",
         "y": {
          "bdata": "GB8aFScaIBweIQ4=",
          "dtype": "i1"
         },
         "yaxis": "y4"
        },
        {
         "hovertemplate": "Negative<br>Time: %{x}<br>Count: %{y}<extra></extra>",
         "line": {
          "color": "red",
          "width": 2
         },
         "mode": "lines+markers",
         "name": "Negative Sentiment",
         "type": "scatter",
         "x": [
          "2025-08-27T03:00:00.000000000",
          "2025-08-27T03:30:00.000000000",
          "2025-08-27T04:00:00.000000000",
          "2025-08-27T04:30:00.000000000",
          "2025-08-27T05:00:00.000000000",
          "2025-08-27T05:30:00.000000000",
          "2025-08-27T06:00:00.000000000",
          "2025-08-27T06:30:00.000000000",
          "2025-08-27T07:00:00.000000000",
          "2025-08-27T07:30:00.000000000",
          "2025-08-27T08:00:00.000000000"
         ],
         "xaxis": "x3",
         "y": {
          "bdata": "FBkgIx8ZIBobIAk=",
          "dtype": "i1"
         },
         "yaxis": "y4"
        },
        {
         "hovertemplate": "Time: %{x}<br>Sentiment: %{y:.3f}<extra></extra>",
         "line": {
          "color": "purple",
          "dash": "dash",
          "width": 3
         },
         "mode": "lines",
         "name": "Avg Sentiment Score",
         "type": "scatter",
         "x": [
          "2025-08-27T03:00:00.000000000",
          "2025-08-27T03:30:00.000000000",
          "2025-08-27T04:00:00.000000000",
          "2025-08-27T04:30:00.000000000",
          "2025-08-27T05:00:00.000000000",
          "2025-08-27T05:30:00.000000000",
          "2025-08-27T06:00:00.000000000",
          "2025-08-27T06:30:00.000000000",
          "2025-08-27T07:00:00.000000000",
          "2025-08-27T07:30:00.000000000",
          "2025-08-27T08:00:00.000000000"
         ],
         "xaxis": "x3",
         "y": {
          "bdata": "MwQQRe7VvD8XV/Wf9+2zP238irYDnLY/suvmCwX+rD987qOKPrO8P7eivP2Wm7s/II6OEXQ7vj/hEytnKJm7P21/GGc9jr8/Xt59kNipuT/qmChPWWO5Pw==",
          "dtype": "f8"
         },
         "yaxis": "y5"
        },
        {
         "hovertemplate": "Regular Post<br>Reach: %{x:,.0f}<br>Engagement: %{y:,.0f}<extra></extra>",
         "marker": {
          "color": "lightblue",
          "opacity": 0.6,
          "size": 6
         },
         "mode": "markers",
         "name": "Regular Posts",
         "type": "scatter",
         "x": {
          "bdata": "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",
          "dtype": "f8"
         },
         "xaxis": "x4",
         "y": {
          "bdata": "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",
          "dtype": "i2"
         },
         "yaxis": "y6"
        },
        {
         "customdata": [
          [
           "TikTok"
          ],
          [
           "YouTube"
          ],
          [
           "Twitter"
          ],
          [
           "YouTube"
          ],
          [
           "Facebook"
          ],
          [
           "TikTok"
          ],
          [
           "Facebook"
          ],
          [
           "LinkedIn"
          ],
          [
           "Twitter"
          ],
          [
           "Facebook"
          ],
          [
           "LinkedIn"
          ],
          [
           "YouTube"
          ],
          [
           "YouTube"
          ],
          [
           "Twitter"
          ],
          [
           "Instagram"
          ],
          [
           "Facebook"
          ],
          [
           "Instagram"
          ],
          [
           "Instagram"
          ],
          [
           "LinkedIn"
          ],
          [
           "TikTok"
          ],
          [
           "Instagram"
          ],
          [
           "Facebook"
          ],
          [
           "LinkedIn"
          ],
          [
           "TikTok"
          ],
          [
           "YouTube"
          ],
          [
           "Facebook"
          ],
          [
           "YouTube"
          ],
          [
           "YouTube"
          ],
          [
           "TikTok"
          ],
          [
           "YouTube"
          ],
          [
           "Instagram"
          ],
          [
           "Instagram"
          ],
          [
           "Twitter"
          ],
          [
           "Facebook"
          ],
          [
           "YouTube"
          ],
          [
           "TikTok"
          ],
          [
           "YouTube"
          ],
          [
           "Facebook"
          ],
          [
           "Twitter"
          ],
          [
           "Facebook"
          ],
          [
           "Twitter"
          ],
          [
           "YouTube"
          ],
          [
           "TikTok"
          ],
          [
           "Facebook"
          ],
          [
           "Twitter"
          ],
          [
           "Twitter"
          ],
          [
           "TikTok"
          ],
          [
           "Twitter"
          ],
          [
           "YouTube"
          ],
          [
           "Instagram"
          ],
          [
           "Twitter"
          ],
          [
           "Twitter"
          ],
          [
           "Facebook"
          ],
          [
           "Facebook"
          ],
          [
           "YouTube"
          ],
          [
           "Instagram"
          ],
          [
           "YouTube"
          ],
          [
           "Twitter"
          ],
          [
           "TikTok"
          ],
          [
           "Instagram"
          ]
         ],
         "hovertemplate": "Viral Post!<br>Platform: %{customdata[0]}<br>Reach: %{x:,.0f}<br>Engagement: %{y:,.0f}<extra></extra>",
         "marker": {
          "color": "red",
          "line": {
           "color": "darkred",
           "width": 2
          },
          "size": 12,
          "symbol": "star"
         },
         "mode": "markers",
         "name": "Viral Posts",
         "type": "scatter",
         "x": {
          "bdata": "yyC3wZQBC0GdUWQH+hsDQZXHpkcvLO5ArMQvUNazE0E2Jp2EH9sMQZAO3daRHBNB5feoQ5xbAEHsgf0WgETjQINZ8eoObQJB2jB5C/ShEEHe6UDI64jxQBWAPK4vh+1AQ5FCPEeaAEGBwyZqigLsQOQYXLbgGfxAIF2z1SzAFUFTRlwwv5UBQYoX4zYhAyBBHeWgs5vg1kC4TzD+PR0dQfwC0Jqs4wFBsm9qCJI+C0EJj2ZJ5mvQQPxUdV5vdQJBpXx2Af9jCEE8LIt4MAD7QIoX6gZFoRBBPubN2E108kCUCc03phsPQc+3ufSDewxB82ccKer7BkE1osD6dkbzQNt5Lr+Z1/hAJr1iSZ2ZA0EHofUi93vjQKfE6xwbi/9AeLw4ViL88UCZu84w0cfGQBQifBo4EtpAYZBzER2S90DRLwTJT/bTQBCD7+9yrvNAEHXvrriUAkEgOXlb6qEFQezwvO4e2OxA+jM5EfoI1UCfBttEyETVQBIX2GSTHNlA4/zVjR1PBUFMDMnxarUDQervqR/tlelABWKgVN225EBMC89kLuYBQeCSS6R7/gpB0XgBGTMyA0E21YWsasUIQUKO7Y7gIdpAdYz/uYmcxEByBqnOwSL0QLisNqagQgZB",
          "dtype": "f8"
         },
         "xaxis": "x4",
         "y": {
          "bdata": "5Q+1CAIDuhHOGTMWXwX2AtcI+AuFA48D1gXfAyMMIhDSEccdjwQqGkIT2g/TArgVcA/IDA8PYQ1lDO8KDwoBBfsE3QfLA6AFSwU8BEQByANbBDwEFBFQCF0DyQGPA8IBmwccDmkCfAIpCQwLnAaFCmwDLQMHByoT",
          "dtype": "i2"
         },
         "yaxis": "y6"
        },
        {
         "customdata": {
          "bdata": "yADOAL4AvwDKANQA",
          "dtype": "i2"
         },
         "hovertemplate": "Hashtag: %{y}<br>Total Engagement: %{x:,.0f}<br>Posts: %{customdata}<extra></extra>",
         "marker": {
          "color": {
           "bdata": "broAAFfFAACW3AAA+OkAAI72AADmJgEA",
           "dtype": "i4"
          },
          "colorbar": {
           "title": {
            "text": "Total Engagement"
           },
           "x": 1.02
          },
          "colorscale": [
           [
            0,
            "#0d0887"
           ],
           [
            0.1111111111111111,
            "#46039f"
           ],
           [
            0.2222222222222222,
            "#7201a8"
           ],
           [
            0.3333333333333333,
            "#9c179e"
           ],
           [
            0.4444444444444444,
            "#bd3786"
           ],
           [
            0.5555555555555556,
            "#d8576b"
           ],
           [
            0.6666666666666666,
            "#ed7953"
           ],
           [
            0.7777777777777778,
            "#fb9f3a"
           ],
           [
            0.8888888888888888,
            "#fdca26"
           ],
           [
            1,
            "#f0f921"
           ]
          ],
          "showscale": true
         },
         "name": "Hashtag Performance",
         "orientation": "h",
         "text": [
          "47,726",
          "50,519",
          "56,470",
          "59,896",
          "63,118",
          "75,494"
         ],
         "textposition": "outside",
         "type": "bar",
         "x": {
          "bdata": "broAAFfFAACW3AAA+OkAAI72AADmJgEA",
          "dtype": "i4"
         },
         "xaxis": "x5",
         "y": [
          "#Tech",
          "#Business",
          "#DataScience",
          "#Innovation",
          "#AI",
          "#Marketing"
         ],
         "yaxis": "y7"
        },
        {
         "hovertemplate": "Engagement Rate: %{x:.2f}%<br>Count: %{y}<extra></extra>",
         "marker": {
          "color": "lightgreen",
          "opacity": 0.7
         },
         "name": "Engagement Rate Distribution",
         "nbinsx": 30,
         "type": "histogram",
         "x": {
          "bdata": "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",
          "dtype": "f8"
         },
         "xaxis": "x6",
         "yaxis": "y8"
        }
       ],
       "layout": {
        "annotations": [
         {
          "font": {
           "size": 16
          },
          "showarrow": false,
          "text": "A. Real-time Engagement Trends",
          "x": 0.205,
          "xanchor": "center",
          "xref": "paper",
          "y": 0.9999999999999999,
          "yanchor": "bottom",
          "yref": "paper"
         },
         {
          "font": {
           "size": 16
          },
          "showarrow": false,
          "text": "B. Platform Performance Comparison",
          "x": 0.735,
          "xanchor": "center",
          "xref": "paper",
          "y": 0.9999999999999999,
          "yanchor": "bottom",
          "yref": "paper"
         },
         {
          "font": {
           "size": 16
          },
          "showarrow": false,
          "text": "C. Sentiment Analysis Over Time",
          "x": 0.205,
          "xanchor": "center",
          "xref": "paper",
          "y": 0.6166666666666666,
          "yanchor": "bottom",
          "yref": "paper"
         },
         {
          "font": {
           "size": 16
          },
          "showarrow": false,
          "text": "D. Viral Content Detection",
          "x": 0.735,
          "xanchor": "center",
          "xref": "paper",
          "y": 0.6166666666666666,
          "yanchor": "bottom",
          "yref": "paper"
         },
         {
          "font": {
           "size": 16
          },
          "showarrow": false,
          "text": "E. Hashtag Performance Ranking",
          "x": 0.205,
          "xanchor": "center",
          "xref": "paper",
          "y": 0.2333333333333333,
          "yanchor": "bottom",
          "yref": "paper"
         },
         {
          "font": {
           "size": 16
          },
          "showarrow": false,
          "text": "F. Engagement Rate Distribution",
          "x": 0.735,
          "xanchor": "center",
          "xref": "paper",
          "y": 0.2333333333333333,
          "yanchor": "bottom",
          "yref": "paper"
         },
         {
          "showarrow": false,
          "text": "Median: 1.86%",
          "x": 1.8600792425713522,
          "xanchor": "left",
          "xref": "x6",
          "y": 1,
          "yanchor": "top",
          "yref": "y8 domain"
         }
        ],
        "height": 1400,
        "shapes": [
         {
          "line": {
           "color": "red",
           "dash": "dash"
          },
          "type": "line",
          "x0": 1.8600792425713522,
          "x1": 1.8600792425713522,
          "xref": "x6",
          "y0": 0,
          "y1": 1,
          "yref": "y8 domain"
         }
        ],
        "showlegend": true,
        "template": {
         "data": {
          "bar": [
           {
            "error_x": {
             "color": "#2a3f5f"
            },
            "error_y": {
             "color": "#2a3f5f"
            },
            "marker": {
             "line": {
              "color": "white",
              "width": 0.5
             },
             "pattern": {
              "fillmode": "overlay",
              "size": 10,
              "solidity": 0.2
             }
            },
            "type": "bar"
           }
          ],
          "barpolar": [
           {
            "marker": {
             "line": {
              "color": "white",
              "width": 0.5
             },
             "pattern": {
              "fillmode": "overlay",
              "size": 10,
              "solidity": 0.2
             }
            },
            "type": "barpolar"
           }
          ],
          "carpet": [
           {
            "aaxis": {
             "endlinecolor": "#2a3f5f",
             "gridcolor": "#C8D4E3",
             "linecolor": "#C8D4E3",
             "minorgridcolor": "#C8D4E3",
             "startlinecolor": "#2a3f5f"
            },
            "baxis": {
             "endlinecolor": "#2a3f5f",
             "gridcolor": "#C8D4E3",
             "linecolor": "#C8D4E3",
             "minorgridcolor": "#C8D4E3",
             "startlinecolor": "#2a3f5f"
            },
            "type": "carpet"
           }
          ],
          "choropleth": [
           {
            "colorbar": {
             "outlinewidth": 0,
             "ticks": ""
            },
            "type": "choropleth"
           }
          ],
          "contour": [
           {
            "colorbar": {
             "outlinewidth": 0,
             "ticks": ""
            },
            "colorscale": [
             [
              0,
              "#0d0887"
             ],
             [
              0.1111111111111111,
              "#46039f"
             ],
             [
              0.2222222222222222,
              "#7201a8"
             ],
             [
              0.3333333333333333,
              "#9c179e"
             ],
             [
              0.4444444444444444,
              "#bd3786"
             ],
             [
              0.5555555555555556,
              "#d8576b"
             ],
             [
              0.6666666666666666,
              "#ed7953"
             ],
             [
              0.7777777777777778,
              "#fb9f3a"
             ],
             [
              0.8888888888888888,
              "#fdca26"
             ],
             [
              1,
              "#f0f921"
             ]
            ],
            "type": "contour"
           }
          ],
          "contourcarpet": [
           {
            "colorbar": {
             "outlinewidth": 0,
             "ticks": ""
            },
            "type": "contourcarpet"
           }
          ],
          "heatmap": [
           {
            "colorbar": {
             "outlinewidth": 0,
             "ticks": ""
            },
            "colorscale": [
             [
              0,
              "#0d0887"
             ],
             [
              0.1111111111111111,
              "#46039f"
             ],
             [
              0.2222222222222222,
              "#7201a8"
             ],
             [
              0.3333333333333333,
              "#9c179e"
             ],
             [
              0.4444444444444444,
              "#bd3786"
             ],
             [
              0.5555555555555556,
              "#d8576b"
             ],
             [
              0.6666666666666666,
              "#ed7953"
             ],
             [
              0.7777777777777778,
              "#fb9f3a"
             ],
             [
              0.8888888888888888,
              "#fdca26"
             ],
             [
              1,
              "#f0f921"
             ]
            ],
            "type": "heatmap"
           }
          ],
          "histogram": [
           {
            "marker": {
             "pattern": {
              "fillmode": "overlay",
              "size": 10,
              "solidity": 0.2
             }
            },
            "type": "histogram"
           }
          ],
          "histogram2d": [
           {
            "colorbar": {
             "outlinewidth": 0,
             "ticks": ""
            },
            "colorscale": [
             [
              0,
              "#0d0887"
             ],
             [
              0.1111111111111111,
              "#46039f"
             ],
             [
              0.2222222222222222,
              "#7201a8"
             ],
             [
              0.3333333333333333,
              "#9c179e"
             ],
             [
              0.4444444444444444,
              "#bd3786"
             ],
             [
              0.5555555555555556,
              "#d8576b"
             ],
             [
              0.6666666666666666,
              "#ed7953"
             ],
             [
              0.7777777777777778,
              "#fb9f3a"
             ],
             [
              0.8888888888888888,
              "#fdca26"
             ],
             [
              1,
              "#f0f921"
             ]
            ],
            "type": "histogram2d"
           }
          ],
          "histogram2dcontour": [
           {
            "colorbar": {
             "outlinewidth": 0,
             "ticks": ""
            },
            "colorscale": [
             [
              0,
              "#0d0887"
             ],
             [
              0.1111111111111111,
              "#46039f"
             ],
             [
              0.2222222222222222,
              "#7201a8"
             ],
             [
              0.3333333333333333,
              "#9c179e"
             ],
             [
              0.4444444444444444,
              "#bd3786"
             ],
             [
              0.5555555555555556,
              "#d8576b"
             ],
             [
              0.6666666666666666,
              "#ed7953"
             ],
             [
              0.7777777777777778,
              "#fb9f3a"
             ],
             [
              0.8888888888888888,
              "#fdca26"
             ],
             [
              1,
              "#f0f921"
             ]
            ],
            "type": "histogram2dcontour"
           }
          ],
          "mesh3d": [
           {
            "colorbar": {
             "outlinewidth": 0,
             "ticks": ""
            },
            "type": "mesh3d"
           }
          ],
          "parcoords": [
           {
            "line": {
             "colorbar": {
              "outlinewidth": 0,
              "ticks": ""
             }
            },
            "type": "parcoords"
           }
          ],
          "pie": [
           {
            "automargin": true,
            "type": "pie"
           }
          ],
          "scatter": [
           {
            "fillpattern": {
             "fillmode": "overlay",
             "size": 10,
             "solidity": 0.2
            },
            "type": "scatter"
           }
          ],
          "scatter3d": [
           {
            "line": {
             "colorbar": {
              "outlinewidth": 0,
              "ticks": ""
             }
            },
            "marker": {
             "colorbar": {
              "outlinewidth": 0,
              "ticks": ""
             }
            },
            "type": "scatter3d"
           }
          ],
          "scattercarpet": [
           {
            "marker": {
             "colorbar": {
              "outlinewidth": 0,
              "ticks": ""
             }
            },
            "type": "scattercarpet"
           }
          ],
          "scattergeo": [
           {
            "marker": {
             "colorbar": {
              "outlinewidth": 0,
              "ticks": ""
             }
            },
            "type": "scattergeo"
           }
          ],
          "scattergl": [
           {
            "marker": {
             "colorbar": {
              "outlinewidth": 0,
              "ticks": ""
             }
            },
            "type": "scattergl"
           }
          ],
          "scattermap": [
           {
            "marker": {
             "colorbar": {
              "outlinewidth": 0,
              "ticks": ""
             }
            },
            "type": "scattermap"
           }
          ],
          "scattermapbox": [
           {
            "marker": {
             "colorbar": {
              "outlinewidth": 0,
              "ticks": ""
             }
            },
            "type": "scattermapbox"
           }
          ],
          "scatterpolar": [
           {
            "marker": {
             "colorbar": {
              "outlinewidth": 0,
              "ticks": ""
             }
            },
            "type": "scatterpolar"
           }
          ],
          "scatterpolargl": [
           {
            "marker": {
             "colorbar": {
              "outlinewidth": 0,
              "ticks": ""
             }
            },
            "type": "scatterpolargl"
           }
          ],
          "scatterternary": [
           {
            "marker": {
             "colorbar": {
              "outlinewidth": 0,
              "ticks": ""
             }
            },
            "type": "scatterternary"
           }
          ],
          "surface": [
           {
            "colorbar": {
             "outlinewidth": 0,
             "ticks": ""
            },
            "colorscale": [
             [
              0,
              "#0d0887"
             ],
             [
              0.1111111111111111,
              "#46039f"
             ],
             [
              0.2222222222222222,
              "#7201a8"
             ],
             [
              0.3333333333333333,
              "#9c179e"
             ],
             [
              0.4444444444444444,
              "#bd3786"
             ],
             [
              0.5555555555555556,
              "#d8576b"
             ],
             [
              0.6666666666666666,
              "#ed7953"
             ],
             [
              0.7777777777777778,
              "#fb9f3a"
             ],
             [
              0.8888888888888888,
              "#fdca26"
             ],
             [
              1,
              "#f0f921"
             ]
            ],
            "type": "surface"
           }
          ],
          "table": [
           {
            "cells": {
             "fill": {
              "color": "#EBF0F8"
             },
             "line": {
              "color": "white"
             }
            },
            "header": {
             "fill": {
              "color": "#C8D4E3"
             },
             "line": {
              "color": "white"
             }
            },
            "type": "table"
           }
          ]
         },
         "layout": {
          "annotationdefaults": {
           "arrowcolor": "#2a3f5f",
           "arrowhead": 0,
           "arrowwidth": 1
          },
          "autotypenumbers": "strict",
          "coloraxis": {
           "colorbar": {
            "outlinewidth": 0,
            "ticks": ""
           }
          },
          "colorscale": {
           "diverging": [
            [
             0,
             "#8e0152"
            ],
            [
             0.1,
             "#c51b7d"
            ],
            [
             0.2,
             "#de77ae"
            ],
            [
             0.3,
             "#f1b6da"
            ],
            [
             0.4,
             "#fde0ef"
            ],
            [
             0.5,
             "#f7f7f7"
            ],
            [
             0.6,
             "#e6f5d0"
            ],
            [
             0.7,
             "#b8e186"
            ],
            [
             0.8,
             "#7fbc41"
            ],
            [
             0.9,
             "#4d9221"
            ],
            [
             1,
             "#276419"
            ]
           ],
           "sequential": [
            [
             0,
             "#0d0887"
            ],
            [
             0.1111111111111111,
             "#46039f"
            ],
            [
             0.2222222222222222,
             "#7201a8"
            ],
            [
             0.3333333333333333,
             "#9c179e"
            ],
            [
             0.4444444444444444,
             "#bd3786"
            ],
            [
             0.5555555555555556,
             "#d8576b"
            ],
            [
             0.6666666666666666,
             "#ed7953"
            ],
            [
             0.7777777777777778,
             "#fb9f3a"
            ],
            [
             0.8888888888888888,
             "#fdca26"
            ],
            [
             1,
             "#f0f921"
            ]
           ],
           "sequentialminus": [
            [
             0,
             "#0d0887"
            ],
            [
             0.1111111111111111,
             "#46039f"
            ],
            [
             0.2222222222222222,
             "#7201a8"
            ],
            [
             0.3333333333333333,
             "#9c179e"
            ],
            [
             0.4444444444444444,
             "#bd3786"
            ],
            [
             0.5555555555555556,
             "#d8576b"
            ],
            [
             0.6666666666666666,
             "#ed7953"
            ],
            [
             0.7777777777777778,
             "#fb9f3a"
            ],
            [
             0.8888888888888888,
             "#fdca26"
            ],
            [
             1,
             "#f0f921"
            ]
           ]
          },
          "colorway": [
           "#636efa",
           "#EF553B",
           "#00cc96",
           "#ab63fa",
           "#FFA15A",
           "#19d3f3",
           "#FF6692",
           "#B6E880",
           "#FF97FF",
           "#FECB52"
          ],
          "font": {
           "color": "#2a3f5f"
          },
          "geo": {
           "bgcolor": "white",
           "lakecolor": "white",
           "landcolor": "white",
           "showlakes": true,
           "showland": true,
           "subunitcolor": "#C8D4E3"
          },
          "hoverlabel": {
           "align": "left"
          },
          "hovermode": "closest",
          "mapbox": {
           "style": "light"
          },
          "paper_bgcolor": "white",
          "plot_bgcolor": "white",
          "polar": {
           "angularaxis": {
            "gridcolor": "#EBF0F8",
            "linecolor": "#EBF0F8",
            "ticks": ""
           },
           "bgcolor": "white",
           "radialaxis": {
            "gridcolor": "#EBF0F8",
            "linecolor": "#EBF0F8",
            "ticks": ""
           }
          },
          "scene": {
           "xaxis": {
            "backgroundcolor": "white",
            "gridcolor": "#DFE8F3",
            "gridwidth": 2,
            "linecolor": "#EBF0F8",
            "showbackground": true,
            "ticks": "",
            "zerolinecolor": "#EBF0F8"
           },
           "yaxis": {
            "backgroundcolor": "white",
            "gridcolor": "#DFE8F3",
            "gridwidth": 2,
            "linecolor": "#EBF0F8",
            "showbackground": true,
            "ticks": "",
            "zerolinecolor": "#EBF0F8"
           },
           "zaxis": {
            "backgroundcolor": "white",
            "gridcolor": "#DFE8F3",
            "gridwidth": 2,
            "linecolor": "#EBF0F8",
            "showbackground": true,
            "ticks": "",
            "zerolinecolor": "#EBF0F8"
           }
          },
          "shapedefaults": {
           "line": {
            "color": "#2a3f5f"
           }
          },
          "ternary": {
           "aaxis": {
            "gridcolor": "#DFE8F3",
            "linecolor": "#A2B1C6",
            "ticks": ""
           },
           "baxis": {
            "gridcolor": "#DFE8F3",
            "linecolor": "#A2B1C6",
            "ticks": ""
           },
           "bgcolor": "white",
           "caxis": {
            "gridcolor": "#DFE8F3",
            "linecolor": "#A2B1C6",
            "ticks": ""
           }
          },
          "title": {
           "x": 0.05
          },
          "xaxis": {
           "automargin": true,
           "gridcolor": "#EBF0F8",
           "linecolor": "#EBF0F8",
           "ticks": "",
           "title": {
            "standoff": 15
           },
           "zerolinecolor": "#EBF0F8",
           "zerolinewidth": 2
          },
          "yaxis": {
           "automargin": true,
           "gridcolor": "#EBF0F8",
           "linecolor": "#EBF0F8",
           "ticks": "",
           "title": {
            "standoff": 15
           },
           "zerolinecolor": "#EBF0F8",
           "zerolinewidth": 2
          }
         }
        },
        "title": {
         "font": {
          "size": 20
         },
         "text": "📱 Real-time Social Media Analytics Dashboard<br><sub>Live monitoring of engagement, sentiment, and viral content</sub>",
         "x": 0.5,
         "xanchor": "center"
        },
        "xaxis": {
         "anchor": "y",
         "domain": [
          0,
          0.41
         ],
         "title": {
          "text": "Time"
         }
        },
        "xaxis2": {
         "anchor": "y3",
         "domain": [
          0.53,
          0.94
         ],
         "title": {
          "text": "Platform"
         }
        },
        "xaxis3": {
         "anchor": "y4",
         "domain": [
          0,
          0.41
         ],
         "title": {
          "text": "Time"
         }
        },
        "xaxis4": {
         "anchor": "y6",
         "domain": [
          0.53,
          0.94
         ],
         "title": {
          "text": "Reach"
         }
        },
        "xaxis5": {
         "anchor": "y7",
         "domain": [
          0,
          0.41
         ],
         "title": {
          "text": "Total Engagement"
         }
        },
        "xaxis6": {
         "anchor": "y8",
         "domain": [
          0.53,
          0.94
         ],
         "title": {
          "text": "Engagement Rate (%)"
         }
        },
        "yaxis": {
         "anchor": "x",
         "domain": [
          0.7666666666666666,
          0.9999999999999999
         ],
         "title": {
          "text": "Total Engagement"
         }
        },
        "yaxis2": {
         "anchor": "x",
         "overlaying": "y",
         "side": "right",
         "title": {
          "text": "Posts Count"
         }
        },
        "yaxis3": {
         "anchor": "x2",
         "domain": [
          0.7666666666666666,
          0.9999999999999999
         ],
         "title": {
          "text": "Average Engagement"
         }
        },
        "yaxis4": {
         "anchor": "x3",
         "domain": [
          0.3833333333333333,
          0.6166666666666666
         ],
         "title": {
          "text": "Sentiment Count"
         }
        },
        "yaxis5": {
         "anchor": "x3",
         "overlaying": "y4",
         "side": "right",
         "title": {
          "text": "Sentiment Score"
         }
        },
        "yaxis6": {
         "anchor": "x4",
         "domain": [
          0.3833333333333333,
          0.6166666666666666
         ],
         "title": {
          "text": "Total Engagement"
         }
        },
        "yaxis7": {
         "anchor": "x5",
         "domain": [
          0,
          0.2333333333333333
         ],
         "title": {
          "text": "Hashtag"
         }
        },
        "yaxis8": {
         "anchor": "x6",
         "domain": [
          0,
          0.2333333333333333
         ],
         "title": {
          "text": "Frequency"
         }
        }
       }
      }
     },
     "metadata": {},
     "output_type": "display_data"
    },
    {
     "name": "stdout",
     "output_type": "stream",
     "text": [
      "\n",
      "📱 SOCIAL MEDIA ANALYTICS SUMMARY:\n",
      "==========================================\n",
      "📊 Content Analysis:\n",
      "   📱 Total Posts Analyzed: 1,201\n",
      "   🌐 Platforms Monitored: 6\n",
      "   📝 Content Types: 6\n",
      "   ⏱️  Monitoring Period: 5.0 hours\n",
      "\n",
      "🔥 Viral Content Detection:\n",
      "   🚀 Viral Posts: 60\n",
      "   📈 Viral Rate: 5.00%\n",
      "   🏆 Top Viral Platform: YouTube\n",
      "\n",
      "💭 Sentiment Analysis:\n",
      "   😊 Positive: 603 posts (50.2%)\n",
      "   😐 Neutral: 304 posts (25.3%)\n",
      "   😞 Negative: 294 posts (24.5%)\n",
      "\n",
      "🏆 Top Performing Platform:\n",
      "   🥇 TikTok: 505 avg engagement\n",
      "   📊 Engagement Rate: 2.83%\n",
      "\n",
      "#️⃣ Hashtag Champions:\n",
      "   🥇 #Marketing: 75,494 total engagement\n",
      "   🥈 #AI: 63,118 total engagement\n",
      "   🥉 #Innovation: 59,896 total engagement\n",
      "\n",
      "📈 Real-time Social Features:\n",
      "   📊 Live engagement tracking\n",
      "   💭 Real-time sentiment analysis\n",
      "   🔥 Viral content detection\n",
      "   📱 Multi-platform monitoring\n",
      "   #️⃣ Hashtag performance tracking\n",
      "\n",
      "✅ Social Media Analytics Complete!\n",
      "🎨 Ready for social media management and marketing teams!\n"
     ]
    }
   ],
   "source": [
    "# 📱 Real-time Social Media Analytics Dashboard\n",
    "# Monitor social media engagement and sentiment in real-time\n",
    "\n",
    "print(\"\\n📱 Creating Real-time Social Media Analytics Dashboard\")\n",
    "print(\"=\" * 55)\n",
    "\n",
    "def create_social_media_analytics_dashboard():\n",
    "    \"\"\"\n",
    "    Create comprehensive real-time social media monitoring dashboard\n",
    "    \"\"\"\n",
    "    \n",
    "    print(\"📊 Simulating Social Media Data Stream...\")\n",
    "    \n",
    "    # Social media platforms and content types\n",
    "    platforms = ['Twitter', 'Instagram', 'Facebook', 'LinkedIn', 'TikTok', 'YouTube']\n",
    "    content_types = ['Post', 'Story', 'Video', 'Image', 'Article', 'Live']\n",
    "    hashtags = ['#AI', '#DataScience', '#Tech', '#Innovation', '#Marketing', '#Business']\n",
    "    \n",
    "    # Generate streaming social media data\n",
    "    social_data = []\n",
    "    base_time = pd.Timestamp.now()\n",
    "    \n",
    "    for i in range(300):  # 300 data points\n",
    "        timestamp = base_time + pd.Timedelta(minutes=i)\n",
    "        \n",
    "        # Generate multiple posts per time interval\n",
    "        posts_this_interval = np.random.poisson(3) + 1  # 1-6 posts per interval\n",
    "        \n",
    "        for j in range(posts_this_interval):\n",
    "            platform = np.random.choice(platforms)\n",
    "            content_type = np.random.choice(content_types)\n",
    "            hashtag = np.random.choice(hashtags)\n",
    "            \n",
    "            # Generate engagement metrics based on platform and content\n",
    "            base_engagement = {\n",
    "                'Twitter': {'likes': 50, 'shares': 20, 'comments': 15},\n",
    "                'Instagram': {'likes': 150, 'shares': 30, 'comments': 25},\n",
    "                'Facebook': {'likes': 80, 'shares': 40, 'comments': 30},\n",
    "                'LinkedIn': {'likes': 30, 'shares': 15, 'comments': 10},\n",
    "                'TikTok': {'likes': 200, 'shares': 60, 'comments': 40},\n",
    "                'YouTube': {'likes': 100, 'shares': 25, 'comments': 35}\n",
    "            }\n",
    "            \n",
    "            # Add time-based viral effects\n",
    "            viral_multiplier = 1 + np.sin(i/50) * 0.5  # Viral waves\n",
    "            if np.random.random() < 0.05:  # 5% chance of going viral\n",
    "                viral_multiplier *= np.random.uniform(5, 20)\n",
    "            \n",
    "            likes = max(0, int(base_engagement[platform]['likes'] * viral_multiplier * np.random.lognormal(0, 0.5)))\n",
    "            shares = max(0, int(base_engagement[platform]['shares'] * viral_multiplier * np.random.lognormal(0, 0.5)))\n",
    "            comments = max(0, int(base_engagement[platform]['comments'] * viral_multiplier * np.random.lognormal(0, 0.5)))\n",
    "            \n",
    "            # Generate sentiment scores\n",
    "            sentiment_score = np.random.normal(0.1, 0.3)  # Slightly positive bias\n",
    "            if sentiment_score > 0.1:\n",
    "                sentiment_label = 'Positive'\n",
    "            elif sentiment_score < -0.1:\n",
    "                sentiment_label = 'Negative'\n",
    "            else:\n",
    "                sentiment_label = 'Neutral'\n",
    "            \n",
    "            # Calculate engagement rate\n",
    "            total_engagement = likes + shares + comments\n",
    "            reach = total_engagement * np.random.uniform(10, 100)  # Estimated reach\n",
    "            engagement_rate = (total_engagement / reach) * 100 if reach > 0 else 0\n",
    "            \n",
    "            social_data.append({\n",
    "                'timestamp': timestamp,\n",
    "                'platform': platform,\n",
    "                'content_type': content_type,\n",
    "                'hashtag': hashtag,\n",
    "                'likes': likes,\n",
    "                'shares': shares,\n",
    "                'comments': comments,\n",
    "                'total_engagement': total_engagement,\n",
    "                'reach': reach,\n",
    "                'engagement_rate': engagement_rate,\n",
    "                'sentiment_score': sentiment_score,\n",
    "                'sentiment_label': sentiment_label,\n",
    "                'is_viral': viral_multiplier > 2,\n",
    "                'post_id': f\"{platform.lower()}_{i}_{j}\"\n",
    "            })\n",
    "    \n",
    "    social_df = pd.DataFrame(social_data)\n",
    "    \n",
    "    print(f\"   ✅ Generated {len(social_df)} social media posts\")\n",
    "    print(f\"   📱 Platforms: {social_df['platform'].nunique()}\")\n",
    "    print(f\"   📊 Content Types: {social_df['content_type'].nunique()}\")\n",
    "    print(f\"   🔥 Viral Posts: {social_df['is_viral'].sum()}\")\n",
    "    \n",
    "    # Create comprehensive social media dashboard\n",
    "    fig_social = make_subplots(\n",
    "        rows=3, cols=2,\n",
    "        subplot_titles=[\n",
    "            \"A. Real-time Engagement Trends\",\n",
    "            \"B. Platform Performance Comparison\",\n",
    "            \"C. Sentiment Analysis Over Time\",\n",
    "            \"D. Viral Content Detection\",\n",
    "            \"E. Hashtag Performance Ranking\",\n",
    "            \"F. Engagement Rate Distribution\"\n",
    "        ],\n",
    "        specs=[\n",
    "            [{\"secondary_y\": True}, {\"type\": \"bar\"}],\n",
    "            [{\"secondary_y\": True}, {\"type\": \"scatter\"}],\n",
    "            [{\"type\": \"bar\"}, {\"type\": \"histogram\"}]\n",
    "        ],\n",
    "        vertical_spacing=0.15,\n",
    "        horizontal_spacing=0.12\n",
    "    )\n",
    "    \n",
    "    # A. Real-time engagement trends\n",
    "    # Aggregate engagement by time intervals\n",
    "    social_df['hour'] = social_df['timestamp'].dt.floor('30min')  # 30-minute intervals\n",
    "    hourly_engagement = social_df.groupby('hour').agg({\n",
    "        'total_engagement': 'sum',\n",
    "        'reach': 'sum',\n",
    "        'post_id': 'count'\n",
    "    }).reset_index()\n",
    "    hourly_engagement.columns = ['hour', 'total_engagement', 'total_reach', 'post_count']\n",
    "    \n",
    "    # Plot engagement trends\n",
    "    fig_social.add_trace(\n",
    "        go.Scatter(\n",
    "            x=hourly_engagement['hour'],\n",
    "            y=hourly_engagement['total_engagement'],\n",
    "            mode='lines+markers',\n",
    "            name='Total Engagement',\n",
    "            line=dict(color='blue', width=3),\n",
    "            hovertemplate='Time: %{x}<br>Engagement: %{y:,}<extra></extra>'\n",
    "        ),\n",
    "        row=1, col=1\n",
    "    )\n",
    "    \n",
    "    fig_social.add_trace(\n",
    "        go.Scatter(\n",
    "            x=hourly_engagement['hour'],\n",
    "            y=hourly_engagement['post_count'],\n",
    "            mode='lines+markers',\n",
    "            name='Posts Published',\n",
    "            line=dict(color='green', width=2),\n",
    "            yaxis='y2',\n",
    "            hovertemplate='Time: %{x}<br>Posts: %{y}<extra></extra>'\n",
    "        ),\n",
    "        row=1, col=1, secondary_y=True\n",
    "    )\n",
    "    \n",
    "    # B. Platform performance comparison\n",
    "    platform_performance = social_df.groupby('platform').agg({\n",
    "        'total_engagement': 'mean',\n",
    "        'engagement_rate': 'mean',\n",
    "        'reach': 'mean',\n",
    "        'post_id': 'count'\n",
    "    }).reset_index()\n",
    "    platform_performance.columns = ['platform', 'avg_engagement', 'avg_engagement_rate', 'avg_reach', 'post_count']\n",
    "    \n",
    "    fig_social.add_trace(\n",
    "        go.Bar(\n",
    "            x=platform_performance['platform'],\n",
    "            y=platform_performance['avg_engagement'],\n",
    "            name='Avg Engagement',\n",
    "            marker=dict(\n",
    "                color=platform_performance['avg_engagement'],\n",
    "                colorscale='Viridis',\n",
    "                showscale=True,\n",
    "                colorbar=dict(title=\"Avg Engagement\", x=0.48)\n",
    "            ),\n",
    "            text=[f'{v:.0f}' for v in platform_performance['avg_engagement']],\n",
    "            textposition='outside',\n",
    "            hovertemplate='Platform: %{x}<br>Avg Engagement: %{y:.0f}<extra></extra>'\n",
    "        ),\n",
    "        row=1, col=2\n",
    "    )\n",
    "    \n",
    "    # C. Sentiment analysis over time\n",
    "    sentiment_over_time = social_df.groupby(['hour', 'sentiment_label']).size().reset_index(name='count')\n",
    "    sentiment_colors = {'Positive': 'green', 'Neutral': 'blue', 'Negative': 'red'}\n",
    "    \n",
    "    for sentiment in ['Positive', 'Neutral', 'Negative']:\n",
    "        sentiment_data = sentiment_over_time[sentiment_over_time['sentiment_label'] == sentiment]\n",
    "        \n",
    "        fig_social.add_trace(\n",
    "            go.Scatter(\n",
    "                x=sentiment_data['hour'],\n",
    "                y=sentiment_data['count'],\n",
    "                mode='lines+markers',\n",
    "                name=f'{sentiment} Sentiment',\n",
    "                line=dict(color=sentiment_colors[sentiment], width=2),\n",
    "                hovertemplate=f'{sentiment}<br>Time: %{{x}}<br>Count: %{{y}}<extra></extra>'\n",
    "            ),\n",
    "            row=2, col=1\n",
    "        )\n",
    "    \n",
    "    # Add sentiment score on secondary axis\n",
    "    hourly_sentiment = social_df.groupby('hour')['sentiment_score'].mean().reset_index()\n",
    "    \n",
    "    fig_social.add_trace(\n",
    "        go.Scatter(\n",
    "            x=hourly_sentiment['hour'],\n",
    "            y=hourly_sentiment['sentiment_score'],\n",
    "            mode='lines',\n",
    "            name='Avg Sentiment Score',\n",
    "            line=dict(color='purple', width=3, dash='dash'),\n",
    "            yaxis='y2',\n",
    "            hovertemplate='Time: %{x}<br>Sentiment: %{y:.3f}<extra></extra>'\n",
    "        ),\n",
    "        row=2, col=1, secondary_y=True\n",
    "    )\n",
    "    \n",
    "    # D. Viral content detection\n",
    "    viral_posts = social_df[social_df['is_viral'] == True]\n",
    "    regular_posts = social_df[social_df['is_viral'] == False]\n",
    "    \n",
    "    # Plot viral vs regular content\n",
    "    fig_social.add_trace(\n",
    "        go.Scatter(\n",
    "            x=regular_posts['reach'],\n",
    "            y=regular_posts['total_engagement'],\n",
    "            mode='markers',\n",
    "            name='Regular Posts',\n",
    "            marker=dict(size=6, color='lightblue', opacity=0.6),\n",
    "            hovertemplate='Regular Post<br>Reach: %{x:,.0f}<br>Engagement: %{y:,.0f}<extra></extra>'\n",
    "        ),\n",
    "        row=2, col=2\n",
    "    )\n",
    "    \n",
    "    if len(viral_posts) > 0:\n",
    "        fig_social.add_trace(\n",
    "            go.Scatter(\n",
    "                x=viral_posts['reach'],\n",
    "                y=viral_posts['total_engagement'],\n",
    "                mode='markers',\n",
    "                name='Viral Posts',\n",
    "                marker=dict(\n",
    "                    size=12,\n",
    "                    color='red',\n",
    "                    symbol='star',\n",
    "                    line=dict(width=2, color='darkred')\n",
    "                ),\n",
    "                hovertemplate='Viral Post!<br>Platform: %{customdata[0]}<br>Reach: %{x:,.0f}<br>Engagement: %{y:,.0f}<extra></extra>',\n",
    "                customdata=viral_posts[['platform']]\n",
    "            ),\n",
    "            row=2, col=2\n",
    "        )\n",
    "    \n",
    "    # E. Hashtag performance ranking\n",
    "    hashtag_performance = social_df.groupby('hashtag').agg({\n",
    "        'total_engagement': 'sum',\n",
    "        'reach': 'sum',\n",
    "        'post_id': 'count'\n",
    "    }).reset_index()\n",
    "    hashtag_performance = hashtag_performance.sort_values('total_engagement', ascending=True)\n",
    "    \n",
    "    fig_social.add_trace(\n",
    "        go.Bar(\n",
    "            x=hashtag_performance['total_engagement'],\n",
    "            y=hashtag_performance['hashtag'],\n",
    "            orientation='h',\n",
    "            name='Hashtag Performance',\n",
    "            marker=dict(\n",
    "                color=hashtag_performance['total_engagement'],\n",
    "                colorscale='Plasma',\n",
    "                showscale=True,\n",
    "                colorbar=dict(title=\"Total Engagement\", x=1.02)\n",
    "            ),\n",
    "            text=[f'{v:,.0f}' for v in hashtag_performance['total_engagement']],\n",
    "            textposition='outside',\n",
    "            hovertemplate='Hashtag: %{y}<br>Total Engagement: %{x:,.0f}<br>Posts: %{customdata}<extra></extra>',\n",
    "            customdata=hashtag_performance['post_id']\n",
    "        ),\n",
    "        row=3, col=1\n",
    "    )\n",
    "    \n",
    "    # F. Engagement rate distribution\n",
    "    fig_social.add_trace(\n",
    "        go.Histogram(\n",
    "            x=social_df['engagement_rate'],\n",
    "            nbinsx=30,\n",
    "            name='Engagement Rate Distribution',\n",
    "            marker=dict(color='lightgreen', opacity=0.7),\n",
    "            hovertemplate='Engagement Rate: %{x:.2f}%<br>Count: %{y}<extra></extra>'\n",
    "        ),\n",
    "        row=3, col=2\n",
    "    )\n",
    "    \n",
    "    # Add median line\n",
    "    median_rate = social_df['engagement_rate'].median()\n",
    "    fig_social.add_vline(\n",
    "        x=median_rate,\n",
    "        line_dash=\"dash\",\n",
    "        line_color=\"red\",\n",
    "        annotation_text=f\"Median: {median_rate:.2f}%\",\n",
    "        row=3, col=2\n",
    "    )\n",
    "    \n",
    "    # Update layout\n",
    "    fig_social.update_layout(\n",
    "        height=1400,\n",
    "        title={\n",
    "            'text': \"📱 Real-time Social Media Analytics Dashboard<br><sub>Live monitoring of engagement, sentiment, and viral content</sub>\",\n",
    "            'x': 0.5,\n",
    "            'xanchor': 'center',\n",
    "            'font': {'size': 20}\n",
    "        },\n",
    "        showlegend=True,\n",
    "        template='plotly_white'\n",
    "    )\n",
    "    \n",
    "    # Update axes\n",
    "    fig_social.update_xaxes(title_text=\"Time\", row=1, col=1)\n",
    "    fig_social.update_yaxes(title_text=\"Total Engagement\", row=1, col=1)\n",
    "    fig_social.update_yaxes(title_text=\"Posts Count\", secondary_y=True, row=1, col=1)\n",
    "    fig_social.update_xaxes(title_text=\"Platform\", row=1, col=2)\n",
    "    fig_social.update_yaxes(title_text=\"Average Engagement\", row=1, col=2)\n",
    "    fig_social.update_xaxes(title_text=\"Time\", row=2, col=1)\n",
    "    fig_social.update_yaxes(title_text=\"Sentiment Count\", row=2, col=1)\n",
    "    fig_social.update_yaxes(title_text=\"Sentiment Score\", secondary_y=True, row=2, col=1)\n",
    "    fig_social.update_xaxes(title_text=\"Reach\", row=2, col=2)\n",
    "    fig_social.update_yaxes(title_text=\"Total Engagement\", row=2, col=2)\n",
    "    fig_social.update_xaxes(title_text=\"Total Engagement\", row=3, col=1)\n",
    "    fig_social.update_yaxes(title_text=\"Hashtag\", row=3, col=1)\n",
    "    fig_social.update_xaxes(title_text=\"Engagement Rate (%)\", row=3, col=2)\n",
    "    fig_social.update_yaxes(title_text=\"Frequency\", row=3, col=2)\n",
    "    \n",
    "    return fig_social, social_df, platform_performance, hashtag_performance\n",
    "\n",
    "# Create social media analytics dashboard\n",
    "social_dashboard, social_media_data, platform_stats, hashtag_stats = create_social_media_analytics_dashboard()\n",
    "social_dashboard.show()\n",
    "\n",
    "# Social media analysis summary\n",
    "print(\"\\n📱 SOCIAL MEDIA ANALYTICS SUMMARY:\")\n",
    "print(\"=\" * 42)\n",
    "print(f\"📊 Content Analysis:\")\n",
    "print(f\"   📱 Total Posts Analyzed: {len(social_media_data):,}\")\n",
    "print(f\"   🌐 Platforms Monitored: {social_media_data['platform'].nunique()}\")\n",
    "print(f\"   📝 Content Types: {social_media_data['content_type'].nunique()}\")\n",
    "print(f\"   ⏱️  Monitoring Period: {(social_media_data['timestamp'].max() - social_media_data['timestamp'].min()).total_seconds()/3600:.1f} hours\")\n",
    "\n",
    "print(f\"\\n🔥 Viral Content Detection:\")\n",
    "viral_posts = social_media_data[social_media_data['is_viral'] == True]\n",
    "print(f\"   🚀 Viral Posts: {len(viral_posts)}\")\n",
    "print(f\"   📈 Viral Rate: {len(viral_posts)/len(social_media_data)*100:.2f}%\")\n",
    "if len(viral_posts) > 0:\n",
    "    top_viral_platform = viral_posts['platform'].value_counts().index[0]\n",
    "    print(f\"   🏆 Top Viral Platform: {top_viral_platform}\")\n",
    "\n",
    "print(f\"\\n💭 Sentiment Analysis:\")\n",
    "sentiment_counts = social_media_data['sentiment_label'].value_counts()\n",
    "for sentiment, count in sentiment_counts.items():\n",
    "    emoji = \"😊\" if sentiment == \"Positive\" else \"😐\" if sentiment == \"Neutral\" else \"😞\"\n",
    "    percentage = count/len(social_media_data)*100\n",
    "    print(f\"   {emoji} {sentiment}: {count:,} posts ({percentage:.1f}%)\")\n",
    "\n",
    "print(f\"\\n🏆 Top Performing Platform:\")\n",
    "top_platform = platform_stats.loc[platform_stats['avg_engagement'].idxmax()]\n",
    "print(f\"   🥇 {top_platform['platform']}: {top_platform['avg_engagement']:.0f} avg engagement\")\n",
    "print(f\"   📊 Engagement Rate: {top_platform['avg_engagement_rate']:.2f}%\")\n",
    "\n",
    "print(f\"\\n#️⃣ Hashtag Champions:\")\n",
    "top_hashtags = hashtag_stats.nlargest(3, 'total_engagement')\n",
    "for i, (_, hashtag) in enumerate(top_hashtags.iterrows()):\n",
    "    medal = \"🥇\" if i == 0 else \"🥈\" if i == 1 else \"🥉\"\n",
    "    print(f\"   {medal} {hashtag['hashtag']}: {hashtag['total_engagement']:,.0f} total engagement\")\n",
    "\n",
    "print(f\"\\n📈 Real-time Social Features:\")\n",
    "print(f\"   📊 Live engagement tracking\")\n",
    "print(f\"   💭 Real-time sentiment analysis\")\n",
    "print(f\"   🔥 Viral content detection\")\n",
    "print(f\"   📱 Multi-platform monitoring\")\n",
    "print(f\"   #️⃣ Hashtag performance tracking\")\n",
    "\n",
    "print(f\"\\n✅ Social Media Analytics Complete!\")\n",
    "print(f\"🎨 Ready for social media management and marketing teams!\")"
   ]
  },
  {
   "cell_type": "markdown",
   "id": "7187cf4b",
   "metadata": {},
   "source": [
    "## 🎉 Module 18 Complete: Real-time Data Visualization & Streaming\n",
    "\n",
    "### 🏆 What You've Accomplished\n",
    "\n",
    "✅ **Real-time Data Streaming Infrastructure**\n",
    "   - Built custom StreamingDataGenerator class\n",
    "   - Implemented continuous data simulation\n",
    "   - Created scalable streaming architecture\n",
    "\n",
    "✅ **Financial Market Dashboards**\n",
    "   - Real-time stock price monitoring\n",
    "   - Moving averages and volatility tracking\n",
    "   - Interactive trading volume analysis\n",
    "   - Market trend visualization\n",
    "\n",
    "✅ **IoT Sensor Monitoring**\n",
    "   - Environmental sensor data streams\n",
    "   - Real-time threshold monitoring\n",
    "   - Multi-sensor dashboard integration\n",
    "   - Industrial IoT applications\n",
    "\n",
    "✅ **Social Media Analytics**\n",
    "   - Live engagement tracking\n",
    "   - Sentiment analysis pipelines\n",
    "   - Viral content detection\n",
    "   - Multi-platform monitoring\n",
    "\n",
    "### 🚀 Key Technologies Mastered\n",
    "\n",
    "- **Plotly Dash**: Interactive web dashboards\n",
    "- **Real-time Updates**: Live data streaming\n",
    "- **Data Simulation**: Realistic streaming scenarios\n",
    "- **Multi-panel Layouts**: Complex dashboard design\n",
    "- **Performance Optimization**: Efficient real-time rendering\n",
    "\n",
    "### 🎯 Real-world Applications\n",
    "\n",
    "- **Financial Trading**: Live market monitoring\n",
    "- **Industrial IoT**: Sensor network dashboards\n",
    "- **Social Media**: Brand monitoring and analytics\n",
    "- **Operations**: Real-time business intelligence\n",
    "\n",
    "### 🔥 Advanced Features Implemented\n",
    "\n",
    "- Streaming data generation and processing\n",
    "- Real-time dashboard updates\n",
    "- Interactive filtering and controls\n",
    "- Multi-source data integration\n",
    "- Performance-optimized visualizations\n",
    "\n",
    "**Ready for Module 19: Advanced 3D Visualization & Immersive Analytics! 🎨✨**"
   ]
  }
 ],
 "metadata": {
  "kernelspec": {
   "display_name": "dataviz_env",
   "language": "python",
   "name": "python3"
  },
  "language_info": {
   "codemirror_mode": {
    "name": "ipython",
    "version": 3
   },
   "file_extension": ".py",
   "mimetype": "text/x-python",
   "name": "python",
   "nbconvert_exporter": "python",
   "pygments_lexer": "ipython3",
   "version": "3.10.18"
  }
 },
 "nbformat": 4,
 "nbformat_minor": 5
}
